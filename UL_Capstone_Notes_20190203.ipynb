{
 "cells": [
  {
   "cell_type": "markdown",
   "metadata": {},
   "source": [
    "# Preprocessing"
   ]
  },
  {
   "cell_type": "code",
   "execution_count": 234,
   "metadata": {
    "ExecuteTime": {
     "end_time": "2019-02-07T23:15:32.076736Z",
     "start_time": "2019-02-07T23:15:31.998334Z"
    }
   },
   "outputs": [],
   "source": [
    "from matplotlib import cm\n",
    "from sklearn.metrics import silhouette_samples, silhouette_score\n",
    "from sklearn.preprocessing import normalize\n",
    "from sklearn.cluster import KMeans, MiniBatchKMeans, AffinityPropagation, MeanShift, SpectralClustering, estimate_bandwidth\n",
    "import seaborn as sns\n",
    "import numpy as np\n",
    "import pandas as pd\n",
    "import matplotlib.pyplot as plt\n",
    "%matplotlib inline\n",
    "from sklearn.feature_extraction.text import CountVectorizer, TfidfVectorizer\n",
    "import re"
   ]
  },
  {
   "cell_type": "code",
   "execution_count": 235,
   "metadata": {
    "ExecuteTime": {
     "end_time": "2019-02-07T23:15:33.217863Z",
     "start_time": "2019-02-07T23:15:32.080687Z"
    }
   },
   "outputs": [
    {
     "data": {
      "text/html": [
       "<div>\n",
       "<style scoped>\n",
       "    .dataframe tbody tr th:only-of-type {\n",
       "        vertical-align: middle;\n",
       "    }\n",
       "\n",
       "    .dataframe tbody tr th {\n",
       "        vertical-align: top;\n",
       "    }\n",
       "\n",
       "    .dataframe thead th {\n",
       "        text-align: right;\n",
       "    }\n",
       "</style>\n",
       "<table border=\"1\" class=\"dataframe\">\n",
       "  <thead>\n",
       "    <tr style=\"text-align: right;\">\n",
       "      <th></th>\n",
       "      <th>artist</th>\n",
       "      <th>song</th>\n",
       "      <th>link</th>\n",
       "      <th>text</th>\n",
       "    </tr>\n",
       "  </thead>\n",
       "  <tbody>\n",
       "    <tr>\n",
       "      <th>0</th>\n",
       "      <td>ABBA</td>\n",
       "      <td>Ahe's My Kind Of Girl</td>\n",
       "      <td>/a/abba/ahes+my+kind+of+girl_20598417.html</td>\n",
       "      <td>Look at her face, it's a wonderful face  \\nAnd...</td>\n",
       "    </tr>\n",
       "    <tr>\n",
       "      <th>1</th>\n",
       "      <td>ABBA</td>\n",
       "      <td>Andante, Andante</td>\n",
       "      <td>/a/abba/andante+andante_20002708.html</td>\n",
       "      <td>Take it easy with me, please  \\nTouch me gentl...</td>\n",
       "    </tr>\n",
       "    <tr>\n",
       "      <th>2</th>\n",
       "      <td>ABBA</td>\n",
       "      <td>As Good As New</td>\n",
       "      <td>/a/abba/as+good+as+new_20003033.html</td>\n",
       "      <td>I'll never know why I had to go  \\nWhy I had t...</td>\n",
       "    </tr>\n",
       "    <tr>\n",
       "      <th>3</th>\n",
       "      <td>ABBA</td>\n",
       "      <td>Bang</td>\n",
       "      <td>/a/abba/bang_20598415.html</td>\n",
       "      <td>Making somebody happy is a question of give an...</td>\n",
       "    </tr>\n",
       "    <tr>\n",
       "      <th>4</th>\n",
       "      <td>ABBA</td>\n",
       "      <td>Bang-A-Boomerang</td>\n",
       "      <td>/a/abba/bang+a+boomerang_20002668.html</td>\n",
       "      <td>Making somebody happy is a question of give an...</td>\n",
       "    </tr>\n",
       "  </tbody>\n",
       "</table>\n",
       "</div>"
      ],
      "text/plain": [
       "  artist                   song                                        link  \\\n",
       "0   ABBA  Ahe's My Kind Of Girl  /a/abba/ahes+my+kind+of+girl_20598417.html   \n",
       "1   ABBA       Andante, Andante       /a/abba/andante+andante_20002708.html   \n",
       "2   ABBA         As Good As New        /a/abba/as+good+as+new_20003033.html   \n",
       "3   ABBA                   Bang                  /a/abba/bang_20598415.html   \n",
       "4   ABBA       Bang-A-Boomerang      /a/abba/bang+a+boomerang_20002668.html   \n",
       "\n",
       "                                                text  \n",
       "0  Look at her face, it's a wonderful face  \\nAnd...  \n",
       "1  Take it easy with me, please  \\nTouch me gentl...  \n",
       "2  I'll never know why I had to go  \\nWhy I had t...  \n",
       "3  Making somebody happy is a question of give an...  \n",
       "4  Making somebody happy is a question of give an...  "
      ]
     },
     "execution_count": 235,
     "metadata": {},
     "output_type": "execute_result"
    }
   ],
   "source": [
    "# Read in the csv to a data frame\n",
    "df = pd.read_csv('songdata.csv')\n",
    "df.head()"
   ]
  },
  {
   "cell_type": "code",
   "execution_count": 236,
   "metadata": {
    "ExecuteTime": {
     "end_time": "2019-02-07T23:15:33.237822Z",
     "start_time": "2019-02-07T23:15:33.221558Z"
    }
   },
   "outputs": [],
   "source": [
    "artist_list = list(df.artist.value_counts().index[5:15])"
   ]
  },
  {
   "cell_type": "code",
   "execution_count": 237,
   "metadata": {
    "ExecuteTime": {
     "end_time": "2019-02-07T23:15:33.247475Z",
     "start_time": "2019-02-07T23:15:33.241591Z"
    },
    "scrolled": true
   },
   "outputs": [
    {
     "data": {
      "text/plain": [
       "['Alabama',\n",
       " 'Loretta Lynn',\n",
       " 'Cher',\n",
       " 'Chaka Khan',\n",
       " 'Dean Martin',\n",
       " 'Hank Williams Jr.',\n",
       " 'Neil Young',\n",
       " 'Indigo Girls',\n",
       " 'Nazareth',\n",
       " 'Cliff Richard']"
      ]
     },
     "execution_count": 237,
     "metadata": {},
     "output_type": "execute_result"
    }
   ],
   "source": [
    "artist_list"
   ]
  },
  {
   "cell_type": "code",
   "execution_count": 238,
   "metadata": {
    "ExecuteTime": {
     "end_time": "2019-02-07T23:15:33.255115Z",
     "start_time": "2019-02-07T23:15:33.249671Z"
    }
   },
   "outputs": [
    {
     "data": {
      "text/plain": [
       "10"
      ]
     },
     "execution_count": 238,
     "metadata": {},
     "output_type": "execute_result"
    }
   ],
   "source": [
    "len(artist_list)"
   ]
  },
  {
   "cell_type": "code",
   "execution_count": 239,
   "metadata": {
    "ExecuteTime": {
     "end_time": "2019-02-07T23:15:33.279430Z",
     "start_time": "2019-02-07T23:15:33.257751Z"
    },
    "scrolled": true
   },
   "outputs": [
    {
     "data": {
      "text/html": [
       "<div>\n",
       "<style scoped>\n",
       "    .dataframe tbody tr th:only-of-type {\n",
       "        vertical-align: middle;\n",
       "    }\n",
       "\n",
       "    .dataframe tbody tr th {\n",
       "        vertical-align: top;\n",
       "    }\n",
       "\n",
       "    .dataframe thead th {\n",
       "        text-align: right;\n",
       "    }\n",
       "</style>\n",
       "<table border=\"1\" class=\"dataframe\">\n",
       "  <thead>\n",
       "    <tr style=\"text-align: right;\">\n",
       "      <th></th>\n",
       "      <th>artist</th>\n",
       "      <th>song</th>\n",
       "      <th>link</th>\n",
       "      <th>text</th>\n",
       "    </tr>\n",
       "  </thead>\n",
       "  <tbody>\n",
       "    <tr>\n",
       "      <th>10813</th>\n",
       "      <td>Kiss</td>\n",
       "      <td>100,000 Years</td>\n",
       "      <td>/k/kiss/100000+years_20079774.html</td>\n",
       "      <td>I'm sorry to have taken so long  \\nIt must hav...</td>\n",
       "    </tr>\n",
       "    <tr>\n",
       "      <th>10814</th>\n",
       "      <td>Kiss</td>\n",
       "      <td>2,000 Man</td>\n",
       "      <td>/k/kiss/2000+man_20079804.html</td>\n",
       "      <td>Well, my name it is a number  \\nIt's on a piec...</td>\n",
       "    </tr>\n",
       "    <tr>\n",
       "      <th>10815</th>\n",
       "      <td>Kiss</td>\n",
       "      <td>Baby Driver</td>\n",
       "      <td>/k/kiss/baby+driver_20079944.html</td>\n",
       "      <td>Go baby driver  \\nBeen drivin' on down the roa...</td>\n",
       "    </tr>\n",
       "    <tr>\n",
       "      <th>10816</th>\n",
       "      <td>Kiss</td>\n",
       "      <td>Black Diamond</td>\n",
       "      <td>/k/kiss/black+diamond_20079776.html</td>\n",
       "      <td>Out on the street for a living  \\nPicture's on...</td>\n",
       "    </tr>\n",
       "    <tr>\n",
       "      <th>10817</th>\n",
       "      <td>Kiss</td>\n",
       "      <td>Calling Dr. Love</td>\n",
       "      <td>/k/kiss/calling+dr+love_10159425.html</td>\n",
       "      <td>You need my love baby, oh so bad  \\nYou're not...</td>\n",
       "    </tr>\n",
       "  </tbody>\n",
       "</table>\n",
       "</div>"
      ],
      "text/plain": [
       "      artist              song                                   link  \\\n",
       "10813   Kiss     100,000 Years     /k/kiss/100000+years_20079774.html   \n",
       "10814   Kiss         2,000 Man         /k/kiss/2000+man_20079804.html   \n",
       "10815   Kiss       Baby Driver      /k/kiss/baby+driver_20079944.html   \n",
       "10816   Kiss     Black Diamond    /k/kiss/black+diamond_20079776.html   \n",
       "10817   Kiss  Calling Dr. Love  /k/kiss/calling+dr+love_10159425.html   \n",
       "\n",
       "                                                    text  \n",
       "10813  I'm sorry to have taken so long  \\nIt must hav...  \n",
       "10814  Well, my name it is a number  \\nIt's on a piec...  \n",
       "10815  Go baby driver  \\nBeen drivin' on down the roa...  \n",
       "10816  Out on the street for a living  \\nPicture's on...  \n",
       "10817  You need my love baby, oh so bad  \\nYou're not...  "
      ]
     },
     "execution_count": 239,
     "metadata": {},
     "output_type": "execute_result"
    }
   ],
   "source": [
    "df[df.artist == 'Kiss'].head()"
   ]
  },
  {
   "cell_type": "code",
   "execution_count": 240,
   "metadata": {
    "ExecuteTime": {
     "end_time": "2019-02-07T23:15:33.306423Z",
     "start_time": "2019-02-07T23:15:33.281943Z"
    }
   },
   "outputs": [],
   "source": [
    "df['ten_artists'] = np.where(np.isin(df['artist'], artist_list), 1, 0)"
   ]
  },
  {
   "cell_type": "code",
   "execution_count": 241,
   "metadata": {
    "ExecuteTime": {
     "end_time": "2019-02-07T23:15:33.334557Z",
     "start_time": "2019-02-07T23:15:33.308987Z"
    },
    "scrolled": false
   },
   "outputs": [],
   "source": [
    "# Create new subset df and remove extraneous columns.\n",
    "df_sub = df[df.ten_artists == 1]\n",
    "df_sub = df_sub[['artist','text']]"
   ]
  },
  {
   "cell_type": "code",
   "execution_count": 242,
   "metadata": {
    "ExecuteTime": {
     "end_time": "2019-02-07T23:15:33.360473Z",
     "start_time": "2019-02-07T23:15:33.338427Z"
    },
    "scrolled": true
   },
   "outputs": [
    {
     "data": {
      "text/html": [
       "<div>\n",
       "<style scoped>\n",
       "    .dataframe tbody tr th:only-of-type {\n",
       "        vertical-align: middle;\n",
       "    }\n",
       "\n",
       "    .dataframe tbody tr th {\n",
       "        vertical-align: top;\n",
       "    }\n",
       "\n",
       "    .dataframe thead th {\n",
       "        text-align: right;\n",
       "    }\n",
       "</style>\n",
       "<table border=\"1\" class=\"dataframe\">\n",
       "  <thead>\n",
       "    <tr style=\"text-align: right;\">\n",
       "      <th></th>\n",
       "      <th>artist</th>\n",
       "      <th>text</th>\n",
       "    </tr>\n",
       "  </thead>\n",
       "  <tbody>\n",
       "    <tr>\n",
       "      <th>361</th>\n",
       "      <td>Alabama</td>\n",
       "      <td>Calling, calling all angels, oh I'm calling, c...</td>\n",
       "    </tr>\n",
       "    <tr>\n",
       "      <th>362</th>\n",
       "      <td>Alabama</td>\n",
       "      <td>I thought it was forever  \\nI thought it would...</td>\n",
       "    </tr>\n",
       "    <tr>\n",
       "      <th>363</th>\n",
       "      <td>Alabama</td>\n",
       "      <td>Somewhere in the mountains......... In norther...</td>\n",
       "    </tr>\n",
       "    <tr>\n",
       "      <th>364</th>\n",
       "      <td>Alabama</td>\n",
       "      <td>By now in New York City, there's snow on the g...</td>\n",
       "    </tr>\n",
       "    <tr>\n",
       "      <th>365</th>\n",
       "      <td>Alabama</td>\n",
       "      <td>All my friends are asking me where I plan to s...</td>\n",
       "    </tr>\n",
       "  </tbody>\n",
       "</table>\n",
       "</div>"
      ],
      "text/plain": [
       "      artist                                               text\n",
       "361  Alabama  Calling, calling all angels, oh I'm calling, c...\n",
       "362  Alabama  I thought it was forever  \\nI thought it would...\n",
       "363  Alabama  Somewhere in the mountains......... In norther...\n",
       "364  Alabama  By now in New York City, there's snow on the g...\n",
       "365  Alabama  All my friends are asking me where I plan to s..."
      ]
     },
     "execution_count": 242,
     "metadata": {},
     "output_type": "execute_result"
    }
   ],
   "source": [
    "df_sub.head()"
   ]
  },
  {
   "cell_type": "code",
   "execution_count": 243,
   "metadata": {
    "ExecuteTime": {
     "end_time": "2019-02-07T23:15:33.385591Z",
     "start_time": "2019-02-07T23:15:33.371540Z"
    },
    "scrolled": false
   },
   "outputs": [
    {
     "data": {
      "text/plain": [
       "Cher                 187\n",
       "Loretta Lynn         187\n",
       "Alabama              187\n",
       "Chaka Khan           186\n",
       "Dean Martin          186\n",
       "Hank Williams Jr.    185\n",
       "Neil Young           185\n",
       "Cliff Richard        184\n",
       "Nazareth             184\n",
       "Indigo Girls         184\n",
       "Name: artist, dtype: int64"
      ]
     },
     "execution_count": 243,
     "metadata": {},
     "output_type": "execute_result"
    }
   ],
   "source": [
    "df_sub.artist.value_counts()"
   ]
  },
  {
   "cell_type": "code",
   "execution_count": 244,
   "metadata": {
    "ExecuteTime": {
     "end_time": "2019-02-07T23:15:33.417586Z",
     "start_time": "2019-02-07T23:15:33.399881Z"
    },
    "scrolled": true
   },
   "outputs": [
    {
     "name": "stdout",
     "output_type": "stream",
     "text": [
      "<class 'pandas.core.frame.DataFrame'>\n",
      "Int64Index: 1855 entries, 361 to 45446\n",
      "Data columns (total 2 columns):\n",
      "artist    1855 non-null object\n",
      "text      1855 non-null object\n",
      "dtypes: object(2)\n",
      "memory usage: 43.5+ KB\n"
     ]
    }
   ],
   "source": [
    "df_sub.info()"
   ]
  },
  {
   "cell_type": "code",
   "execution_count": 245,
   "metadata": {
    "ExecuteTime": {
     "end_time": "2019-02-07T23:15:33.432657Z",
     "start_time": "2019-02-07T23:15:33.425589Z"
    },
    "scrolled": false
   },
   "outputs": [
    {
     "name": "stdout",
     "output_type": "stream",
     "text": [
      "[\"I thought it was forever  \\nI thought it would last  \\nGotta try to make it  \\nA page of my past  \\nYou didn't even say goodbye  \\nWhen you slammed that door  \\n  \\nNow I'm lyin' here alone  \\nIn what once was our bed  \\nTrying to forget  \\nAll the cruel words you said  \\nAll the radio was playing  \\nWhat once was our favorite song  \\n  \\nOh enough is enough I won't take anymore  \\nI'm picking myself up off the floor  \\n  \\n'Cause you can't keep a good man down  \\nYou can't keep a good man down  \\nOh no you can't keep a good man down  \\nSugar, you can't keep a good man down  \\n  \\nGonna dress up in my finest  \\nClothes that I own  \\nAnd take it to the streets  \\nI won't be lonely for long  \\nGonna put on my best moves  \\nOn every single woman I see  \\n  \\nNow you thought you could break me  \\nAdd me to your list  \\nNotch me on your gun  \\nLet me tell you this  \\nI've got news for you baby  \\nI don't break that easily  \\n  \\n'Cause you can't keep a good man down  \\nYou can't keep a good man down  \\nOh no you can't keep a good man down  \\nSugar, you can't keep a good man down  \\n  \\nI'll be out there on the scene  \\nHangin' with my friends  \\nThis world's gonna see  \\nMe smilin' again  \\nI'm taking some time  \\nTo erase you from my memory  \\n  \\nDon't write any letters  \\nDon't call me on the phone  \\nDon't knock on my door  \\nCause to you I'm not at home  \\nI know there's a woman out there  \\nFor a man like me  \\n  \\n'Cause you can't keep a good man down  \\nYou can't keep a good man down  \\nOh no you can't keep a good man down  \\nSugar, you can't keep a good man down  \\n  \\nOh enough is enough I won't take anymore  \\nI'm picking myself up off the floor  \\n  \\n'Cause you can't keep a good man down  \\nBaby, you can't keep a good man down  \\nHoney, you can't keep a good man down  \\nSugar, you can't keep a good man down\\n\\n\"] \n",
      "\n",
      "[\"Why should I feel discouraged?  \\nAnd why should the shadows come?  \\nAnd why should my heart be lonely  \\nAnd long for heaven and home?  \\n  \\nWhen Jesus is my portion  \\nMy constant friend is He  \\nHis eye is on the sparrow  \\nAnd I know He watches me  \\n  \\nAnd I sing because I'm happy  \\nI sing because I am free  \\nHis eye is on the sparrow  \\nAnd I know He watches me  \\n  \\nLet not your heart be troubled  \\nHis tender word I hear  \\nAnd resting on His goodness  \\nI lose my doubts and fears  \\n  \\nThough by the path He leads us  \\nBut one step I may see  \\nHis eye is on the sparrows  \\nAnd I know He watches me  \\n  \\nAnd I sing because I'm happy  \\nAnd I sing because I'm free  \\nHis eye is on the sparrow  \\nAnd I know He watches me  \\n  \\nHis eye is on the sparrow  \\nAnd I know He watches me\\n\\n\"] \n",
      "\n"
     ]
    }
   ],
   "source": [
    "# Inspect some samples\n",
    "print(df_sub.text[1:2].values, '\\n')\n",
    "print(df_sub.text[45:46].values, '\\n')"
   ]
  },
  {
   "cell_type": "code",
   "execution_count": 246,
   "metadata": {
    "ExecuteTime": {
     "end_time": "2019-02-07T23:15:33.440366Z",
     "start_time": "2019-02-07T23:15:33.434689Z"
    }
   },
   "outputs": [],
   "source": [
    "# We will need to remove those newlines, but it doesn't seem like there's too much else to \n",
    "# be really worried about."
   ]
  },
  {
   "cell_type": "markdown",
   "metadata": {},
   "source": [
    "### Clean Text and Split"
   ]
  },
  {
   "cell_type": "code",
   "execution_count": 247,
   "metadata": {
    "ExecuteTime": {
     "end_time": "2019-02-07T23:15:34.172103Z",
     "start_time": "2019-02-07T23:15:33.442323Z"
    }
   },
   "outputs": [
    {
     "data": {
      "text/html": [
       "<div>\n",
       "<style scoped>\n",
       "    .dataframe tbody tr th:only-of-type {\n",
       "        vertical-align: middle;\n",
       "    }\n",
       "\n",
       "    .dataframe tbody tr th {\n",
       "        vertical-align: top;\n",
       "    }\n",
       "\n",
       "    .dataframe thead th {\n",
       "        text-align: right;\n",
       "    }\n",
       "</style>\n",
       "<table border=\"1\" class=\"dataframe\">\n",
       "  <thead>\n",
       "    <tr style=\"text-align: right;\">\n",
       "      <th></th>\n",
       "      <th>artist</th>\n",
       "      <th>text</th>\n",
       "      <th>clean_text</th>\n",
       "    </tr>\n",
       "  </thead>\n",
       "  <tbody>\n",
       "    <tr>\n",
       "      <th>361</th>\n",
       "      <td>Alabama</td>\n",
       "      <td>Calling, calling all angels, oh I'm calling, c...</td>\n",
       "      <td>Calling, calling all angels, oh I'm calling, c...</td>\n",
       "    </tr>\n",
       "    <tr>\n",
       "      <th>362</th>\n",
       "      <td>Alabama</td>\n",
       "      <td>I thought it was forever  \\nI thought it would...</td>\n",
       "      <td>I thought it was forever I thought it would la...</td>\n",
       "    </tr>\n",
       "    <tr>\n",
       "      <th>363</th>\n",
       "      <td>Alabama</td>\n",
       "      <td>Somewhere in the mountains......... In norther...</td>\n",
       "      <td>Somewhere in the mountains......... In norther...</td>\n",
       "    </tr>\n",
       "    <tr>\n",
       "      <th>364</th>\n",
       "      <td>Alabama</td>\n",
       "      <td>By now in New York City, there's snow on the g...</td>\n",
       "      <td>By now in New York City, there's snow on the g...</td>\n",
       "    </tr>\n",
       "    <tr>\n",
       "      <th>365</th>\n",
       "      <td>Alabama</td>\n",
       "      <td>All my friends are asking me where I plan to s...</td>\n",
       "      <td>All my friends are asking me where I plan to s...</td>\n",
       "    </tr>\n",
       "  </tbody>\n",
       "</table>\n",
       "</div>"
      ],
      "text/plain": [
       "      artist                                               text  \\\n",
       "361  Alabama  Calling, calling all angels, oh I'm calling, c...   \n",
       "362  Alabama  I thought it was forever  \\nI thought it would...   \n",
       "363  Alabama  Somewhere in the mountains......... In norther...   \n",
       "364  Alabama  By now in New York City, there's snow on the g...   \n",
       "365  Alabama  All my friends are asking me where I plan to s...   \n",
       "\n",
       "                                            clean_text  \n",
       "361  Calling, calling all angels, oh I'm calling, c...  \n",
       "362  I thought it was forever I thought it would la...  \n",
       "363  Somewhere in the mountains......... In norther...  \n",
       "364  By now in New York City, there's snow on the g...  \n",
       "365  All my friends are asking me where I plan to s...  "
      ]
     },
     "execution_count": 247,
     "metadata": {},
     "output_type": "execute_result"
    }
   ],
   "source": [
    "# Utility function to clean text\n",
    "def text_cleaner(text):\n",
    "    text = re.sub(r'Chorus', ' ', text)\n",
    "    text = re.sub(r'Verse', ' ', text)\n",
    "    text = ' '.join(text.split())\n",
    "    \n",
    "    return text\n",
    "\n",
    "df_sub['clean_text'] = df_sub.text.apply(lambda row: text_cleaner(row))\n",
    "df_sub.head()"
   ]
  },
  {
   "cell_type": "code",
   "execution_count": 248,
   "metadata": {
    "ExecuteTime": {
     "end_time": "2019-02-07T23:15:34.183592Z",
     "start_time": "2019-02-07T23:15:34.175166Z"
    }
   },
   "outputs": [
    {
     "data": {
      "text/plain": [
       "array(['She left her neighborhood In which everyone was filthy rich She left her parent\\'s home And strained with a vagabond Who made piles of love she never heard And she believed his every word She left no forwarding address Just took her youth and happiness As with the boy she vanished in The secret sweetness of their sin Oh, young girl Oh, young girl of sixteen Child of spring-time Still green Lying there by the road He told her, \"love demanded space\" So they roamed from place to place Although she realized she\\'d sinned She grew caution to the wind As she followed him around While he slowly dragged her down So overpowering was her love The it had made a captive of The young girl\\'s heart and soul and mind In other words: love drove her blind Oh, young girl Oh, young girl of sixteen Child of spring-time Still green Laying there by the road Too much emotion for a girl She let her heart become her world What world that God has never rocked For a sunder we are taught Had she been wise and she\\'d have known She could feed him love alone She should of known the day would come When he would quit her just for crumbs He needed fresh young meat to love And left her heart and mind to starve Oh, young girl Oh, young girl of sixteen Child of spring-time Still green Lying there by the road',\n",
       "       \"Well, here we are again I guess it must be fate We've tried it on our own But deep inside we've known We'd be back to set things straight I still remember when your kiss was so brand new Every memory repeats Every step I take retreats Every journey always brings me back to you After all the stops and starts We keep comin' back to these two hearts Two angels who've been rescued from the fall After all that we've been through It all comes down to me and you I guess it's meant to be, forever you and me, after all When love is truly right (This time it's truly right) It lives from year to year It changes as it goes Oh, and on the way it grows But it never disappears After all the stops and starts We keep comin' back to these two hearts Two angels who've been rescued from the fall After all that we've been through It all comes down to me and you I guess it's meant to be, forever you and me, after all Always just beyond my touch You know I needed you so much After all, what else is livin' for? After all the stops and starts We keep comin' back to these two hearts Two angels who've been rescued from the fall After all that we've been through It all comes down to me and you I guess it's meant to be, forever you and me, after all\"],\n",
       "      dtype=object)"
      ]
     },
     "execution_count": 248,
     "metadata": {},
     "output_type": "execute_result"
    }
   ],
   "source": [
    "df_sub[df_sub.artist == 'Cher'].clean_text[2:4].values"
   ]
  },
  {
   "cell_type": "code",
   "execution_count": 249,
   "metadata": {
    "ExecuteTime": {
     "end_time": "2019-02-07T23:15:34.192924Z",
     "start_time": "2019-02-07T23:15:34.185814Z"
    }
   },
   "outputs": [],
   "source": [
    "# Split off 25% as holdout group\n",
    "from sklearn.model_selection import train_test_split\n",
    "df_sub_train, df_sub_test = train_test_split(df_sub, test_size=.25, random_state=3)"
   ]
  },
  {
   "cell_type": "markdown",
   "metadata": {},
   "source": [
    "# Unsupervised Approaches"
   ]
  },
  {
   "cell_type": "markdown",
   "metadata": {
    "ExecuteTime": {
     "end_time": "2019-02-06T01:31:04.228930Z",
     "start_time": "2019-02-06T01:31:04.225842Z"
    }
   },
   "source": [
    "## TFIDF and CountVectorizer"
   ]
  },
  {
   "cell_type": "code",
   "execution_count": 250,
   "metadata": {
    "ExecuteTime": {
     "end_time": "2019-02-07T23:15:34.201366Z",
     "start_time": "2019-02-07T23:15:34.195815Z"
    }
   },
   "outputs": [],
   "source": [
    "df_sub_train1 = df_sub_train[['artist','clean_text']]"
   ]
  },
  {
   "cell_type": "code",
   "execution_count": 251,
   "metadata": {
    "ExecuteTime": {
     "end_time": "2019-02-07T23:15:34.211459Z",
     "start_time": "2019-02-07T23:15:34.203628Z"
    }
   },
   "outputs": [
    {
     "data": {
      "text/html": [
       "<div>\n",
       "<style scoped>\n",
       "    .dataframe tbody tr th:only-of-type {\n",
       "        vertical-align: middle;\n",
       "    }\n",
       "\n",
       "    .dataframe tbody tr th {\n",
       "        vertical-align: top;\n",
       "    }\n",
       "\n",
       "    .dataframe thead th {\n",
       "        text-align: right;\n",
       "    }\n",
       "</style>\n",
       "<table border=\"1\" class=\"dataframe\">\n",
       "  <thead>\n",
       "    <tr style=\"text-align: right;\">\n",
       "      <th></th>\n",
       "      <th>artist</th>\n",
       "      <th>clean_text</th>\n",
       "    </tr>\n",
       "  </thead>\n",
       "  <tbody>\n",
       "    <tr>\n",
       "      <th>3250</th>\n",
       "      <td>Cliff Richard</td>\n",
       "      <td>Oh no, don't let go - all I need is a little m...</td>\n",
       "    </tr>\n",
       "    <tr>\n",
       "      <th>36835</th>\n",
       "      <td>Indigo Girls</td>\n",
       "      <td>Anybody looking on they can see you're not so ...</td>\n",
       "    </tr>\n",
       "    <tr>\n",
       "      <th>27351</th>\n",
       "      <td>Cher</td>\n",
       "      <td>Long distance love affair Writer klaus meine T...</td>\n",
       "    </tr>\n",
       "    <tr>\n",
       "      <th>8462</th>\n",
       "      <td>Indigo Girls</td>\n",
       "      <td>You can go to the east to find your Your inner...</td>\n",
       "    </tr>\n",
       "    <tr>\n",
       "      <th>3898</th>\n",
       "      <td>Dean Martin</td>\n",
       "      <td>When love comes in and takes you for a spin Oo...</td>\n",
       "    </tr>\n",
       "  </tbody>\n",
       "</table>\n",
       "</div>"
      ],
      "text/plain": [
       "              artist                                         clean_text\n",
       "3250   Cliff Richard  Oh no, don't let go - all I need is a little m...\n",
       "36835   Indigo Girls  Anybody looking on they can see you're not so ...\n",
       "27351           Cher  Long distance love affair Writer klaus meine T...\n",
       "8462    Indigo Girls  You can go to the east to find your Your inner...\n",
       "3898     Dean Martin  When love comes in and takes you for a spin Oo..."
      ]
     },
     "execution_count": 251,
     "metadata": {},
     "output_type": "execute_result"
    }
   ],
   "source": [
    "df_sub_train1.head()"
   ]
  },
  {
   "cell_type": "markdown",
   "metadata": {},
   "source": [
    "### TFIDF"
   ]
  },
  {
   "cell_type": "code",
   "execution_count": 252,
   "metadata": {
    "ExecuteTime": {
     "end_time": "2019-02-07T23:15:34.219685Z",
     "start_time": "2019-02-07T23:15:34.213602Z"
    }
   },
   "outputs": [],
   "source": [
    "vectorizer = TfidfVectorizer(max_df=0.7,\n",
    "                             min_df=20,\n",
    "                             stop_words='english',\n",
    "                             lowercase=True,\n",
    "                             use_idf=True,\n",
    "                             norm=u'l2'\n",
    "                            )"
   ]
  },
  {
   "cell_type": "code",
   "execution_count": 253,
   "metadata": {
    "ExecuteTime": {
     "end_time": "2019-02-07T23:15:34.462804Z",
     "start_time": "2019-02-07T23:15:34.222004Z"
    }
   },
   "outputs": [
    {
     "name": "stdout",
     "output_type": "stream",
     "text": [
      "Number of features: 627\n"
     ]
    }
   ],
   "source": [
    "lyrics_tfidf = vectorizer.fit_transform(df_sub_train1.clean_text)\n",
    "print('Number of features: {}'.format(lyrics_tfidf.get_shape()[1]))"
   ]
  },
  {
   "cell_type": "code",
   "execution_count": 254,
   "metadata": {
    "ExecuteTime": {
     "end_time": "2019-02-07T23:15:34.467233Z",
     "start_time": "2019-02-07T23:15:34.464567Z"
    }
   },
   "outputs": [],
   "source": [
    "lyrics_tfidf_csr = lyrics_tfidf.tocsr()"
   ]
  },
  {
   "cell_type": "code",
   "execution_count": 255,
   "metadata": {
    "ExecuteTime": {
     "end_time": "2019-02-07T23:15:34.486712Z",
     "start_time": "2019-02-07T23:15:34.469433Z"
    }
   },
   "outputs": [],
   "source": [
    "lyrics_norm = normalize(lyrics_tfidf_csr.toarray())"
   ]
  },
  {
   "cell_type": "markdown",
   "metadata": {},
   "source": [
    "#### KMeans"
   ]
  },
  {
   "cell_type": "code",
   "execution_count": 256,
   "metadata": {
    "ExecuteTime": {
     "end_time": "2019-02-07T23:15:34.499128Z",
     "start_time": "2019-02-07T23:15:34.488707Z"
    },
    "scrolled": true
   },
   "outputs": [
    {
     "data": {
      "text/plain": [
       "count            1391\n",
       "unique             10\n",
       "top       Dean Martin\n",
       "freq              147\n",
       "Name: artist, dtype: object"
      ]
     },
     "execution_count": 256,
     "metadata": {},
     "output_type": "execute_result"
    }
   ],
   "source": [
    "df_sub_train1.artist.describe()"
   ]
  },
  {
   "cell_type": "code",
   "execution_count": 257,
   "metadata": {
    "ExecuteTime": {
     "end_time": "2019-02-07T23:16:22.750683Z",
     "start_time": "2019-02-07T23:15:34.501371Z"
    }
   },
   "outputs": [
    {
     "data": {
      "image/png": "[encoded data removed]",
      "text/plain": [
       "<Figure size 432x288 with 1 Axes>"
      ]
     },
     "metadata": {
      "needs_background": "light"
     },
     "output_type": "display_data"
    }
   ],
   "source": [
    "# Use the elbow method to see how many clusters kmeans is detecting\n",
    "# Look at silhouette coefficients\n",
    "distortions = []\n",
    "for i in range(1, 30):\n",
    "    km = KMeans(n_clusters=i,\n",
    "                init='k-means++',\n",
    "                random_state=3)\n",
    "    km.fit(lyrics_norm)\n",
    "    distortions.append(km.inertia_)\n",
    "plt.plot(range(1, 30), distortions, marker='o')\n",
    "plt.xlabel('Number of Clusters')\n",
    "plt.ylabel('Distortion')\n",
    "plt.show()"
   ]
  },
  {
   "cell_type": "code",
   "execution_count": 258,
   "metadata": {
    "ExecuteTime": {
     "end_time": "2019-02-07T23:16:22.754605Z",
     "start_time": "2019-02-07T23:16:22.752246Z"
    }
   },
   "outputs": [],
   "source": [
    "# Doesn't look like there's much of a change in the distortion reduction around 15 clusters. KMeans may be \n",
    "# struggling to detect 10 distinct clusters.\n",
    "# Let's take a look at the silhouette shapes."
   ]
  },
  {
   "cell_type": "code",
   "execution_count": 259,
   "metadata": {
    "ExecuteTime": {
     "end_time": "2019-02-07T23:16:27.576380Z",
     "start_time": "2019-02-07T23:16:22.756988Z"
    },
    "scrolled": true
   },
   "outputs": [
    {
     "data": {
      "image/png": "[encoded data removed]",
      "text/plain": [
       "<Figure size 432x288 with 1 Axes>"
      ]
     },
     "metadata": {
      "needs_background": "light"
     },
     "output_type": "display_data"
    }
   ],
   "source": [
    "km = KMeans(n_clusters=10,\n",
    "            init='k-means++',\n",
    "            random_state=3)\n",
    "y_km = km.fit_predict(lyrics_norm)\n",
    "\n",
    "cluster_labels = np.unique(y_km)\n",
    "n_clusters = cluster_labels.shape[0]\n",
    "silhouette_vals = silhouette_samples(lyrics_norm, y_km, metric='euclidean')\n",
    "\n",
    "y_ax_lower, y_ax_upper = 0, 0\n",
    "yticks = []\n",
    "for i, c in enumerate(cluster_labels):\n",
    "    c_silhouette_vals = silhouette_vals[y_km == c]\n",
    "    c_silhouette_vals.sort()\n",
    "    y_ax_upper += len(c_silhouette_vals)\n",
    "    color = cm.jet(i / n_clusters)\n",
    "    plt.barh(range(y_ax_lower, y_ax_upper),\n",
    "             c_silhouette_vals,\n",
    "             height=1.0,\n",
    "             edgecolor='none',\n",
    "             color=color)\n",
    "    yticks.append((y_ax_lower + y_ax_upper) / 2)\n",
    "    y_ax_lower += len(c_silhouette_vals)\n",
    "silhouette_avg = np.mean(silhouette_vals)\n",
    "plt.axvline(silhouette_avg,\n",
    "            color='red',\n",
    "            linestyle='--')\n",
    "plt.yticks(yticks, cluster_labels + 1)\n",
    "plt.ylabel('Cluster')\n",
    "plt.xlabel('Silhouette coefficient')\n",
    "plt.show()"
   ]
  },
  {
   "cell_type": "markdown",
   "metadata": {},
   "source": [
    "#### Mean Shift"
   ]
  },
  {
   "cell_type": "code",
   "execution_count": 260,
   "metadata": {
    "ExecuteTime": {
     "end_time": "2019-02-07T23:16:32.327210Z",
     "start_time": "2019-02-07T23:16:27.578470Z"
    }
   },
   "outputs": [
    {
     "name": "stdout",
     "output_type": "stream",
     "text": [
      "Number of estimated clusters: 1\n"
     ]
    }
   ],
   "source": [
    "bandwidth = estimate_bandwidth(lyrics_norm, quantile=0.4)\n",
    "\n",
    "ms = MeanShift(bandwidth=bandwidth, bin_seeding=True)\n",
    "ms.fit(lyrics_norm)\n",
    "\n",
    "labels = ms.labels_\n",
    "cluster_centers = ms.cluster_centers_\n",
    "\n",
    "n_clusters_ = len(np.unique(labels))\n",
    "print('Number of estimated clusters: {}'.format(n_clusters_))"
   ]
  },
  {
   "cell_type": "code",
   "execution_count": 261,
   "metadata": {
    "ExecuteTime": {
     "end_time": "2019-02-07T23:16:32.332513Z",
     "start_time": "2019-02-07T23:16:32.329677Z"
    }
   },
   "outputs": [],
   "source": [
    "# Mean Shift clearly not detecting distinct clusters"
   ]
  },
  {
   "cell_type": "markdown",
   "metadata": {},
   "source": [
    "#### Spectral Clustering"
   ]
  },
  {
   "cell_type": "code",
   "execution_count": 262,
   "metadata": {
    "ExecuteTime": {
     "end_time": "2019-02-07T23:16:35.994491Z",
     "start_time": "2019-02-07T23:16:32.335589Z"
    }
   },
   "outputs": [
    {
     "data": {
      "image/png": "[encoded data removed]",
      "text/plain": [
       "<Figure size 432x288 with 1 Axes>"
      ]
     },
     "metadata": {
      "needs_background": "light"
     },
     "output_type": "display_data"
    }
   ],
   "source": [
    "sc = SpectralClustering(n_clusters=10,\n",
    "            random_state=3)\n",
    "y_sc = sc.fit_predict(lyrics_norm)\n",
    "\n",
    "cluster_labels = np.unique(y_sc)\n",
    "n_clusters = cluster_labels.shape[0]\n",
    "silhouette_vals = silhouette_samples(lyrics_norm, y_sc, metric='euclidean')\n",
    "\n",
    "y_ax_lower, y_ax_upper = 0, 0\n",
    "yticks = []\n",
    "for i, c in enumerate(cluster_labels):\n",
    "    c_silhouette_vals = silhouette_vals[y_km == c]\n",
    "    c_silhouette_vals.sort()\n",
    "    y_ax_upper += len(c_silhouette_vals)\n",
    "    color = cm.jet(i / n_clusters)\n",
    "    plt.barh(range(y_ax_lower, y_ax_upper),\n",
    "             c_silhouette_vals,\n",
    "             height=1.0,\n",
    "             edgecolor='none',\n",
    "             color=color)\n",
    "    yticks.append((y_ax_lower + y_ax_upper) / 2)\n",
    "    y_ax_lower += len(c_silhouette_vals)\n",
    "silhouette_avg = np.mean(silhouette_vals)\n",
    "plt.axvline(silhouette_avg,\n",
    "            color='red',\n",
    "            linestyle='--')\n",
    "plt.yticks(yticks, cluster_labels + 1)\n",
    "plt.ylabel('Cluster')\n",
    "plt.xlabel('Silhouette coefficient')\n",
    "plt.show()"
   ]
  },
  {
   "cell_type": "code",
   "execution_count": 263,
   "metadata": {
    "ExecuteTime": {
     "end_time": "2019-02-07T23:16:35.999583Z",
     "start_time": "2019-02-07T23:16:35.996853Z"
    }
   },
   "outputs": [],
   "source": [
    "# Spectral Clustering also appears to be struggling"
   ]
  },
  {
   "cell_type": "markdown",
   "metadata": {},
   "source": [
    "### CountVectorizer"
   ]
  },
  {
   "cell_type": "code",
   "execution_count": 264,
   "metadata": {
    "ExecuteTime": {
     "end_time": "2019-02-07T23:16:36.488174Z",
     "start_time": "2019-02-07T23:16:36.001690Z"
    }
   },
   "outputs": [
    {
     "name": "stdout",
     "output_type": "stream",
     "text": [
      "Number of features: 627\n"
     ]
    }
   ],
   "source": [
    "vect = CountVectorizer(max_df=0.7, min_df=20, stop_words='english')\n",
    "X_dtm = vect.fit_transform(df_sub_train1.clean_text)\n",
    "print('Number of features: {}'.format(X_dtm.get_shape()[1]))"
   ]
  },
  {
   "cell_type": "code",
   "execution_count": 265,
   "metadata": {
    "ExecuteTime": {
     "end_time": "2019-02-07T23:16:36.500287Z",
     "start_time": "2019-02-07T23:16:36.492864Z"
    }
   },
   "outputs": [
    {
     "data": {
      "text/plain": [
       "318"
      ]
     },
     "execution_count": 265,
     "metadata": {},
     "output_type": "execute_result"
    }
   ],
   "source": [
    "len(vect.get_stop_words())\n",
    "# Took out quite a few stop words"
   ]
  },
  {
   "cell_type": "code",
   "execution_count": 266,
   "metadata": {
    "ExecuteTime": {
     "end_time": "2019-02-07T23:16:36.525396Z",
     "start_time": "2019-02-07T23:16:36.506332Z"
    }
   },
   "outputs": [],
   "source": [
    "X_dtm_norm = normalize(X_dtm.toarray())"
   ]
  },
  {
   "cell_type": "markdown",
   "metadata": {},
   "source": [
    "#### KMeans"
   ]
  },
  {
   "cell_type": "code",
   "execution_count": 267,
   "metadata": {
    "ExecuteTime": {
     "end_time": "2019-02-07T23:17:14.198972Z",
     "start_time": "2019-02-07T23:16:36.528269Z"
    }
   },
   "outputs": [
    {
     "data": {
      "image/png": "[encoded data removed]",
      "text/plain": [
       "<Figure size 432x288 with 1 Axes>"
      ]
     },
     "metadata": {
      "needs_background": "light"
     },
     "output_type": "display_data"
    }
   ],
   "source": [
    "distortions = []\n",
    "for i in range(1, 30):\n",
    "    km = KMeans(n_clusters=i,\n",
    "                init='k-means++',\n",
    "                random_state=3)\n",
    "    km.fit(X_dtm_norm)\n",
    "    distortions.append(km.inertia_)\n",
    "plt.plot(range(1, 30), distortions, marker='o')\n",
    "plt.xlabel('Number of Clusters')\n",
    "plt.ylabel('Distortion')\n",
    "plt.show()"
   ]
  },
  {
   "cell_type": "code",
   "execution_count": 268,
   "metadata": {
    "ExecuteTime": {
     "end_time": "2019-02-07T23:17:17.621176Z",
     "start_time": "2019-02-07T23:17:14.200872Z"
    }
   },
   "outputs": [
    {
     "data": {
      "image/png": "[encoded data removed]",
      "text/plain": [
       "<Figure size 432x288 with 1 Axes>"
      ]
     },
     "metadata": {
      "needs_background": "light"
     },
     "output_type": "display_data"
    }
   ],
   "source": [
    "km = KMeans(n_clusters=10,\n",
    "            init='k-means++',\n",
    "            random_state=3)\n",
    "y_km = km.fit_predict(X_dtm_norm)\n",
    "\n",
    "cluster_labels = np.unique(y_km)\n",
    "n_clusters = cluster_labels.shape[0]\n",
    "silhouette_vals = silhouette_samples(X_dtm_norm, y_km, metric='euclidean')\n",
    "\n",
    "y_ax_lower, y_ax_upper = 0, 0\n",
    "yticks = []\n",
    "for i, c in enumerate(cluster_labels):\n",
    "    c_silhouette_vals = silhouette_vals[y_km == c]\n",
    "    c_silhouette_vals.sort()\n",
    "    y_ax_upper += len(c_silhouette_vals)\n",
    "    color = cm.jet(i / n_clusters)\n",
    "    plt.barh(range(y_ax_lower, y_ax_upper),\n",
    "             c_silhouette_vals,\n",
    "             height=1.0,\n",
    "             edgecolor='none',\n",
    "             color=color)\n",
    "    yticks.append((y_ax_lower + y_ax_upper) / 2)\n",
    "    y_ax_lower += len(c_silhouette_vals)\n",
    "silhouette_avg = np.mean(silhouette_vals)\n",
    "plt.axvline(silhouette_avg,\n",
    "            color='red',\n",
    "            linestyle='--')\n",
    "plt.yticks(yticks, cluster_labels + 1)\n",
    "plt.ylabel('Cluster')\n",
    "plt.xlabel('Silhouette coefficient')\n",
    "plt.show()"
   ]
  },
  {
   "cell_type": "markdown",
   "metadata": {},
   "source": [
    "#### Mean Shift"
   ]
  },
  {
   "cell_type": "code",
   "execution_count": 269,
   "metadata": {
    "ExecuteTime": {
     "end_time": "2019-02-07T23:17:22.073832Z",
     "start_time": "2019-02-07T23:17:17.623059Z"
    }
   },
   "outputs": [
    {
     "name": "stdout",
     "output_type": "stream",
     "text": [
      "Number of estimated clusters: 1\n"
     ]
    }
   ],
   "source": [
    "bandwidth = estimate_bandwidth(X_dtm_norm, quantile=0.1)\n",
    "\n",
    "ms = MeanShift(bandwidth=bandwidth, bin_seeding=True)\n",
    "ms.fit(X_dtm_norm)\n",
    "\n",
    "labels = ms.labels_\n",
    "cluster_centers = ms.cluster_centers_\n",
    "\n",
    "n_clusters_ = len(np.unique(labels))\n",
    "print('Number of estimated clusters: {}'.format(n_clusters_))"
   ]
  },
  {
   "cell_type": "markdown",
   "metadata": {},
   "source": [
    "#### Spectral Clustering"
   ]
  },
  {
   "cell_type": "code",
   "execution_count": 270,
   "metadata": {
    "ExecuteTime": {
     "end_time": "2019-02-07T23:17:24.621516Z",
     "start_time": "2019-02-07T23:17:22.075722Z"
    }
   },
   "outputs": [
    {
     "data": {
      "image/png": "[encoded data removed]",
      "text/plain": [
       "<Figure size 432x288 with 1 Axes>"
      ]
     },
     "metadata": {
      "needs_background": "light"
     },
     "output_type": "display_data"
    }
   ],
   "source": [
    "sc = SpectralClustering(n_clusters=10,\n",
    "            random_state=3)\n",
    "y_sc = sc.fit_predict(X_dtm_norm)\n",
    "\n",
    "cluster_labels = np.unique(y_sc)\n",
    "n_clusters = cluster_labels.shape[0]\n",
    "silhouette_vals = silhouette_samples(X_dtm_norm, y_sc, metric='euclidean')\n",
    "\n",
    "y_ax_lower, y_ax_upper = 0, 0\n",
    "yticks = []\n",
    "for i, c in enumerate(cluster_labels):\n",
    "    c_silhouette_vals = silhouette_vals[y_km == c]\n",
    "    c_silhouette_vals.sort()\n",
    "    y_ax_upper += len(c_silhouette_vals)\n",
    "    color = cm.jet(i / n_clusters)\n",
    "    plt.barh(range(y_ax_lower, y_ax_upper),\n",
    "             c_silhouette_vals,\n",
    "             height=1.0,\n",
    "             edgecolor='none',\n",
    "             color=color)\n",
    "    yticks.append((y_ax_lower + y_ax_upper) / 2)\n",
    "    y_ax_lower += len(c_silhouette_vals)\n",
    "silhouette_avg = np.mean(silhouette_vals)\n",
    "plt.axvline(silhouette_avg,\n",
    "            color='red',\n",
    "            linestyle='--')\n",
    "plt.yticks(yticks, cluster_labels + 1)\n",
    "plt.ylabel('Cluster')\n",
    "plt.xlabel('Silhouette coefficient')\n",
    "plt.show()"
   ]
  },
  {
   "cell_type": "markdown",
   "metadata": {},
   "source": [
    "### Stemmed CountVectorizer"
   ]
  },
  {
   "cell_type": "code",
   "execution_count": 271,
   "metadata": {
    "ExecuteTime": {
     "end_time": "2019-02-07T23:17:24.626388Z",
     "start_time": "2019-02-07T23:17:24.623377Z"
    }
   },
   "outputs": [],
   "source": [
    "import nltk.stem"
   ]
  },
  {
   "cell_type": "code",
   "execution_count": 272,
   "metadata": {
    "ExecuteTime": {
     "end_time": "2019-02-07T23:17:24.633951Z",
     "start_time": "2019-02-07T23:17:24.628432Z"
    }
   },
   "outputs": [],
   "source": [
    "english_stemmer = nltk.stem.SnowballStemmer('english')\n",
    "\n",
    "class StemmedCountVectorizer(CountVectorizer):\n",
    "    def build_analyzer(self):\n",
    "        analyzer = super(StemmedCountVectorizer, self).build_analyzer()\n",
    "        return lambda doc: (english_stemmer.stem(w) for w in analyzer(doc))"
   ]
  },
  {
   "cell_type": "code",
   "execution_count": 273,
   "metadata": {
    "ExecuteTime": {
     "end_time": "2019-02-07T23:17:24.640739Z",
     "start_time": "2019-02-07T23:17:24.636074Z"
    }
   },
   "outputs": [],
   "source": [
    "vectorizer = StemmedCountVectorizer(min_df=10, max_df=.7, stop_words='english')"
   ]
  },
  {
   "cell_type": "code",
   "execution_count": 274,
   "metadata": {
    "ExecuteTime": {
     "end_time": "2019-02-07T23:17:26.785471Z",
     "start_time": "2019-02-07T23:17:24.642652Z"
    }
   },
   "outputs": [
    {
     "name": "stdout",
     "output_type": "stream",
     "text": [
      "Number of features: 1052\n"
     ]
    }
   ],
   "source": [
    "X_dtm2 = vectorizer.fit_transform(df_sub_train1.clean_text)\n",
    "print('Number of features: {}'.format(X_dtm2.get_shape()[1]))\n",
    "\n",
    "X_dtm_norm2 = normalize(X_dtm2.toarray())"
   ]
  },
  {
   "cell_type": "markdown",
   "metadata": {},
   "source": [
    "#### KMeans"
   ]
  },
  {
   "cell_type": "code",
   "execution_count": 275,
   "metadata": {
    "ExecuteTime": {
     "end_time": "2019-02-07T23:18:11.859966Z",
     "start_time": "2019-02-07T23:17:26.787396Z"
    }
   },
   "outputs": [
    {
     "data": {
      "image/png": "[encoded data removed]",
      "text/plain": [
       "<Figure size 432x288 with 1 Axes>"
      ]
     },
     "metadata": {
      "needs_background": "light"
     },
     "output_type": "display_data"
    }
   ],
   "source": [
    "distortions = []\n",
    "for i in range(3, 25):\n",
    "    km = KMeans(n_clusters=i,\n",
    "                init='k-means++',\n",
    "                random_state=3)\n",
    "    km.fit(X_dtm_norm2)\n",
    "    distortions.append(km.inertia_)\n",
    "plt.plot(range(3, 25), distortions, marker='o')\n",
    "plt.xlabel('Number of Clusters')\n",
    "plt.ylabel('Distortion')\n",
    "plt.show()"
   ]
  },
  {
   "cell_type": "code",
   "execution_count": 276,
   "metadata": {
    "ExecuteTime": {
     "end_time": "2019-02-07T23:18:15.949256Z",
     "start_time": "2019-02-07T23:18:11.862390Z"
    }
   },
   "outputs": [
    {
     "data": {
      "image/png": "[encoded data removed]",
      "text/plain": [
       "<Figure size 432x288 with 1 Axes>"
      ]
     },
     "metadata": {
      "needs_background": "light"
     },
     "output_type": "display_data"
    }
   ],
   "source": [
    "km = KMeans(n_clusters=10,\n",
    "            init='k-means++',\n",
    "            random_state=3)\n",
    "y_km = km.fit_predict(X_dtm_norm2)\n",
    "\n",
    "cluster_labels = np.unique(y_km)\n",
    "n_clusters = cluster_labels.shape[0]\n",
    "silhouette_vals = silhouette_samples(X_dtm_norm2, y_km, metric='euclidean')\n",
    "\n",
    "y_ax_lower, y_ax_upper = 0, 0\n",
    "yticks = []\n",
    "for i, c in enumerate(cluster_labels):\n",
    "    c_silhouette_vals = silhouette_vals[y_km == c]\n",
    "    c_silhouette_vals.sort()\n",
    "    y_ax_upper += len(c_silhouette_vals)\n",
    "    color = cm.jet(i / n_clusters)\n",
    "    plt.barh(range(y_ax_lower, y_ax_upper),\n",
    "             c_silhouette_vals,\n",
    "             height=1.0,\n",
    "             edgecolor='none',\n",
    "             color=color)\n",
    "    yticks.append((y_ax_lower + y_ax_upper) / 2)\n",
    "    y_ax_lower += len(c_silhouette_vals)\n",
    "silhouette_avg = np.mean(silhouette_vals)\n",
    "plt.axvline(silhouette_avg,\n",
    "            color='red',\n",
    "            linestyle='--')\n",
    "plt.yticks(yticks, cluster_labels + 1)\n",
    "plt.ylabel('Cluster')\n",
    "plt.xlabel('Silhouette coefficient')\n",
    "plt.show()"
   ]
  },
  {
   "cell_type": "code",
   "execution_count": 277,
   "metadata": {
    "ExecuteTime": {
     "end_time": "2019-02-07T23:18:15.955157Z",
     "start_time": "2019-02-07T23:18:15.951325Z"
    }
   },
   "outputs": [],
   "source": [
    "# No better"
   ]
  },
  {
   "cell_type": "markdown",
   "metadata": {},
   "source": [
    "### Dimensionality Reduction"
   ]
  },
  {
   "cell_type": "code",
   "execution_count": 278,
   "metadata": {
    "ExecuteTime": {
     "end_time": "2019-02-07T23:18:15.973249Z",
     "start_time": "2019-02-07T23:18:15.969931Z"
    }
   },
   "outputs": [],
   "source": [
    "from sklearn.decomposition import TruncatedSVD, PCA\n",
    "from sklearn.pipeline import make_pipeline\n",
    "from sklearn.preprocessing import Normalizer"
   ]
  },
  {
   "cell_type": "markdown",
   "metadata": {},
   "source": [
    "#### With TFIDF"
   ]
  },
  {
   "cell_type": "code",
   "execution_count": 279,
   "metadata": {
    "ExecuteTime": {
     "end_time": "2019-02-07T23:18:16.216654Z",
     "start_time": "2019-02-07T23:18:15.978014Z"
    }
   },
   "outputs": [
    {
     "name": "stdout",
     "output_type": "stream",
     "text": [
      "Number of features: 1143\n"
     ]
    }
   ],
   "source": [
    "vectorizer = TfidfVectorizer(max_df=0.5,\n",
    "                             min_df=10,\n",
    "                             stop_words='english',\n",
    "                             lowercase=True,\n",
    "                             use_idf=True,\n",
    "                             norm=u'l2'\n",
    "                             )\n",
    "\n",
    "lyrics_tfidf = vectorizer.fit_transform(df_sub_train1.clean_text)\n",
    "print('Number of features: {}'.format(lyrics_tfidf.get_shape()[1]))\n",
    "\n",
    "lyrics_tfidf_csr = lyrics_tfidf.tocsr()\n",
    "lyrics_norm = normalize(lyrics_tfidf_csr.toarray())"
   ]
  },
  {
   "cell_type": "code",
   "execution_count": 280,
   "metadata": {
    "ExecuteTime": {
     "end_time": "2019-02-07T23:18:16.458419Z",
     "start_time": "2019-02-07T23:18:16.219969Z"
    }
   },
   "outputs": [
    {
     "name": "stdout",
     "output_type": "stream",
     "text": [
      "Percent variance captured by all components: 58.539048778352786\n"
     ]
    }
   ],
   "source": [
    "svd = TruncatedSVD(200)\n",
    "lsa = make_pipeline(svd, Normalizer(copy=False))\n",
    "\n",
    "X_lsa = lsa.fit_transform(lyrics_tfidf)\n",
    "\n",
    "variance_explained=svd.explained_variance_ratio_\n",
    "total_variance = variance_explained.sum()\n",
    "print(\"Percent variance captured by all components:\",total_variance*100)"
   ]
  },
  {
   "cell_type": "markdown",
   "metadata": {},
   "source": [
    "##### KMeans"
   ]
  },
  {
   "cell_type": "code",
   "execution_count": 281,
   "metadata": {
    "ExecuteTime": {
     "end_time": "2019-02-07T23:18:25.074368Z",
     "start_time": "2019-02-07T23:18:16.460782Z"
    }
   },
   "outputs": [
    {
     "data": {
      "image/png": "[encoded data removed]",
      "text/plain": [
       "<Figure size 432x288 with 1 Axes>"
      ]
     },
     "metadata": {
      "needs_background": "light"
     },
     "output_type": "display_data"
    }
   ],
   "source": [
    "distortions = []\n",
    "for i in range(1, 20):\n",
    "    km = KMeans(n_clusters=i,\n",
    "                init='k-means++',\n",
    "                random_state=3)\n",
    "    km.fit(X_lsa)\n",
    "    distortions.append(km.inertia_)\n",
    "plt.plot(range(1, 20), distortions, marker='o')\n",
    "plt.xlabel('Number of Clusters')\n",
    "plt.ylabel('Distortion')\n",
    "plt.show()"
   ]
  },
  {
   "cell_type": "markdown",
   "metadata": {},
   "source": [
    "##### Mean Shift"
   ]
  },
  {
   "cell_type": "code",
   "execution_count": 282,
   "metadata": {
    "ExecuteTime": {
     "end_time": "2019-02-07T23:18:25.290312Z",
     "start_time": "2019-02-07T23:18:25.075926Z"
    }
   },
   "outputs": [
    {
     "name": "stdout",
     "output_type": "stream",
     "text": [
      "Number of estimated clusters: 1\n"
     ]
    }
   ],
   "source": [
    "bandwidth = estimate_bandwidth(X_lsa, quantile=0.6)\n",
    "\n",
    "ms = MeanShift(bandwidth=bandwidth, bin_seeding=True)\n",
    "ms.fit(X_lsa)\n",
    "\n",
    "labels = ms.labels_\n",
    "cluster_centers = ms.cluster_centers_\n",
    "\n",
    "n_clusters_ = len(np.unique(labels))\n",
    "print('Number of estimated clusters: {}'.format(n_clusters_))"
   ]
  },
  {
   "cell_type": "markdown",
   "metadata": {},
   "source": [
    "#### PCA with CountVect"
   ]
  },
  {
   "cell_type": "code",
   "execution_count": 283,
   "metadata": {
    "ExecuteTime": {
     "end_time": "2019-02-07T23:18:25.495370Z",
     "start_time": "2019-02-07T23:18:25.291874Z"
    }
   },
   "outputs": [
    {
     "name": "stdout",
     "output_type": "stream",
     "text": [
      "Number of features: 1121\n"
     ]
    }
   ],
   "source": [
    "vect = CountVectorizer(max_df=0.2, min_df=10, stop_words='english')\n",
    "X_dtm = vect.fit_transform(df_sub_train1.clean_text)\n",
    "print('Number of features: {}'.format(X_dtm.get_shape()[1]))"
   ]
  },
  {
   "cell_type": "code",
   "execution_count": 284,
   "metadata": {
    "ExecuteTime": {
     "end_time": "2019-02-07T23:18:25.661904Z",
     "start_time": "2019-02-07T23:18:25.497581Z"
    }
   },
   "outputs": [
    {
     "name": "stdout",
     "output_type": "stream",
     "text": [
      "Percent variance captured by all components: 76.5566964987173\n"
     ]
    }
   ],
   "source": [
    "svd = TruncatedSVD(200)\n",
    "lsa = make_pipeline(svd, Normalizer(copy=False))\n",
    "\n",
    "X_dtm_lsa = lsa.fit_transform(X_dtm)\n",
    "\n",
    "variance_explained=svd.explained_variance_ratio_\n",
    "total_variance = variance_explained.sum()\n",
    "print(\"Percent variance captured by all components:\",total_variance*100)"
   ]
  },
  {
   "cell_type": "markdown",
   "metadata": {},
   "source": [
    "##### KMeans"
   ]
  },
  {
   "cell_type": "code",
   "execution_count": 285,
   "metadata": {
    "ExecuteTime": {
     "end_time": "2019-02-07T23:18:36.383397Z",
     "start_time": "2019-02-07T23:18:25.663777Z"
    },
    "scrolled": true
   },
   "outputs": [
    {
     "data": {
      "image/png": "[encoded data removed]",
      "text/plain": [
       "<Figure size 432x288 with 1 Axes>"
      ]
     },
     "metadata": {
      "needs_background": "light"
     },
     "output_type": "display_data"
    }
   ],
   "source": [
    "distortions = []\n",
    "for i in range(3, 25):\n",
    "    km = KMeans(n_clusters=i,\n",
    "                init='k-means++',\n",
    "                random_state=3)\n",
    "    km.fit(X_dtm_lsa)\n",
    "    distortions.append(km.inertia_)\n",
    "plt.plot(range(3, 25), distortions, marker='o')\n",
    "plt.xlabel('Number of Clusters')\n",
    "plt.ylabel('Distortion')\n",
    "plt.show()"
   ]
  },
  {
   "cell_type": "markdown",
   "metadata": {},
   "source": [
    "##### Mean Shift"
   ]
  },
  {
   "cell_type": "code",
   "execution_count": 286,
   "metadata": {
    "ExecuteTime": {
     "end_time": "2019-02-07T23:18:37.117421Z",
     "start_time": "2019-02-07T23:18:36.385323Z"
    }
   },
   "outputs": [
    {
     "name": "stdout",
     "output_type": "stream",
     "text": [
      "Number of estimated clusters: 1\n"
     ]
    }
   ],
   "source": [
    "bandwidth = estimate_bandwidth(X_dtm_lsa, quantile=0.01)\n",
    "\n",
    "ms = MeanShift(bandwidth=bandwidth, bin_seeding=True)\n",
    "ms.fit(X_dtm_lsa)\n",
    "\n",
    "labels = ms.labels_\n",
    "cluster_centers = ms.cluster_centers_\n",
    "\n",
    "n_clusters_ = len(np.unique(labels))\n",
    "print('Number of estimated clusters: {}'.format(n_clusters_))"
   ]
  },
  {
   "cell_type": "markdown",
   "metadata": {},
   "source": [
    "# Supervised Approach"
   ]
  },
  {
   "cell_type": "code",
   "execution_count": 287,
   "metadata": {
    "ExecuteTime": {
     "end_time": "2019-02-07T23:18:37.127625Z",
     "start_time": "2019-02-07T23:18:37.119248Z"
    }
   },
   "outputs": [
    {
     "data": {
      "text/html": [
       "<div>\n",
       "<style scoped>\n",
       "    .dataframe tbody tr th:only-of-type {\n",
       "        vertical-align: middle;\n",
       "    }\n",
       "\n",
       "    .dataframe tbody tr th {\n",
       "        vertical-align: top;\n",
       "    }\n",
       "\n",
       "    .dataframe thead th {\n",
       "        text-align: right;\n",
       "    }\n",
       "</style>\n",
       "<table border=\"1\" class=\"dataframe\">\n",
       "  <thead>\n",
       "    <tr style=\"text-align: right;\">\n",
       "      <th></th>\n",
       "      <th>artist</th>\n",
       "      <th>clean_text</th>\n",
       "    </tr>\n",
       "  </thead>\n",
       "  <tbody>\n",
       "    <tr>\n",
       "      <th>3250</th>\n",
       "      <td>Cliff Richard</td>\n",
       "      <td>Oh no, don't let go - all I need is a little m...</td>\n",
       "    </tr>\n",
       "    <tr>\n",
       "      <th>36835</th>\n",
       "      <td>Indigo Girls</td>\n",
       "      <td>Anybody looking on they can see you're not so ...</td>\n",
       "    </tr>\n",
       "    <tr>\n",
       "      <th>27351</th>\n",
       "      <td>Cher</td>\n",
       "      <td>Long distance love affair Writer klaus meine T...</td>\n",
       "    </tr>\n",
       "  </tbody>\n",
       "</table>\n",
       "</div>"
      ],
      "text/plain": [
       "              artist                                         clean_text\n",
       "3250   Cliff Richard  Oh no, don't let go - all I need is a little m...\n",
       "36835   Indigo Girls  Anybody looking on they can see you're not so ...\n",
       "27351           Cher  Long distance love affair Writer klaus meine T..."
      ]
     },
     "execution_count": 287,
     "metadata": {},
     "output_type": "execute_result"
    }
   ],
   "source": [
    "df_sub_train1.head(3)"
   ]
  },
  {
   "cell_type": "markdown",
   "metadata": {},
   "source": [
    "### RBM with Logistic Regression"
   ]
  },
  {
   "cell_type": "code",
   "execution_count": 288,
   "metadata": {
    "ExecuteTime": {
     "end_time": "2019-02-07T23:18:37.132700Z",
     "start_time": "2019-02-07T23:18:37.129661Z"
    }
   },
   "outputs": [],
   "source": [
    "from sklearn.neural_network import BernoulliRBM\n",
    "from sklearn.pipeline import Pipeline\n",
    "from sklearn import linear_model"
   ]
  },
  {
   "cell_type": "code",
   "execution_count": 289,
   "metadata": {
    "ExecuteTime": {
     "end_time": "2019-02-07T23:18:37.139926Z",
     "start_time": "2019-02-07T23:18:37.134758Z"
    }
   },
   "outputs": [],
   "source": [
    "lr = linear_model.LogisticRegression(random_state=3)\n",
    "rbm = BernoulliRBM(random_state=3, verbose=False)\n",
    "\n",
    "rbm_features_classifier = Pipeline(steps=[('rbm', rbm), ('logistic', lr)])"
   ]
  },
  {
   "cell_type": "code",
   "execution_count": 290,
   "metadata": {
    "ExecuteTime": {
     "end_time": "2019-02-07T23:18:37.145155Z",
     "start_time": "2019-02-07T23:18:37.141841Z"
    }
   },
   "outputs": [],
   "source": [
    "rbm.learning_rate = 0.3\n",
    "rbm.n_iter = 10\n",
    "rbm.n_components = 10"
   ]
  },
  {
   "cell_type": "code",
   "execution_count": 291,
   "metadata": {
    "ExecuteTime": {
     "end_time": "2019-02-07T23:18:37.390876Z",
     "start_time": "2019-02-07T23:18:37.147224Z"
    }
   },
   "outputs": [
    {
     "name": "stdout",
     "output_type": "stream",
     "text": [
      "Number of features: 1143\n"
     ]
    }
   ],
   "source": [
    "vectorizer = TfidfVectorizer(max_df=0.5, min_df=10, stop_words='english', lowercase=True, use_idf=True, norm=u'l2')\n",
    "\n",
    "lyrics_tfidf = vectorizer.fit_transform(df_sub_train1.clean_text)\n",
    "print('Number of features: {}'.format(lyrics_tfidf.get_shape()[1]))\n",
    "\n",
    "lyrics_tfidf_csr = lyrics_tfidf.tocsr()\n",
    "lyrics_norm = normalize(lyrics_tfidf_csr.toarray())"
   ]
  },
  {
   "cell_type": "code",
   "execution_count": 292,
   "metadata": {
    "ExecuteTime": {
     "end_time": "2019-02-07T23:18:37.397499Z",
     "start_time": "2019-02-07T23:18:37.393035Z"
    }
   },
   "outputs": [
    {
     "name": "stdout",
     "output_type": "stream",
     "text": [
      "(1391, 1143)\n",
      "(1391, 2)\n"
     ]
    }
   ],
   "source": [
    "print(lyrics_norm.shape)\n",
    "print(df_sub_train1.shape)"
   ]
  },
  {
   "cell_type": "code",
   "execution_count": 293,
   "metadata": {
    "ExecuteTime": {
     "end_time": "2019-02-07T23:18:38.098113Z",
     "start_time": "2019-02-07T23:18:37.400623Z"
    }
   },
   "outputs": [
    {
     "name": "stderr",
     "output_type": "stream",
     "text": [
      "/usr/local/lib/python3.7/site-packages/sklearn/linear_model/logistic.py:432: FutureWarning: Default solver will be changed to 'lbfgs' in 0.22. Specify a solver to silence this warning.\n",
      "  FutureWarning)\n",
      "/usr/local/lib/python3.7/site-packages/sklearn/linear_model/logistic.py:459: FutureWarning: Default multi_class will be changed to 'auto' in 0.22. Specify the multi_class option to silence this warning.\n",
      "  \"this warning.\", FutureWarning)\n"
     ]
    },
    {
     "data": {
      "text/plain": [
       "Pipeline(memory=None,\n",
       "     steps=[('rbm', BernoulliRBM(batch_size=10, learning_rate=0.3, n_components=10, n_iter=10,\n",
       "       random_state=3, verbose=False)), ('logistic', LogisticRegression(C=1.0, class_weight=None, dual=False, fit_intercept=True,\n",
       "          intercept_scaling=1, max_iter=100, multi_class='warn',\n",
       "          n_jobs=None, penalty='l2', random_state=3, solver='warn',\n",
       "          tol=0.0001, verbose=0, warm_start=False))])"
      ]
     },
     "execution_count": 293,
     "metadata": {},
     "output_type": "execute_result"
    }
   ],
   "source": [
    "rbm_features_classifier.fit(lyrics_norm, df_sub_train1.artist)"
   ]
  },
  {
   "cell_type": "code",
   "execution_count": 294,
   "metadata": {
    "ExecuteTime": {
     "end_time": "2019-02-07T23:18:38.110341Z",
     "start_time": "2019-02-07T23:18:38.099915Z"
    }
   },
   "outputs": [
    {
     "data": {
      "text/plain": [
       "0.15815959741193386"
      ]
     },
     "execution_count": 294,
     "metadata": {},
     "output_type": "execute_result"
    }
   ],
   "source": [
    "rbm_features_classifier.score(lyrics_norm, df_sub_train1.artist)"
   ]
  },
  {
   "cell_type": "code",
   "execution_count": null,
   "metadata": {},
   "outputs": [],
   "source": []
  },
  {
   "cell_type": "code",
   "execution_count": null,
   "metadata": {},
   "outputs": [],
   "source": []
  },
  {
   "cell_type": "markdown",
   "metadata": {},
   "source": [
    "### LDA"
   ]
  },
  {
   "cell_type": "code",
   "execution_count": 213,
   "metadata": {
    "ExecuteTime": {
     "end_time": "2019-02-07T12:54:56.887664Z",
     "start_time": "2019-02-07T12:54:56.879951Z"
    }
   },
   "outputs": [
    {
     "data": {
      "text/html": [
       "<div>\n",
       "<style scoped>\n",
       "    .dataframe tbody tr th:only-of-type {\n",
       "        vertical-align: middle;\n",
       "    }\n",
       "\n",
       "    .dataframe tbody tr th {\n",
       "        vertical-align: top;\n",
       "    }\n",
       "\n",
       "    .dataframe thead th {\n",
       "        text-align: right;\n",
       "    }\n",
       "</style>\n",
       "<table border=\"1\" class=\"dataframe\">\n",
       "  <thead>\n",
       "    <tr style=\"text-align: right;\">\n",
       "      <th></th>\n",
       "      <th>artist</th>\n",
       "      <th>clean_text</th>\n",
       "    </tr>\n",
       "  </thead>\n",
       "  <tbody>\n",
       "    <tr>\n",
       "      <th>3250</th>\n",
       "      <td>Cliff Richard</td>\n",
       "      <td>Oh no, don't let go - all I need is a little m...</td>\n",
       "    </tr>\n",
       "    <tr>\n",
       "      <th>36835</th>\n",
       "      <td>Indigo Girls</td>\n",
       "      <td>Anybody looking on they can see you're not so ...</td>\n",
       "    </tr>\n",
       "    <tr>\n",
       "      <th>27351</th>\n",
       "      <td>Cher</td>\n",
       "      <td>Long distance love affair Writer klaus meine T...</td>\n",
       "    </tr>\n",
       "    <tr>\n",
       "      <th>8462</th>\n",
       "      <td>Indigo Girls</td>\n",
       "      <td>You can go to the east to find your Your inner...</td>\n",
       "    </tr>\n",
       "    <tr>\n",
       "      <th>3898</th>\n",
       "      <td>Dean Martin</td>\n",
       "      <td>When love comes in and takes you for a spin Oo...</td>\n",
       "    </tr>\n",
       "  </tbody>\n",
       "</table>\n",
       "</div>"
      ],
      "text/plain": [
       "              artist                                         clean_text\n",
       "3250   Cliff Richard  Oh no, don't let go - all I need is a little m...\n",
       "36835   Indigo Girls  Anybody looking on they can see you're not so ...\n",
       "27351           Cher  Long distance love affair Writer klaus meine T...\n",
       "8462    Indigo Girls  You can go to the east to find your Your inner...\n",
       "3898     Dean Martin  When love comes in and takes you for a spin Oo..."
      ]
     },
     "execution_count": 213,
     "metadata": {},
     "output_type": "execute_result"
    }
   ],
   "source": [
    "df_sub_train1.head()"
   ]
  },
  {
   "cell_type": "code",
   "execution_count": 214,
   "metadata": {
    "ExecuteTime": {
     "end_time": "2019-02-07T12:54:56.903226Z",
     "start_time": "2019-02-07T12:54:56.889780Z"
    }
   },
   "outputs": [],
   "source": [
    "docs = np.array(df_sub_train1.clean_text)"
   ]
  },
  {
   "cell_type": "code",
   "execution_count": 215,
   "metadata": {
    "ExecuteTime": {
     "end_time": "2019-02-07T12:54:56.911879Z",
     "start_time": "2019-02-07T12:54:56.906193Z"
    }
   },
   "outputs": [
    {
     "name": "stderr",
     "output_type": "stream",
     "text": [
      "[nltk_data] Downloading package wordnet to\n",
      "[nltk_data]     /Users/matthewpokorny/nltk_data...\n",
      "[nltk_data]   Package wordnet is already up-to-date!\n"
     ]
    },
    {
     "data": {
      "text/plain": [
       "True"
      ]
     },
     "execution_count": 215,
     "metadata": {},
     "output_type": "execute_result"
    }
   ],
   "source": [
    "from nltk.stem.wordnet import WordNetLemmatizer\n",
    "from nltk.tokenize import RegexpTokenizer\n",
    "nltk.download('wordnet')"
   ]
  },
  {
   "cell_type": "code",
   "execution_count": 295,
   "metadata": {
    "ExecuteTime": {
     "end_time": "2019-02-07T23:45:43.344784Z",
     "start_time": "2019-02-07T23:45:43.332151Z"
    }
   },
   "outputs": [],
   "source": [
    "# try different character lengths"
   ]
  },
  {
   "cell_type": "code",
   "execution_count": null,
   "metadata": {},
   "outputs": [],
   "source": [
    "english_stemmer = nltk.stem.SnowballStemmer('english')"
   ]
  },
  {
   "cell_type": "code",
   "execution_count": 315,
   "metadata": {
    "ExecuteTime": {
     "end_time": "2019-02-08T02:05:09.595746Z",
     "start_time": "2019-02-08T02:05:09.583974Z"
    }
   },
   "outputs": [],
   "source": [
    "def build_analyzer(self):\n",
    "        analyzer = super(StemmedCountVectorizer, self).build_analyzer()\n",
    "\n",
    "def docs_preprocessor(docs):\n",
    "    tokenizer = RegexpTokenizer(r'\\w+')\n",
    "    for idx in range(len(docs)):\n",
    "        docs[idx] = str(docs[idx]).lower() # Convert to lowercase.\n",
    "        docs[idx] = tokenizer.tokenize(docs[idx]) # Split into words.\n",
    "        \n",
    "    # Remove numbers, but not words that contain numbers.\n",
    "    docs = [[token for token in doc if not token.isdigit()] for doc in docs]\n",
    "    \n",
    "    # Remove words that are only one character.\n",
    "    docs = [[token for token in doc if len(token) > 3] for doc in docs]\n",
    "    \n",
    "    # Lemmatize all words in documents.\n",
    "#     lemmatizer = WordNetLemmatizer()\n",
    "#     docs = [[lemmatizer.lemmatize(token) for token in doc] for doc in docs]\n",
    "\n",
    "    def build_analyzer(self):\n",
    "        analyzer = super(StemmedCountVectorizer, self).build_analyzer()\n",
    "        return lambda doc: (english_stemmer.stem(w) for w in analyzer(doc))\n",
    "\n",
    "  \n",
    "    return docs"
   ]
  },
  {
   "cell_type": "code",
   "execution_count": 322,
   "metadata": {
    "ExecuteTime": {
     "end_time": "2019-02-08T02:14:19.710720Z",
     "start_time": "2019-02-08T02:14:19.706127Z"
    }
   },
   "outputs": [],
   "source": [
    "from nltk.stem.porter import PorterStemmer"
   ]
  },
  {
   "cell_type": "code",
   "execution_count": 323,
   "metadata": {
    "ExecuteTime": {
     "end_time": "2019-02-08T02:15:36.810768Z",
     "start_time": "2019-02-08T02:15:36.796358Z"
    }
   },
   "outputs": [],
   "source": [
    "def docs_preprocessor(docs):\n",
    "    tokenizer = RegexpTokenizer(r'\\w+')\n",
    "    for idx in range(len(docs)):\n",
    "        docs[idx] = str(docs[idx]).lower() # Convert to lowercase.\n",
    "        docs[idx] = tokenizer.tokenize(docs[idx]) # Split into words.\n",
    "        \n",
    "    # Remove numbers, but not words that contain numbers.\n",
    "    docs = [[token for token in doc if not token.isdigit()] for doc in docs]\n",
    "    \n",
    "    # Remove words that are only one character.\n",
    "    docs = [[token for token in doc if len(token) > 3] for doc in docs]\n",
    "    \n",
    "    # Lemmatize all words in documents.\n",
    "#     lemmatizer = WordNetLemmatizer()\n",
    "#     docs = [[lemmatizer.lemmatize(token) for token in doc] for doc in docs]\n",
    "    \n",
    "    # Get only stems\n",
    "    p_stemmer = PorterStemmer()\n",
    "    docs = [[p_stemmer.stem(i) for i in doc] for doc in docs]\n",
    "    \n",
    "    return docs"
   ]
  },
  {
   "cell_type": "code",
   "execution_count": 324,
   "metadata": {
    "ExecuteTime": {
     "end_time": "2019-02-08T02:15:41.234361Z",
     "start_time": "2019-02-08T02:15:37.570674Z"
    }
   },
   "outputs": [],
   "source": [
    "docs = docs_preprocessor(docs)"
   ]
  },
  {
   "cell_type": "code",
   "execution_count": 326,
   "metadata": {
    "ExecuteTime": {
     "end_time": "2019-02-08T02:15:52.427906Z",
     "start_time": "2019-02-08T02:15:52.423216Z"
    }
   },
   "outputs": [
    {
     "data": {
      "text/plain": [
       "['young',\n",
       " 'marin',\n",
       " 'head',\n",
       " 'thinkin',\n",
       " 'bout',\n",
       " 'famili',\n",
       " 'what',\n",
       " 'there',\n",
       " 'water',\n",
       " 'wood']"
      ]
     },
     "execution_count": 326,
     "metadata": {},
     "output_type": "execute_result"
    }
   ],
   "source": [
    "docs[5][:10]"
   ]
  },
  {
   "cell_type": "code",
   "execution_count": 306,
   "metadata": {
    "ExecuteTime": {
     "end_time": "2019-02-07T23:53:22.636234Z",
     "start_time": "2019-02-07T23:53:22.631344Z"
    }
   },
   "outputs": [],
   "source": [
    "from gensim.models.phrases import Phrases, Phraser"
   ]
  },
  {
   "cell_type": "code",
   "execution_count": 370,
   "metadata": {
    "ExecuteTime": {
     "end_time": "2019-02-08T02:30:09.435514Z",
     "start_time": "2019-02-08T02:30:09.145770Z"
    },
    "scrolled": false
   },
   "outputs": [
    {
     "data": {
      "text/plain": [
       "87"
      ]
     },
     "execution_count": 370,
     "metadata": {},
     "output_type": "execute_result"
    }
   ],
   "source": [
    "bigram = Phrases(docs)\n",
    "len(bigram[docs[5]])"
   ]
  },
  {
   "cell_type": "code",
   "execution_count": 371,
   "metadata": {
    "ExecuteTime": {
     "end_time": "2019-02-08T02:30:13.974050Z",
     "start_time": "2019-02-08T02:30:13.969960Z"
    }
   },
   "outputs": [
    {
     "data": {
      "text/plain": [
       "['young',\n",
       " 'marin',\n",
       " 'head',\n",
       " 'thinkin',\n",
       " 'bout',\n",
       " 'famili',\n",
       " 'what',\n",
       " 'there',\n",
       " 'water',\n",
       " 'wood',\n",
       " 'sail',\n",
       " 'feel',\n",
       " 'good',\n",
       " 'when',\n",
       " 'shore']"
      ]
     },
     "execution_count": 371,
     "metadata": {},
     "output_type": "execute_result"
    }
   ],
   "source": [
    "docs[5][:15]"
   ]
  },
  {
   "cell_type": "code",
   "execution_count": 372,
   "metadata": {
    "ExecuteTime": {
     "end_time": "2019-02-08T02:30:33.897661Z",
     "start_time": "2019-02-08T02:30:33.270864Z"
    }
   },
   "outputs": [],
   "source": [
    "for i in range(len(docs)):\n",
    "    for token in bigram[docs[i]]:\n",
    "        if '_' in token:\n",
    "            docs[i].append(token)"
   ]
  },
  {
   "cell_type": "code",
   "execution_count": null,
   "metadata": {},
   "outputs": [],
   "source": [
    "# Could start from here without including bi/trigrams"
   ]
  },
  {
   "cell_type": "code",
   "execution_count": 373,
   "metadata": {
    "ExecuteTime": {
     "end_time": "2019-02-08T02:30:37.749614Z",
     "start_time": "2019-02-08T02:30:37.744557Z"
    }
   },
   "outputs": [],
   "source": [
    "from gensim.corpora import Dictionary"
   ]
  },
  {
   "cell_type": "code",
   "execution_count": 374,
   "metadata": {
    "ExecuteTime": {
     "end_time": "2019-02-08T02:30:43.123646Z",
     "start_time": "2019-02-08T02:30:42.962334Z"
    },
    "scrolled": true
   },
   "outputs": [
    {
     "name": "stdout",
     "output_type": "stream",
     "text": [
      "Number of unique words in initial documents: 8117\n"
     ]
    }
   ],
   "source": [
    "dictionary = Dictionary(docs)\n",
    "print('Number of unique words in initial documents:', len(dictionary))"
   ]
  },
  {
   "cell_type": "code",
   "execution_count": 375,
   "metadata": {
    "ExecuteTime": {
     "end_time": "2019-02-08T12:44:46.122684Z",
     "start_time": "2019-02-08T12:44:45.902700Z"
    }
   },
   "outputs": [
    {
     "name": "stdout",
     "output_type": "stream",
     "text": [
      "Number of unique words after removing rare and common words: 1919\n"
     ]
    }
   ],
   "source": [
    "# Filter out words that occur less than 5 documents or more than 20% of the documents.\n",
    "dictionary.filter_extremes(no_below=5, no_above=0.2)\n",
    "print('Number of unique words after removing rare and common words:', len(dictionary))"
   ]
  },
  {
   "cell_type": "code",
   "execution_count": 376,
   "metadata": {
    "ExecuteTime": {
     "end_time": "2019-02-08T12:44:48.305157Z",
     "start_time": "2019-02-08T12:44:48.196004Z"
    }
   },
   "outputs": [],
   "source": [
    "corpus = [dictionary.doc2bow(doc) for doc in docs]"
   ]
  },
  {
   "cell_type": "code",
   "execution_count": 377,
   "metadata": {
    "ExecuteTime": {
     "end_time": "2019-02-08T12:44:49.127481Z",
     "start_time": "2019-02-08T12:44:49.121629Z"
    }
   },
   "outputs": [
    {
     "data": {
      "text/plain": [
       "[(0, 1),\n",
       " (1, 1),\n",
       " (2, 1),\n",
       " (3, 1),\n",
       " (4, 1),\n",
       " (5, 1),\n",
       " (6, 3),\n",
       " (7, 3),\n",
       " (8, 3),\n",
       " (9, 9),\n",
       " (10, 3),\n",
       " (11, 1),\n",
       " (12, 1),\n",
       " (13, 9),\n",
       " (14, 6),\n",
       " (15, 1),\n",
       " (16, 1),\n",
       " (17, 6),\n",
       " (18, 6),\n",
       " (19, 1),\n",
       " (20, 1),\n",
       " (21, 6),\n",
       " (22, 1),\n",
       " (23, 1),\n",
       " (24, 3),\n",
       " (25, 1),\n",
       " (26, 1),\n",
       " (27, 1),\n",
       " (28, 1)]"
      ]
     },
     "execution_count": 377,
     "metadata": {},
     "output_type": "execute_result"
    }
   ],
   "source": [
    "corpus[0]  # bow count for every index - matches on the dictionary"
   ]
  },
  {
   "cell_type": "code",
   "execution_count": 378,
   "metadata": {
    "ExecuteTime": {
     "end_time": "2019-02-08T12:44:51.996863Z",
     "start_time": "2019-02-08T12:44:51.993373Z"
    }
   },
   "outputs": [
    {
     "name": "stdout",
     "output_type": "stream",
     "text": [
      "Number of unique tokens: 1919\n"
     ]
    }
   ],
   "source": [
    "print('Number of unique tokens:', len(dictionary))"
   ]
  },
  {
   "cell_type": "code",
   "execution_count": 379,
   "metadata": {
    "ExecuteTime": {
     "end_time": "2019-02-08T12:44:53.550745Z",
     "start_time": "2019-02-08T12:44:53.547654Z"
    }
   },
   "outputs": [
    {
     "name": "stdout",
     "output_type": "stream",
     "text": [
      "Number of documents: 1391\n"
     ]
    }
   ],
   "source": [
    "print('Number of documents:', len(corpus))"
   ]
  },
  {
   "cell_type": "code",
   "execution_count": 380,
   "metadata": {
    "ExecuteTime": {
     "end_time": "2019-02-08T12:44:56.716939Z",
     "start_time": "2019-02-08T12:44:56.711896Z"
    }
   },
   "outputs": [],
   "source": [
    "from gensim.models import LdaModel"
   ]
  },
  {
   "cell_type": "code",
   "execution_count": 381,
   "metadata": {
    "ExecuteTime": {
     "end_time": "2019-02-08T12:44:58.376238Z",
     "start_time": "2019-02-08T12:44:58.372232Z"
    }
   },
   "outputs": [
    {
     "data": {
      "text/plain": [
       "'after'"
      ]
     },
     "execution_count": 381,
     "metadata": {},
     "output_type": "execute_result"
    }
   ],
   "source": [
    "dictionary[0]"
   ]
  },
  {
   "cell_type": "code",
   "execution_count": 409,
   "metadata": {
    "ExecuteTime": {
     "end_time": "2019-02-09T01:09:48.264732Z",
     "start_time": "2019-02-09T01:09:48.258998Z"
    }
   },
   "outputs": [],
   "source": [
    "num_topics = 5\n",
    "chunksize = 200\n",
    "passes = 20\n",
    "iterations = 400\n",
    "eval_every = 1\n",
    "\n",
    "# Make an index to word dictionary.\n",
    "temp = dictionary[0]  # can ignore \n",
    "id2word = dictionary.id2token  # "
   ]
  },
  {
   "cell_type": "code",
   "execution_count": 410,
   "metadata": {
    "ExecuteTime": {
     "end_time": "2019-02-09T01:10:16.642599Z",
     "start_time": "2019-02-09T01:09:48.523395Z"
    }
   },
   "outputs": [],
   "source": [
    "model = LdaModel(corpus=corpus, id2word=id2word, chunksize=chunksize,\n",
    "                 alpha='auto', eta='auto',\n",
    "                 iterations=iterations, num_topics=num_topics,\n",
    "                 passes=passes, eval_every=eval_every)"
   ]
  },
  {
   "cell_type": "code",
   "execution_count": 411,
   "metadata": {
    "ExecuteTime": {
     "end_time": "2019-02-09T01:10:16.766581Z",
     "start_time": "2019-02-09T01:10:16.760666Z"
    }
   },
   "outputs": [
    {
     "name": "stdout",
     "output_type": "stream",
     "text": [
      "[(0, '0.057*\"more_than\" + 0.023*\"than\"'), (1, '0.032*\"babi\" + 0.019*\"give\"'), (2, '0.014*\"home\" + 0.014*\"good\"'), (3, '0.016*\"onli\" + 0.013*\"think\"'), (4, '0.019*\"gonna\" + 0.013*\"rock_rol\"')]\n"
     ]
    }
   ],
   "source": [
    "top10 = model.print_topics(num_topics=5, num_words=2)\n",
    "print(top10)"
   ]
  },
  {
   "cell_type": "code",
   "execution_count": null,
   "metadata": {},
   "outputs": [],
   "source": []
  },
  {
   "cell_type": "code",
   "execution_count": 412,
   "metadata": {
    "ExecuteTime": {
     "end_time": "2019-02-09T01:10:16.893921Z",
     "start_time": "2019-02-09T01:10:16.890679Z"
    }
   },
   "outputs": [],
   "source": [
    "import pyLDAvis.gensim\n",
    "pyLDAvis.enable_notebook()"
   ]
  },
  {
   "cell_type": "code",
   "execution_count": 413,
   "metadata": {
    "ExecuteTime": {
     "end_time": "2019-02-09T01:10:17.009052Z",
     "start_time": "2019-02-09T01:10:17.005218Z"
    }
   },
   "outputs": [],
   "source": [
    "import warnings\n",
    "warnings.filterwarnings(\"ignore\", category=DeprecationWarning)"
   ]
  },
  {
   "cell_type": "code",
   "execution_count": 414,
   "metadata": {
    "ExecuteTime": {
     "end_time": "2019-02-09T01:10:21.163821Z",
     "start_time": "2019-02-09T01:10:17.121116Z"
    },
    "scrolled": false
   },
   "outputs": [
    {
     "name": "stderr",
     "output_type": "stream",
     "text": [
      "/usr/local/lib/python3.7/site-packages/pyLDAvis/_prepare.py:257: FutureWarning: Sorting because non-concatenation axis is not aligned. A future version\n",
      "of pandas will change to not sort by default.\n",
      "\n",
      "To accept the future behavior, pass 'sort=False'.\n",
      "\n",
      "To retain the current behavior and silence the warning, pass 'sort=True'.\n",
      "\n",
      "  return pd.concat([default_term_info] + list(topic_dfs))\n"
     ]
    },
    {
     "data": {
      "text/html": [
       "\n",
       "<link rel=\"stylesheet\" type=\"text/css\" href=\"https://cdn.rawgit.com/bmabey/pyLDAvis/files/ldavis.v1.0.0.css\">\n",
       "\n",
       "\n",
       "<div id=\"ldavis_el7156447618837765788495848\"></div>\n",
       "<script type=\"text/javascript\">\n",
       "\n",
       "var ldavis_el7156447618837765788495848_data = {\"mdsDat\": {\"x\": [-0.030471636280930033, -0.10423854166535847, -0.032799123488791465, -0.14043836192320544, 0.30794766335828544], \"y\": [0.04638760312845962, -0.19044252283293522, 0.26850941216889307, -0.06399485536546973, -0.06045963709894769], \"topics\": [1, 2, 3, 4, 5], \"cluster\": [1, 1, 1, 1, 1], \"Freq\": [29.672012329101562, 25.306310653686523, 17.268850326538086, 15.418085098266602, 12.334741592407227]}, \"tinfo\": {\"Category\": [\"Default\", \"Default\", \"Default\", \"Default\", \"Default\", \"Default\", \"Default\", \"Default\", \"Default\", \"Default\", \"Default\", \"Default\", \"Default\", \"Default\", \"Default\", \"Default\", \"Default\", \"Default\", \"Default\", \"Default\", \"Default\", \"Default\", \"Default\", \"Default\", \"Default\", \"Default\", \"Default\", \"Default\", \"Default\", \"Default\", \"Topic1\", \"Topic1\", \"Topic1\", \"Topic1\", \"Topic1\", \"Topic1\", \"Topic1\", \"Topic1\", \"Topic1\", \"Topic1\", \"Topic1\", \"Topic1\", \"Topic1\", \"Topic1\", \"Topic1\", \"Topic1\", \"Topic1\", \"Topic1\", \"Topic1\", \"Topic1\", \"Topic1\", \"Topic1\", \"Topic1\", \"Topic1\", \"Topic1\", \"Topic1\", \"Topic1\", \"Topic1\", \"Topic1\", \"Topic1\", \"Topic1\", \"Topic1\", \"Topic1\", \"Topic1\", \"Topic1\", \"Topic1\", \"Topic1\", \"Topic1\", \"Topic1\", \"Topic1\", \"Topic1\", \"Topic1\", \"Topic1\", \"Topic1\", \"Topic1\", \"Topic1\", \"Topic1\", \"Topic1\", \"Topic1\", \"Topic1\", \"Topic1\", \"Topic1\", \"Topic1\", \"Topic1\", \"Topic1\", \"Topic1\", \"Topic1\", \"Topic1\", \"Topic1\", \"Topic2\", \"Topic2\", \"Topic2\", \"Topic2\", \"Topic2\", \"Topic2\", \"Topic2\", \"Topic2\", \"Topic2\", \"Topic2\", \"Topic2\", \"Topic2\", \"Topic2\", \"Topic2\", \"Topic2\", \"Topic2\", \"Topic2\", \"Topic2\", \"Topic2\", \"Topic2\", \"Topic2\", \"Topic2\", \"Topic2\", \"Topic2\", \"Topic2\", \"Topic2\", \"Topic2\", \"Topic2\", \"Topic2\", \"Topic2\", \"Topic2\", \"Topic2\", \"Topic2\", \"Topic2\", \"Topic2\", \"Topic2\", \"Topic2\", \"Topic2\", \"Topic2\", \"Topic2\", \"Topic2\", \"Topic2\", \"Topic2\", \"Topic2\", \"Topic2\", \"Topic2\", \"Topic2\", \"Topic2\", \"Topic2\", \"Topic2\", \"Topic2\", \"Topic2\", \"Topic2\", \"Topic2\", \"Topic2\", \"Topic2\", \"Topic2\", \"Topic2\", \"Topic2\", \"Topic2\", \"Topic2\", \"Topic2\", \"Topic2\", \"Topic2\", \"Topic2\", \"Topic2\", \"Topic2\", \"Topic2\", \"Topic2\", \"Topic2\", \"Topic3\", \"Topic3\", \"Topic3\", \"Topic3\", \"Topic3\", \"Topic3\", \"Topic3\", \"Topic3\", \"Topic3\", \"Topic3\", \"Topic3\", \"Topic3\", \"Topic3\", \"Topic3\", \"Topic3\", \"Topic3\", \"Topic3\", \"Topic3\", \"Topic3\", \"Topic3\", \"Topic3\", \"Topic3\", \"Topic3\", \"Topic3\", \"Topic3\", \"Topic3\", \"Topic3\", \"Topic3\", \"Topic3\", \"Topic3\", \"Topic3\", \"Topic3\", \"Topic3\", \"Topic3\", \"Topic3\", \"Topic3\", \"Topic3\", \"Topic3\", \"Topic3\", \"Topic3\", \"Topic3\", \"Topic3\", \"Topic3\", \"Topic3\", \"Topic3\", \"Topic3\", \"Topic3\", \"Topic3\", \"Topic3\", \"Topic4\", \"Topic4\", \"Topic4\", \"Topic4\", \"Topic4\", \"Topic4\", \"Topic4\", \"Topic4\", \"Topic4\", \"Topic4\", \"Topic4\", \"Topic4\", \"Topic4\", \"Topic4\", \"Topic4\", \"Topic4\", \"Topic4\", \"Topic4\", \"Topic4\", \"Topic4\", \"Topic4\", \"Topic4\", \"Topic4\", \"Topic4\", \"Topic4\", \"Topic4\", \"Topic4\", \"Topic4\", \"Topic4\", \"Topic4\", \"Topic4\", \"Topic4\", \"Topic4\", \"Topic4\", \"Topic4\", \"Topic4\", \"Topic4\", \"Topic4\", \"Topic4\", \"Topic4\", \"Topic4\", \"Topic4\", \"Topic4\", \"Topic4\", \"Topic4\", \"Topic4\", \"Topic4\", \"Topic4\", \"Topic4\", \"Topic4\", \"Topic4\", \"Topic4\", \"Topic4\", \"Topic4\", \"Topic5\", \"Topic5\", \"Topic5\", \"Topic5\", \"Topic5\", \"Topic5\", \"Topic5\", \"Topic5\", \"Topic5\", \"Topic5\", \"Topic5\", \"Topic5\", \"Topic5\", \"Topic5\", \"Topic5\", \"Topic5\", \"Topic5\", \"Topic5\", \"Topic5\", \"Topic5\", \"Topic5\", \"Topic5\", \"Topic5\", \"Topic5\", \"Topic5\", \"Topic5\", \"Topic5\", \"Topic5\", \"Topic5\", \"Topic5\", \"Topic5\", \"Topic5\", \"Topic5\", \"Topic5\", \"Topic5\", \"Topic5\", \"Topic5\", \"Topic5\", \"Topic5\", \"Topic5\", \"Topic5\", \"Topic5\"], \"Freq\": [706.0, 836.0, 297.0, 240.0, 220.0, 609.0, 231.0, 291.0, 558.0, 480.0, 213.0, 165.0, 500.0, 531.0, 193.0, 166.0, 175.0, 372.0, 173.0, 142.0, 201.0, 299.0, 521.0, 290.0, 146.0, 192.0, 227.0, 145.0, 213.0, 337.0, 226.33642578125, 198.9435577392578, 168.4019317626953, 153.7827606201172, 123.2076416015625, 116.40105438232422, 104.21342468261719, 99.91604614257812, 96.89854431152344, 97.59004211425781, 94.44677734375, 93.1502456665039, 88.04303741455078, 90.22228240966797, 85.6842041015625, 81.11111450195312, 79.15104675292969, 77.28852081298828, 75.29335021972656, 72.55815887451172, 72.12467956542969, 71.49015808105469, 65.22212982177734, 65.52147674560547, 63.69501495361328, 63.049346923828125, 60.85856246948242, 59.948909759521484, 59.17749786376953, 57.611576080322266, 286.8022155761719, 214.8517303466797, 160.40420532226562, 128.62606811523438, 426.1924743652344, 179.02220153808594, 408.85467529296875, 147.25733947753906, 273.0811462402344, 103.46660614013672, 351.64215087890625, 136.3936309814453, 123.4755859375, 176.9308624267578, 306.20343017578125, 297.86505126953125, 157.73214721679688, 221.98089599609375, 210.96192932128906, 240.8013916015625, 162.19398498535156, 148.94581604003906, 172.3015594482422, 183.23666381835938, 189.04644775390625, 181.25389099121094, 204.13844299316406, 147.4186553955078, 144.06187438964844, 290.9292297363281, 154.80117797851562, 132.40501403808594, 112.08724212646484, 102.53118133544922, 101.69058227539062, 97.05315399169922, 91.92267608642578, 90.95822143554688, 86.47917175292969, 79.73776245117188, 75.19476318359375, 71.75395202636719, 70.96737670898438, 67.9767837524414, 67.23400115966797, 66.93209838867188, 63.02275085449219, 64.0901870727539, 61.4536018371582, 52.629913330078125, 120.28692626953125, 51.264530181884766, 50.06082534790039, 48.23735427856445, 46.90420913696289, 46.49531936645508, 46.04573059082031, 45.178558349609375, 44.9324951171875, 182.00396728515625, 194.93954467773438, 132.58958435058594, 102.68150329589844, 261.17401123046875, 125.23997497558594, 75.97628021240234, 413.6465759277344, 129.51902770996094, 194.96725463867188, 125.86468505859375, 145.57571411132812, 259.9761962890625, 146.70144653320312, 286.5165710449219, 178.6490936279297, 332.3460388183594, 341.5394287109375, 205.5775909423828, 180.3036346435547, 278.99261474609375, 213.5527801513672, 259.0672912597656, 260.5713195800781, 255.38426208496094, 147.276611328125, 141.03858947753906, 178.53167724609375, 177.17852783203125, 180.9749298095703, 153.70645141601562, 198.96221923828125, 146.96426391601562, 183.07809448242188, 172.33517456054688, 176.0692138671875, 166.11334228515625, 154.77955627441406, 155.1776580810547, 155.023681640625, 230.3384246826172, 174.74972534179688, 172.29727172851562, 141.85328674316406, 106.16897583007812, 99.73590850830078, 94.6433334350586, 93.97874450683594, 86.38533020019531, 85.278076171875, 81.8023910522461, 80.7445068359375, 77.29519653320312, 74.60398864746094, 72.60943603515625, 67.71902465820312, 66.60346984863281, 64.92911529541016, 65.15026092529297, 61.77471923828125, 63.0954704284668, 59.626277923583984, 59.35846710205078, 56.57744216918945, 55.65700149536133, 55.1027717590332, 51.44328689575195, 50.99514389038086, 50.208980560302734, 50.219242095947266, 190.3839111328125, 208.02268981933594, 159.18043518066406, 105.33245849609375, 179.9716033935547, 164.36685180664062, 334.9474792480469, 98.87040710449219, 166.96432495117188, 123.53595733642578, 149.57032775878906, 99.56745910644531, 123.8227310180664, 148.88919067382812, 168.77333068847656, 99.52335357666016, 84.67771911621094, 98.88956451416016, 94.20270538330078, 219.27879333496094, 165.44923400878906, 145.2227020263672, 144.288818359375, 115.529296875, 112.53404235839844, 99.20570373535156, 87.41146850585938, 83.14257049560547, 82.59315490722656, 78.93315124511719, 78.7220458984375, 70.8477554321289, 65.6998291015625, 67.00972747802734, 63.3321647644043, 59.259849548339844, 58.4131965637207, 55.82571029663086, 53.90092849731445, 54.11854553222656, 51.41677474975586, 51.47779083251953, 50.486854553222656, 46.33310317993164, 47.070526123046875, 45.0731201171875, 43.084659576416016, 41.731998443603516, 44.114253997802734, 113.59818267822266, 117.3263931274414, 147.12486267089844, 69.55574798583984, 497.4781799316406, 95.61717224121094, 154.4062042236328, 293.6589660644531, 159.03509521484375, 185.87588500976562, 199.0066375732422, 130.7903594970703, 112.46138000488281, 149.70326232910156, 104.26399230957031, 174.2318878173828, 111.82367706298828, 115.6858901977539, 89.14286041259766, 92.96036529541016, 102.47782135009766, 92.99625396728516, 98.32457733154297, 91.51085662841797, 705.5344848632812, 239.4127960205078, 164.6363525390625, 142.1270294189453, 106.18289947509766, 98.78087615966797, 97.81562805175781, 93.15625762939453, 91.92185974121094, 89.16472625732422, 86.76107025146484, 84.8923568725586, 83.83975219726562, 79.40934753417969, 78.32530212402344, 76.6505126953125, 75.22528839111328, 66.22764587402344, 64.06937408447266, 60.32923126220703, 58.52476119995117, 57.1865119934082, 56.53983688354492, 53.82808303833008, 55.06865310668945, 53.58518981933594, 52.635345458984375, 51.07211685180664, 51.012332916259766, 50.28594207763672, 284.3502502441406, 112.20813751220703, 67.69871520996094, 104.1239242553711, 221.92922973632812, 115.4883041381836, 70.97074890136719, 102.52323150634766, 95.3682861328125, 64.83163452148438, 73.20577239990234, 71.00709533691406], \"Term\": [\"more_than\", \"babi\", \"than\", \"think_about\", \"yeah_yeah\", \"gonna\", \"rock_rol\", \"believ\", \"more\", \"home\", \"danc\", \"better_than\", \"onli\", \"give\", \"burn\", \"turn_light\", \"honky_tonk\", \"yeah\", \"rock\", \"each_oth\", \"wanna\", \"song\", \"think\", \"realli\", \"should_hav\", \"roll\", \"come_hom\", \"hold_tight\", \"pleas\", \"hold\", \"come_hom\", \"last_night\", \"countri\", \"live_without\", \"seems_lik\", \"hollywood\", \"sing_song\", \"daddi\", \"come_clos\", \"need_someon\", \"midnight_train\", \"thought_would\", \"talk_about\", \"guitar\", \"dead\", \"move_along\", \"come_home\", \"kill\", \"song_s\", \"jesu\", \"coffe\", \"parti\", \"york_citi\", \"livin\", \"everyon\", \"highway\", \"tell_truth\", \"blood_run\", \"helpless\", \"runnin\", \"song\", \"sing\", \"move\", \"street\", \"home\", \"town\", \"good\", \"road\", \"blue\", \"land\", \"littl\", \"seen\", \"went\", \"talk\", \"where\", \"some\", \"show\", \"about\", \"live\", \"girl\", \"woman\", \"last\", \"friend\", \"would\", \"said\", \"world\", \"gonna\", \"play\", \"them\", \"believ\", \"mani\", \"wonder\", \"left_behind\", \"even_though\", \"walk_away\", \"throw_away\", \"find_anoth\", \"from_abov\", \"love_affair\", \"some_oth\", \"keep_satisfi\", \"where_belong\", \"never_thought\", \"talking_about\", \"leave_behind\", \"hold_hand\", \"something_insid\", \"friday_night\", \"every_word\", \"other_sid\", \"babe\", \"turned_around\", \"fall_apart\", \"wait_wait\", \"young_girl\", \"arm_around\", \"gave_everyth\", \"someday\", \"lie\", \"your_ey\", \"true\", \"turn_around\", \"young\", \"realli\", \"fool\", \"differ\", \"onli\", \"found\", \"even\", \"though\", \"tri\", \"stay\", \"close\", \"mind\", \"left\", \"tell\", \"think\", \"place\", \"chang\", \"everi\", \"befor\", \"still\", \"find\", \"again\", \"enough\", \"mean\", \"leav\", \"made\", \"ever\", \"without\", \"then\", \"someth\", \"long\", \"hold\", \"dream\", \"babi\", \"much\", \"would\", \"need\", \"rock_rol\", \"honky_tonk\", \"rock\", \"repeat_choru\", \"treat_right\", \"filled_with\", \"broken_heart\", \"knock\", \"give_littl\", \"falling_down\", \"believe_believ\", \"gonna_break\", \"break_heart\", \"gold\", \"peace_mind\", \"high_abov\", \"rock_roll\", \"honki\", \"early_morn\", \"tonk\", \"brother\", \"down_riv\", \"watch_them\", \"moonlight\", \"come_along\", \"bright_star\", \"honki_tonk\", \"cool\", \"pretty_girl\", \"glow\", \"burn\", \"danc\", \"kind\", \"fill\", \"wanna\", \"roll\", \"gonna\", \"born\", \"fall\", \"fire\", \"hand\", \"soul\", \"start\", \"girl\", \"babi\", \"free\", \"cold\", \"keep\", \"said\", \"yeah_yeah\", \"turn_light\", \"should_hav\", \"hold_tight\", \"baby_pleas\", \"someone_els\", \"sweet_sweet\", \"running_through\", \"said_goodby\", \"went_wrong\", \"deep_insid\", \"walk_door\", \"feel_sam\", \"once_upon\", \"faith\", \"stone\", \"rolling_ston\", \"goodbye_goodby\", \"star_abov\", \"over_hil\", \"goin_down\", \"babi_pleas\", \"call_nam\", \"open_door\", \"wrong_wrong\", \"hold_arm\", \"loud_clear\", \"nothing_els\", \"never_m\", \"do\", \"els\", \"angel\", \"moon\", \"tight\", \"babi\", \"goodby\", \"pleas\", \"give\", \"tonight\", \"light\", \"yeah\", \"should\", \"help\", \"hold\", \"door\", \"more\", \"sweet\", \"turn\", \"shine\", \"wrong\", \"said\", \"noth\", \"dream\", \"fall\", \"more_than\", \"think_about\", \"better_than\", \"each_oth\", \"once_again\", \"take_away\", \"last_forev\", \"round_round\", \"anyth\", \"goin_back\", \"leave_alon\", \"more_than_more_than\", \"shot_down\", \"fade_away\", \"bring_back\", \"friend_min\", \"late_night\", \"tell_stori\", \"make_mistak\", \"mile\", \"turn_turn\", \"coming_back\", \"midnight\", \"wide_open\", \"bird\", \"play_gam\", \"think_about_think_about\", \"carolina\", \"rose\", \"came_along\", \"than\", \"round\", \"rather\", \"goin\", \"more\", \"about\", \"each\", \"think\", \"keep\", \"bring\", \"world\", \"need\"], \"Total\": [706.0, 836.0, 297.0, 240.0, 220.0, 609.0, 231.0, 291.0, 558.0, 480.0, 213.0, 165.0, 500.0, 531.0, 193.0, 166.0, 175.0, 372.0, 173.0, 142.0, 201.0, 299.0, 521.0, 290.0, 146.0, 192.0, 227.0, 145.0, 213.0, 337.0, 227.1332244873047, 199.73831176757812, 169.19833374023438, 154.59033203125, 124.0014877319336, 117.19445037841797, 105.00575256347656, 100.71554565429688, 97.6927719116211, 98.39077758789062, 95.2431869506836, 93.94761657714844, 88.83548736572266, 91.05116271972656, 86.49276733398438, 81.9111557006836, 79.95246124267578, 78.08465576171875, 76.08951568603516, 73.35203552246094, 72.9246826171875, 72.2901840209961, 66.01089477539062, 66.32528686523438, 64.4954605102539, 63.8535041809082, 61.66410446166992, 60.75360107421875, 59.972991943359375, 58.431129455566406, 299.1912536621094, 227.6556396484375, 169.5984344482422, 134.66278076171875, 480.9439697265625, 195.8507080078125, 523.9362182617188, 165.49737548828125, 333.9246826171875, 111.41535949707031, 520.917236328125, 160.5487060546875, 144.21356201171875, 234.5342254638672, 498.693359375, 492.4855651855469, 208.1335906982422, 385.1482238769531, 374.54132080078125, 476.70123291015625, 248.53488159179688, 214.138916015625, 295.1040954589844, 358.93890380859375, 422.6491394042969, 412.0635681152344, 609.32421875, 275.7063903808594, 252.82916259765625, 291.75396728515625, 155.59483337402344, 133.21424865722656, 112.87325286865234, 103.31741333007812, 102.4737319946289, 97.84419250488281, 92.70389556884766, 91.75862884521484, 87.26447296142578, 80.52165222167969, 75.98249053955078, 72.54306030273438, 71.755859375, 68.76825714111328, 68.01896667480469, 67.7268295288086, 63.801822662353516, 64.8841323852539, 62.237388610839844, 53.42033004760742, 122.12902069091797, 52.05741882324219, 50.84370422363281, 49.032493591308594, 47.68796157836914, 47.28157424926758, 46.82950210571289, 45.97404098510742, 45.732208251953125, 186.10997009277344, 200.55844116210938, 136.91909790039062, 108.19863891601562, 290.23193359375, 134.58773803710938, 79.129638671875, 500.9945983886719, 143.06590270996094, 224.46278381347656, 139.04515075683594, 168.56324768066406, 339.0595397949219, 172.0462188720703, 390.5213623046875, 222.29412841796875, 493.61077880859375, 521.5123291015625, 282.2956848144531, 237.9241180419922, 443.2104187011719, 306.067626953125, 408.85821533203125, 429.2019348144531, 452.2550048828125, 189.38275146484375, 182.5736541748047, 287.0698547363281, 285.685791015625, 310.2147216796875, 217.17465209960938, 418.9865417480469, 198.88075256347656, 406.67742919921875, 337.9029235839844, 412.3717956542969, 836.42333984375, 346.6383056640625, 358.93890380859375, 422.827392578125, 231.2252197265625, 175.5364532470703, 173.22447204589844, 142.65542602539062, 106.95621490478516, 100.52767181396484, 95.43399047851562, 94.7712173461914, 87.18511199951172, 86.07197570800781, 82.59502410888672, 81.53437805175781, 78.10000610351562, 75.40489196777344, 73.41510772705078, 68.51435852050781, 67.40191650390625, 65.7151870727539, 65.94607543945312, 62.56051254272461, 63.89836883544922, 60.416080474853516, 60.153743743896484, 57.381187438964844, 56.45164489746094, 55.89362335205078, 52.22907257080078, 51.79203414916992, 51.00326156616211, 51.0174560546875, 193.81228637695312, 213.57537841796875, 165.41000366210938, 109.07941436767578, 201.8195037841797, 192.02999877929688, 609.32421875, 124.83710479736328, 288.7462463378906, 198.32510375976562, 308.931396484375, 157.4432373046875, 257.1892395019531, 476.70123291015625, 836.42333984375, 227.57151794433594, 158.32745361328125, 452.8559265136719, 422.6491394042969, 220.06922912597656, 166.23593139648438, 146.01361083984375, 145.0775909423828, 116.3173599243164, 113.32466125488281, 99.99563598632812, 88.20378112792969, 83.93328094482422, 83.38392639160156, 79.71898651123047, 79.51273345947266, 71.63883972167969, 66.48784637451172, 67.8196792602539, 64.1436538696289, 60.057559967041016, 59.20240020751953, 56.61518859863281, 54.696990966796875, 54.921226501464844, 52.204925537109375, 52.269439697265625, 51.2784423828125, 47.117794036865234, 47.87281799316406, 45.864498138427734, 43.87173843383789, 42.51878356933594, 45.007041931152344, 119.00303649902344, 124.77887725830078, 171.77464294433594, 76.75995635986328, 836.42333984375, 116.03787231445312, 213.68887329101562, 531.9547729492188, 235.56423950195312, 320.57470703125, 372.83404541015625, 207.31216430664062, 168.7499237060547, 337.9029235839844, 180.67633056640625, 558.058349609375, 237.68685913085938, 322.1761169433594, 153.5103759765625, 185.9449920654297, 422.6491394042969, 242.28787231445312, 412.3717956542969, 288.7462463378906, 706.3319091796875, 240.2091827392578, 165.43211364746094, 142.92312622070312, 106.98101806640625, 99.57623291015625, 98.61445617675781, 93.94893646240234, 92.73616790771484, 89.95757293701172, 87.5638427734375, 85.6847915649414, 84.63117980957031, 80.20746612548828, 79.12271118164062, 77.46189880371094, 76.02273559570312, 67.02066802978516, 64.864990234375, 61.137542724609375, 59.33616638183594, 57.986488342285156, 57.34656524658203, 54.62851333618164, 55.89314270019531, 54.387638092041016, 53.42622375488281, 51.87356185913086, 51.8287467956543, 51.091766357421875, 297.63031005859375, 164.2887725830078, 79.60990142822266, 160.74502563476562, 558.058349609375, 385.1482238769531, 120.25273132324219, 521.5123291015625, 452.8559265136719, 126.57395935058594, 412.0635681152344, 422.827392578125], \"loglift\": [30.0, 29.0, 28.0, 27.0, 26.0, 25.0, 24.0, 23.0, 22.0, 21.0, 20.0, 19.0, 18.0, 17.0, 16.0, 15.0, 14.0, 13.0, 12.0, 11.0, 10.0, 9.0, 8.0, 7.0, 6.0, 5.0, 4.0, 3.0, 2.0, 1.0, 1.2115000486373901, 1.2109999656677246, 1.2101999521255493, 1.2096999883651733, 1.2085000276565552, 1.2081999778747559, 1.2073999643325806, 1.2070000171661377, 1.2067999839782715, 1.2067999839782715, 1.2065999507904053, 1.2064000368118286, 1.2059999704360962, 1.2058000564575195, 1.2056000232696533, 1.205199956893921, 1.2049000263214111, 1.204699993133545, 1.2043999433517456, 1.2041000127792358, 1.2038999795913696, 1.2037999629974365, 1.2029000520706177, 1.2028000354766846, 1.2024999856948853, 1.202299952507019, 1.201799988746643, 1.2015999555587769, 1.2015999555587769, 1.2007999420166016, 1.172700047492981, 1.157099962234497, 1.1591999530792236, 1.169100046157837, 1.094099998474121, 1.125100016593933, 0.9670000076293945, 1.0981999635696411, 1.013800024986267, 1.1409000158309937, 0.8220000267028809, 1.051900029182434, 1.0597000122070312, 0.9330999851226807, 0.7271999716758728, 0.7121000289916992, 0.9376999735832214, 0.6639000177383423, 0.6409000158309937, 0.5320000052452087, 0.7882000207901001, 0.8518999814987183, 0.6769000291824341, 0.5425999760627747, 0.41040000319480896, 0.3937000036239624, 0.12139999866485596, 0.5889000296592712, 0.6524999737739563, 1.3712999820709229, 1.36899995803833, 1.3680000305175781, 1.3671000003814697, 1.3665000200271606, 1.3664000034332275, 1.3660000562667847, 1.3657000064849854, 1.365399956703186, 1.3651000261306763, 1.364300012588501, 1.363700032234192, 1.3631999492645264, 1.3631000518798828, 1.3624999523162842, 1.3624999523162842, 1.3623000383377075, 1.361799955368042, 1.361799955368042, 1.3614000082015991, 1.3592000007629395, 1.3588999509811401, 1.3588000535964966, 1.3586000204086304, 1.357800006866455, 1.3574999570846558, 1.357300043106079, 1.357200026512146, 1.3566999435424805, 1.3565000295639038, 1.3517999649047852, 1.3457000255584717, 1.3420000076293945, 1.3217999935150146, 1.2685999870300293, 1.3020999431610107, 1.3335000276565552, 1.1825000047683716, 1.2746000289916992, 1.233199954032898, 1.2745000123977661, 1.2274999618530273, 1.1085000038146973, 1.2148000001907349, 1.0643999576568604, 1.155500054359436, 0.9785000085830688, 0.9508000016212463, 1.0570000410079956, 1.0967999696731567, 0.911300003528595, 1.01419997215271, 0.9178000092506409, 0.8751000165939331, 0.8026000261306763, 1.1226999759674072, 1.1160000562667847, 0.8992000222206116, 0.896399974822998, 0.8352000117301941, 1.028499960899353, 0.6294000148773193, 1.0715999603271484, 0.5759999752044678, 0.7008000016212463, 0.5231000185012817, -0.24230000376701355, 0.567799985408783, 0.5354999899864197, 0.37070000171661377, 1.7524000406265259, 1.7517999410629272, 1.7509000301361084, 1.750599980354309, 1.748900055885315, 1.7483999729156494, 1.7479000091552734, 1.7479000091552734, 1.7470999956130981, 1.746999979019165, 1.7466000318527222, 1.746500015258789, 1.74590003490448, 1.7455999851226807, 1.7452000379562378, 1.7446000576019287, 1.7443000078201294, 1.7441999912261963, 1.7440999746322632, 1.7436000108718872, 1.7436000108718872, 1.7431000471115112, 1.7430000305175781, 1.7422000169754028, 1.7421000003814697, 1.7419999837875366, 1.7410999536514282, 1.7408000230789185, 1.7405999898910522, 1.7404999732971191, 1.7383999824523926, 1.7299000024795532, 1.717900037765503, 1.7213000059127808, 1.641700029373169, 1.6007000207901, 1.1578999757766724, 1.5231000185012817, 1.2085000276565552, 1.2828999757766724, 1.030900001525879, 1.2979999780654907, 1.0253000259399414, 0.5925999879837036, 0.15569999814033508, 0.9291999936103821, 1.1304999589920044, 0.23469999432563782, 0.25519999861717224, 1.8660000562667847, 1.86489999294281, 1.8641999959945679, 1.8641999959945679, 1.8628000020980835, 1.8625999689102173, 1.8617000579833984, 1.8605999946594238, 1.860200047492981, 1.8601000308990479, 1.8596999645233154, 1.8595999479293823, 1.8585000038146973, 1.857699990272522, 1.8575999736785889, 1.8568999767303467, 1.8562999963760376, 1.8561999797821045, 1.8555999994277954, 1.8550000190734863, 1.8549000024795532, 1.8544000387191772, 1.8544000387191772, 1.854099988937378, 1.8528000116348267, 1.8526999950408936, 1.8522000312805176, 1.8515000343322754, 1.8509999513626099, 1.8495999574661255, 1.823099970817566, 1.8079999685287476, 1.7146999835968018, 1.7711000442504883, 1.350000023841858, 1.6761000156402588, 1.544700026512146, 1.2755000591278076, 1.4767999649047852, 1.3245999813079834, 1.2417999505996704, 1.409000039100647, 1.4637999534606934, 1.0555000305175781, 1.3198000192642212, 0.7056000232696533, 1.1155999898910522, 0.8453999757766724, 1.3260999917984009, 1.1763999462127686, 0.4526999890804291, 0.9121000170707703, 0.4359999895095825, 0.7204999923706055, 2.091599941253662, 2.089400053024292, 2.087899923324585, 2.0871999263763428, 2.0852999687194824, 2.084700107574463, 2.0845999717712402, 2.0843000411987305, 2.083899974822998, 2.083899974822998, 2.0834999084472656, 2.0834999084472656, 2.083400011062622, 2.08270001411438, 2.0826001167297363, 2.082200050354004, 2.082200050354004, 2.0808000564575195, 2.080399990081787, 2.079400062561035, 2.0789999961853027, 2.078900098800659, 2.0785999298095703, 2.078000068664551, 2.077899932861328, 2.077899932861328, 2.0778000354766846, 2.077199935913086, 2.076900005340576, 2.076900005340576, 2.047100067138672, 1.7115000486373901, 1.9306999444961548, 1.6584999561309814, 1.1706000566482544, 0.8883000016212463, 1.5654000043869019, 0.4661000072956085, 0.5349000096321106, 1.423699975013733, 0.36480000615119934, 0.3086000084877014], \"logprob\": [30.0, 29.0, 28.0, 27.0, 26.0, 25.0, 24.0, 23.0, 22.0, 21.0, 20.0, 19.0, 18.0, 17.0, 16.0, 15.0, 14.0, 13.0, 12.0, 11.0, 10.0, 9.0, 8.0, 7.0, 6.0, 5.0, 4.0, 3.0, 2.0, 1.0, -4.875899791717529, -5.004899978637695, -5.171599864959717, -5.262400150299072, -5.484099864959717, -5.540900230407715, -5.651500225067139, -5.693600177764893, -5.724299907684326, -5.717199802398682, -5.749899864196777, -5.763700008392334, -5.820099830627441, -5.7957000732421875, -5.847300052642822, -5.902100086212158, -5.926599979400635, -5.950399875640869, -5.976600170135498, -6.013599872589111, -6.019599914550781, -6.02839994430542, -6.120200157165527, -6.115600109100342, -6.143799781799316, -6.1539998054504395, -6.1894001960754395, -6.204500198364258, -6.217400074005127, -6.244200229644775, -4.639200210571289, -4.927999973297119, -5.220300197601318, -5.440999984741211, -4.243100166320801, -5.110400199890137, -4.284599781036377, -5.305799961090088, -4.688199996948242, -5.658699989318848, -4.435299873352051, -5.382400035858154, -5.481900215148926, -5.122200012207031, -4.573699951171875, -4.60129976272583, -5.237100124359131, -4.895400047302246, -4.946300029754639, -4.814000129699707, -5.209199905395508, -5.294400215148926, -5.14870023727417, -5.087200164794922, -5.056000232696533, -5.098100185394287, -4.9791998863220215, -5.304699897766113, -5.327700138092041, -4.465700149536133, -5.096700191497803, -5.252900123596191, -5.41949987411499, -5.508600234985352, -5.516900062561035, -5.563499927520752, -5.6178998947143555, -5.628399848937988, -5.678899765014648, -5.7600998878479, -5.818699836730957, -5.865600109100342, -5.8765997886657715, -5.919600009918213, -5.930600166320801, -5.935100078582764, -5.995299816131592, -5.978499889373779, -6.020500183105469, -6.17549991607666, -5.348899841308594, -6.2017998695373535, -6.225599765777588, -6.262700080871582, -6.2906999588012695, -6.2993998527526855, -6.309199810028076, -6.328199863433838, -6.333600044250488, -4.934800148010254, -4.866099834442139, -5.251500129699707, -5.507199764251709, -4.573599815368652, -5.308599948883057, -5.8084001541137695, -4.113800048828125, -5.275000095367432, -4.866000175476074, -5.303599834442139, -5.158100128173828, -4.578199863433838, -5.150400161743164, -4.480999946594238, -4.953400135040283, -4.332600116729736, -4.305300235748291, -4.813000202178955, -4.944200038909912, -4.507599830627441, -4.774899959564209, -4.581699848175049, -4.575900077819824, -4.5960001945495605, -5.146500110626221, -5.189799785614014, -4.953999996185303, -4.961599826812744, -4.940400123596191, -5.103799819946289, -4.845699787139893, -5.148600101470947, -4.928899765014648, -4.9893999099731445, -4.967899799346924, -5.026100158691406, -5.096799850463867, -5.094200134277344, -5.095200061798096, -4.3171000480651855, -4.593299865722656, -4.607399940490723, -4.8018999099731445, -5.091599941253662, -5.154099941253662, -5.206500053405762, -5.213600158691406, -5.297800064086914, -5.310699939727783, -5.35230016708374, -5.3653998374938965, -5.408999919891357, -5.444499969482422, -5.47160005569458, -5.541299819946289, -5.5578999519348145, -5.583399772644043, -5.579999923706055, -5.633200168609619, -5.611999988555908, -5.668600082397461, -5.673099994659424, -5.7210001945495605, -5.737400054931641, -5.747399806976318, -5.816199779510498, -5.824900150299072, -5.8404998779296875, -5.8403000831604, -4.507599830627441, -4.419000148773193, -4.686600208282471, -5.0995001792907715, -4.563899993896484, -4.6545000076293945, -3.942699909210205, -5.162799835205078, -4.638899803161621, -4.940100193023682, -4.748899936676025, -5.155799865722656, -4.93779993057251, -4.753399848937988, -4.6280999183654785, -5.156300067901611, -5.317800045013428, -5.162600040435791, -5.21120023727417, -4.252900123596191, -4.534599781036377, -4.664999961853027, -4.671500205993652, -4.893799781799316, -4.920000076293945, -5.04610013961792, -5.172699928283691, -5.222700119018555, -5.229400157928467, -5.274700164794922, -5.277400016784668, -5.382800102233887, -5.458199977874756, -5.438399791717529, -5.494900226593018, -5.561399936676025, -5.575699806213379, -5.621099948883057, -5.656099796295166, -5.652100086212158, -5.7032999992370605, -5.702099800109863, -5.72160005569458, -5.807400226593018, -5.791600227355957, -5.835000038146973, -5.880099773406982, -5.9120001792907715, -5.856500148773193, -4.910600185394287, -4.878300189971924, -4.6519999504089355, -5.401199817657471, -3.4337000846862793, -5.082900047302246, -4.603700160980225, -3.960900068283081, -4.57420015335083, -4.4182000160217285, -4.349899768829346, -4.769700050354004, -4.9207000732421875, -4.6346001625061035, -4.996399879455566, -4.482900142669678, -4.926400184631348, -4.892399787902832, -5.1529998779296875, -5.111100196838379, -5.013599872589111, -5.1107001304626465, -5.054999828338623, -5.126800060272217, -2.8612000942230225, -3.941999912261963, -4.316400051116943, -4.463399887084961, -4.755000114440918, -4.827300071716309, -4.837100028991699, -4.885900020599365, -4.899199962615967, -4.929699897766113, -4.956999778747559, -4.978799819946289, -4.991300106048584, -5.045499801635742, -5.059299945831299, -5.080900192260742, -5.099699974060059, -5.227099895477295, -5.260200023651123, -5.320300102233887, -5.3506999015808105, -5.373799800872803, -5.385200023651123, -5.4344000816345215, -5.411600112915039, -5.438899993896484, -5.4567999839782715, -5.4868998527526855, -5.488100051879883, -5.502399921417236, -3.7699999809265137, -4.69980001449585, -5.205100059509277, -4.774600028991699, -4.0177998542785645, -4.671000003814697, -5.157899856567383, -4.79010009765625, -4.862400054931641, -5.2484002113342285, -5.1269001960754395, -5.157400131225586]}, \"token.table\": {\"Topic\": [1, 2, 3, 5, 1, 2, 3, 4, 5, 3, 4, 5, 5, 2, 2, 5, 1, 2, 3, 4, 4, 4, 1, 2, 3, 4, 5, 2, 3, 5, 5, 1, 1, 2, 3, 4, 1, 3, 5, 3, 3, 1, 4, 5, 5, 3, 3, 3, 4, 4, 5, 5, 1, 2, 5, 1, 2, 4, 5, 1, 1, 3, 4, 3, 1, 1, 1, 5, 3, 1, 1, 1, 3, 1, 4, 1, 2, 4, 2, 3, 4, 3, 1, 2, 4, 5, 2, 4, 5, 5, 3, 2, 4, 1, 2, 4, 5, 1, 2, 3, 4, 2, 1, 2, 3, 4, 5, 1, 2, 3, 4, 5, 2, 1, 5, 4, 2, 3, 4, 5, 2, 3, 4, 3, 5, 3, 1, 2, 3, 4, 5, 2, 1, 2, 3, 5, 2, 5, 1, 2, 3, 1, 2, 3, 4, 2, 1, 2, 3, 5, 5, 2, 2, 1, 2, 3, 1, 2, 3, 4, 5, 3, 3, 1, 4, 5, 5, 4, 3, 1, 2, 3, 4, 5, 3, 1, 2, 3, 4, 5, 2, 3, 4, 4, 1, 1, 2, 3, 4, 5, 1, 4, 1, 3, 1, 2, 3, 4, 5, 4, 2, 4, 1, 1, 3, 4, 3, 3, 3, 1, 1, 2, 3, 4, 5, 2, 1, 3, 4, 5, 3, 1, 3, 1, 2, 5, 5, 1, 5, 1, 2, 4, 5, 5, 2, 1, 2, 4, 5, 2, 2, 1, 2, 3, 4, 1, 2, 3, 4, 1, 3, 4, 5, 1, 1, 1, 2, 3, 4, 4, 2, 1, 2, 3, 5, 5, 2, 1, 2, 5, 5, 1, 5, 1, 2, 3, 4, 5, 1, 4, 5, 3, 1, 2, 3, 4, 5, 5, 5, 1, 4, 1, 1, 2, 3, 4, 5, 1, 2, 4, 5, 1, 4, 2, 1, 2, 3, 4, 5, 4, 5, 4, 1, 2, 3, 4, 5, 4, 2, 4, 1, 3, 1, 2, 3, 5, 1, 3, 4, 5, 5, 1, 3, 4, 3, 3, 5, 1, 2, 3, 4, 3, 1, 2, 4, 5, 3, 3, 3, 1, 3, 4, 5, 1, 3, 5, 5, 1, 4, 1, 2, 3, 4, 4, 1, 1, 2, 1, 2, 3, 4, 5, 5, 1, 2, 4, 4, 1, 3, 4, 5, 1, 5, 1, 1, 2, 3, 5, 2, 2, 4, 2, 3, 4, 5, 2, 1, 5, 1, 1, 2, 3, 5, 4, 1, 3, 4, 5, 1, 2, 4, 1, 2, 4, 5, 4, 1, 2, 1, 2, 3, 4, 4, 5, 1, 2, 4, 1, 2, 1, 2, 3, 4, 5, 5, 1, 3, 5, 1, 3, 4, 5, 1, 2, 3, 4, 5, 1, 2, 3, 4, 5, 5, 5, 2, 4, 5, 1, 2, 1, 4, 1, 3, 4, 3, 1, 3, 3, 1, 2, 3, 4, 2, 4, 1, 2, 3, 4, 1, 2, 4, 5, 2, 2, 2, 4, 2, 3, 3, 1, 2, 3, 4, 4, 1, 2, 3, 4, 5, 2, 5, 1, 2, 4, 5, 1, 2, 3, 2, 1, 2, 3, 4, 5, 1, 2, 4, 5, 1, 2, 4, 4, 1, 2, 3, 4, 4, 1, 1, 2, 2, 2, 3], \"Freq\": [0.5764014720916748, 0.10385611653327942, 0.018174821510910988, 0.29858633875846863, 0.11055709421634674, 0.5638411641120911, 0.05085626244544983, 0.19458049535751343, 0.08181224763393402, 0.03205670788884163, 0.9376587271690369, 0.024042529985308647, 0.9920616745948792, 0.9728948473930359, 0.9825674295425415, 0.008188062347471714, 0.0047822673805058, 0.19846409559249878, 0.20205079019069672, 0.5941967368125916, 0.9769192934036255, 0.9972715973854065, 0.10455206036567688, 0.6991918683052063, 0.10781931132078171, 0.08821579813957214, 0.0032672518864274025, 0.9974157214164734, 0.9927958846092224, 0.9973879456520081, 0.9840205311775208, 0.987595796585083, 0.8175496459007263, 0.020962810143828392, 0.15272904932498932, 0.005989374592900276, 0.17622965574264526, 0.7930334210395813, 0.0320417545735836, 0.9859154224395752, 0.9840120673179626, 0.19751298427581787, 0.2844187021255493, 0.5135337710380554, 0.9858105182647705, 0.9954524636268616, 0.9859406352043152, 0.9803299903869629, 0.015478895045816898, 0.9757135510444641, 0.9786312580108643, 0.9831597805023193, 0.1134815588593483, 0.756543755531311, 0.1260906159877777, 0.05812391638755798, 0.8544215559959412, 0.06974869966506958, 0.017437174916267395, 0.9873200058937073, 0.4168575704097748, 0.5368620157241821, 0.04421216994524002, 0.9919994473457336, 0.9929086565971375, 0.9950107336044312, 0.9880871772766113, 0.982987642288208, 0.9847074151039124, 0.9929175972938538, 0.9928953647613525, 0.023410938680171967, 0.9738950133323669, 0.9943028092384338, 0.9909809827804565, 0.03791246935725212, 0.96044921875, 0.977624773979187, 0.1660427749156952, 0.2545989155769348, 0.5756149888038635, 0.993113100528717, 0.2449246048927307, 0.42679932713508606, 0.23764961957931519, 0.08972485363483429, 0.23284293711185455, 0.1746322065591812, 0.5904231667518616, 0.9935411214828491, 0.985653817653656, 0.04201573505997658, 0.9579587578773499, 0.005280312150716782, 0.776205837726593, 0.010560624301433563, 0.20593217015266418, 0.11583212018013, 0.8687409162521362, 0.004455081652849913, 0.008910163305699825, 0.996927797794342, 0.11927222460508347, 0.5834668278694153, 0.016117868945002556, 0.2159794270992279, 0.06447147578001022, 0.18050117790699005, 0.6294978260993958, 0.0834817886352539, 0.011281323619186878, 0.09701938182115555, 0.9801182150840759, 0.9923179149627686, 0.9849457144737244, 0.9879138469696045, 0.0727282166481018, 0.5783625245094299, 0.31861886382102966, 0.02770598791539669, 0.9834059476852417, 0.9875456094741821, 0.991082489490509, 0.9626014232635498, 0.02750289812684059, 0.9947509765625, 0.30055782198905945, 0.6081053614616394, 0.002329905517399311, 0.0838766023516655, 0.0069897170178592205, 0.9924070835113525, 0.15126678347587585, 0.10588674992322922, 0.6252360343933105, 0.12101342529058456, 0.9287621974945068, 0.06687087565660477, 0.05591828376054764, 0.9086721539497375, 0.03494893014431, 0.0966729074716568, 0.1625862568616867, 0.4394223093986511, 0.29880717396736145, 0.9863736629486084, 0.5828452110290527, 0.05082952231168747, 0.2067067176103592, 0.15587720274925232, 0.9940370917320251, 0.9917323589324951, 0.9822867512702942, 0.5055577158927917, 0.18250425159931183, 0.31256476044654846, 0.19926506280899048, 0.11843112111091614, 0.09587281197309494, 0.5526785850524902, 0.033837463706731796, 0.9864069223403931, 0.9800567030906677, 0.29860955476760864, 0.04976825788617134, 0.6469873785972595, 0.9893552660942078, 0.9832264184951782, 0.9946304559707642, 0.3347971439361572, 0.0738523080945015, 0.5497894287109375, 0.03938789665699005, 0.0016411624383181334, 0.9934459924697876, 0.7806293964385986, 0.10306598246097565, 0.02862943895161152, 0.08207105845212936, 0.005725887604057789, 0.08617875725030899, 0.08617875725030899, 0.8273161053657532, 0.9796900153160095, 0.9884552359580994, 0.3528291583061218, 0.09063500910997391, 0.48554468154907227, 0.006473929155617952, 0.06473929435014725, 0.331851989030838, 0.663703978061676, 0.9837761521339417, 0.99249267578125, 0.9866334199905396, 0.5090219378471375, 0.02367543801665306, 0.4439144730567932, 0.02367543801665306, 0.981768012046814, 0.9892682433128357, 0.9925723075866699, 0.9898079633712769, 0.8857580423355103, 0.020792443305253983, 0.09356599301099777, 0.9891168475151062, 0.9764676690101624, 0.9969439506530762, 0.9952007532119751, 0.1876976639032364, 0.2119879573583603, 0.21861258149147034, 0.1722402125597, 0.2097797393798828, 0.9870694875717163, 0.9861092567443848, 0.9612478017807007, 0.012091167271137238, 0.024182334542274475, 0.9918622970581055, 0.9244685769081116, 0.0628279596567154, 0.6958100199699402, 0.2241535633802414, 0.07471784949302673, 0.993769109249115, 0.9963036179542542, 0.9865469932556152, 0.23339267075061798, 0.6235415935516357, 0.1079876571893692, 0.03483472764492035, 0.993560791015625, 0.9850193858146667, 0.13945487141609192, 0.8052394390106201, 0.04948398843407631, 0.008997088298201561, 0.9922634363174438, 0.9839892387390137, 0.13725349307060242, 0.1497310847043991, 0.13413409888744354, 0.5802079439163208, 0.6757311224937439, 0.08062700927257538, 0.14781618118286133, 0.09598454087972641, 0.5633557438850403, 0.2055847942829132, 0.09878750145435333, 0.13349661231040955, 0.996181309223175, 0.9950956106185913, 0.26064884662628174, 0.44998809695243835, 0.07376854121685028, 0.21638771891593933, 0.9811510443687439, 0.9855098724365234, 0.31153106689453125, 0.6195617914199829, 0.05950593575835228, 0.007000698242336512, 0.9866647720336914, 0.9961770176887512, 0.14240828156471252, 0.7722910642623901, 0.08215862512588501, 0.9939566254615784, 0.986947238445282, 0.9813936948776245, 0.06657766550779343, 0.7349149584770203, 0.1075485348701477, 0.02048543468117714, 0.07169902324676514, 0.023286323994398117, 0.8557724356651306, 0.11643162369728088, 0.9933569431304932, 0.1343945413827896, 0.06092552840709686, 0.0949721485376358, 0.31179535388946533, 0.39780786633491516, 0.9995300769805908, 0.9920080304145813, 0.9434049129486084, 0.05306652933359146, 0.9888762831687927, 0.15289711952209473, 0.44715195894241333, 0.1211637556552887, 0.18751533329486847, 0.08943039178848267, 0.2672485411167145, 0.3665798306465149, 0.19629760086536407, 0.16791722178459167, 0.9960283041000366, 0.9877986907958984, 0.9894662499427795, 0.4374960958957672, 0.020636608824133873, 0.11969233304262161, 0.3838409185409546, 0.03714589402079582, 0.9801298379898071, 0.9908300042152405, 0.9926626086235046, 0.07584912329912186, 0.8263562321662903, 0.039920590817928314, 0.0558888278901577, 0.0019960294011980295, 0.9750686287879944, 0.9921316504478455, 0.9872572422027588, 0.9821527004241943, 0.9943457245826721, 0.17357686161994934, 0.7297313213348389, 0.08501724153757095, 0.014169540256261826, 0.5331758856773376, 0.22850395739078522, 0.047151610255241394, 0.18860644102096558, 0.9928726553916931, 0.26206323504447937, 0.01403910294175148, 0.7206739187240601, 0.9803294539451599, 0.13817377388477325, 0.8541651368141174, 0.041346244513988495, 0.8992807865142822, 0.055128324776887894, 0.006891040597110987, 0.9954055547714233, 0.888231635093689, 0.05438152700662613, 0.030211959034204483, 0.01812717504799366, 0.9929313063621521, 0.9947012066841125, 0.9940370321273804, 0.14060303568840027, 0.8540332317352295, 0.9823908805847168, 0.9840099215507507, 0.17043161392211914, 0.1460842341184616, 0.6817264556884766, 0.9898994565010071, 0.9926216006278992, 0.986352264881134, 0.4471794366836548, 0.0875430628657341, 0.22240670025348663, 0.241334930062294, 0.9888806939125061, 0.9919235706329346, 0.8470949530601501, 0.1432587057352066, 0.0846848264336586, 0.09119904786348343, 0.14331278204917908, 0.5797653794288635, 0.10422748327255249, 0.9925419688224792, 0.07717829942703247, 0.28941860795021057, 0.6318973302841187, 0.9930580854415894, 0.7591277956962585, 0.033632244914770126, 0.10089673846960068, 0.10570134222507477, 0.9444088339805603, 0.05271119251847267, 0.9904219508171082, 0.6050938963890076, 0.22741782665252686, 0.14822769165039062, 0.02030516415834427, 0.9935215711593628, 0.9788132309913635, 0.9971351027488708, 0.7391363978385925, 0.19106927514076233, 0.045253247022628784, 0.02514069341123104, 0.987432599067688, 0.959252655506134, 0.040108125656843185, 0.9856811165809631, 0.13338139653205872, 0.16513888537883759, 0.6351495385169983, 0.06986644864082336, 0.9891338348388672, 0.3227195739746094, 0.48213526606559753, 0.13997475802898407, 0.054434627294540405, 0.15631473064422607, 0.7668269872665405, 0.0737333595752716, 0.1443043053150177, 0.6334714293479919, 0.11740010976791382, 0.10517093539237976, 0.9821704030036926, 0.9579484462738037, 0.03712978586554527, 0.176703080534935, 0.29450511932373047, 0.054693810641765594, 0.47120821475982666, 0.9900432229042053, 0.9942131638526917, 0.7546873092651367, 0.23877112567424774, 0.004263769835233688, 0.9905951023101807, 0.9888283014297485, 0.12357915192842484, 0.6725947260856628, 0.08306139707565308, 0.10939793288707733, 0.012155326083302498, 0.9847708344459534, 0.9892302751541138, 0.043678347021341324, 0.9542039036750793, 0.5695545673370361, 0.2966429889202118, 0.003955239895731211, 0.1305229216814041, 0.1742299348115921, 0.47495558857917786, 0.11217544227838516, 0.17900335788726807, 0.059667788445949554, 0.009587501175701618, 0.655785083770752, 0.11313251405954361, 0.024927502498030663, 0.1975025236606598, 0.9949661493301392, 0.9920222163200378, 0.9061804413795471, 0.07191908359527588, 0.021575724706053734, 0.9899133443832397, 0.9913720488548279, 0.09119338542222977, 0.9119338393211365, 0.11037328839302063, 0.2122563272714615, 0.6749750971794128, 0.9910404682159424, 0.9139614701271057, 0.08169487863779068, 0.9910597801208496, 0.023729965090751648, 0.8661437034606934, 0.05339242145419121, 0.05932491272687912, 0.9722851514816284, 0.02493038959801197, 0.0869089886546135, 0.347635954618454, 0.20485690236091614, 0.3600515127182007, 0.02921433188021183, 0.9713765382766724, 0.9925652146339417, 0.9943345189094543, 0.9796874523162842, 0.9789426922798157, 0.9953770637512207, 0.9935515522956848, 0.10405337065458298, 0.8918860554695129, 0.9808200597763062, 0.8529017567634583, 0.03467080369591713, 0.027736643329262733, 0.08320992439985275, 0.9953956604003906, 0.6136035323143005, 0.1764611452817917, 0.14237205684185028, 0.02807336300611496, 0.040104806423187256, 0.9925139546394348, 0.9884947538375854, 0.23483403027057648, 0.7091066837310791, 0.004604588728398085, 0.05065047740936279, 0.6518199443817139, 0.024141481146216393, 0.32188642024993896, 0.9908850193023682, 0.4392526149749756, 0.184437558054924, 0.17715713381767273, 0.02184128947556019, 0.17715713381767273, 0.5098360776901245, 0.4318283796310425, 0.05014780908823013, 0.008357968181371689, 0.1290704309940338, 0.3710774779319763, 0.5001479387283325, 0.9762765765190125, 0.2789444923400879, 0.0053643169812858105, 0.18238677084445953, 0.533749520778656, 0.9951413869857788, 0.9846859574317932, 0.046211302280426025, 0.9519528150558472, 0.9855737090110779, 0.977916419506073, 0.021492669358849525], \"Term\": [\"about\", \"about\", \"about\", \"about\", \"again\", \"again\", \"again\", \"again\", \"again\", \"angel\", \"angel\", \"angel\", \"anyth\", \"arm_around\", \"babe\", \"babe\", \"babi\", \"babi\", \"babi\", \"babi\", \"babi_pleas\", \"baby_pleas\", \"befor\", \"befor\", \"befor\", \"befor\", \"befor\", \"believ\", \"believe_believ\", \"better_than\", \"bird\", \"blood_run\", \"blue\", \"blue\", \"blue\", \"blue\", \"born\", \"born\", \"born\", \"break_heart\", \"bright_star\", \"bring\", \"bring\", \"bring\", \"bring_back\", \"broken_heart\", \"brother\", \"burn\", \"burn\", \"call_nam\", \"came_along\", \"carolina\", \"chang\", \"chang\", \"chang\", \"close\", \"close\", \"close\", \"close\", \"coffe\", \"cold\", \"cold\", \"cold\", \"come_along\", \"come_clos\", \"come_hom\", \"come_home\", \"coming_back\", \"cool\", \"countri\", \"daddi\", \"danc\", \"danc\", \"dead\", \"deep_insid\", \"differ\", \"differ\", \"do\", \"door\", \"door\", \"door\", \"down_riv\", \"dream\", \"dream\", \"dream\", \"dream\", \"each\", \"each\", \"each\", \"each_oth\", \"early_morn\", \"els\", \"els\", \"enough\", \"enough\", \"enough\", \"enough\", \"even\", \"even\", \"even\", \"even\", \"even_though\", \"ever\", \"ever\", \"ever\", \"ever\", \"ever\", \"everi\", \"everi\", \"everi\", \"everi\", \"everi\", \"every_word\", \"everyon\", \"fade_away\", \"faith\", \"fall\", \"fall\", \"fall\", \"fall\", \"fall_apart\", \"falling_down\", \"feel_sam\", \"fill\", \"fill\", \"filled_with\", \"find\", \"find\", \"find\", \"find\", \"find\", \"find_anoth\", \"fire\", \"fire\", \"fire\", \"fire\", \"fool\", \"fool\", \"found\", \"found\", \"found\", \"free\", \"free\", \"free\", \"free\", \"friday_night\", \"friend\", \"friend\", \"friend\", \"friend\", \"friend_min\", \"from_abov\", \"gave_everyth\", \"girl\", \"girl\", \"girl\", \"give\", \"give\", \"give\", \"give\", \"give\", \"give_littl\", \"glow\", \"goin\", \"goin\", \"goin\", \"goin_back\", \"goin_down\", \"gold\", \"gonna\", \"gonna\", \"gonna\", \"gonna\", \"gonna\", \"gonna_break\", \"good\", \"good\", \"good\", \"good\", \"good\", \"goodby\", \"goodby\", \"goodby\", \"goodbye_goodby\", \"guitar\", \"hand\", \"hand\", \"hand\", \"hand\", \"hand\", \"help\", \"help\", \"helpless\", \"high_abov\", \"highway\", \"hold\", \"hold\", \"hold\", \"hold\", \"hold_arm\", \"hold_hand\", \"hold_tight\", \"hollywood\", \"home\", \"home\", \"home\", \"honki\", \"honki_tonk\", \"honky_tonk\", \"jesu\", \"keep\", \"keep\", \"keep\", \"keep\", \"keep\", \"keep_satisfi\", \"kill\", \"kind\", \"kind\", \"kind\", \"knock\", \"land\", \"land\", \"last\", \"last\", \"last\", \"last_forev\", \"last_night\", \"late_night\", \"leav\", \"leav\", \"leav\", \"leav\", \"leave_alon\", \"leave_behind\", \"left\", \"left\", \"left\", \"left\", \"left_behind\", \"lie\", \"light\", \"light\", \"light\", \"light\", \"littl\", \"littl\", \"littl\", \"littl\", \"live\", \"live\", \"live\", \"live\", \"live_without\", \"livin\", \"long\", \"long\", \"long\", \"long\", \"loud_clear\", \"love_affair\", \"made\", \"made\", \"made\", \"made\", \"make_mistak\", \"mani\", \"mean\", \"mean\", \"mean\", \"midnight\", \"midnight_train\", \"mile\", \"mind\", \"mind\", \"mind\", \"mind\", \"mind\", \"moon\", \"moon\", \"moon\", \"moonlight\", \"more\", \"more\", \"more\", \"more\", \"more\", \"more_than\", \"more_than_more_than\", \"move\", \"move\", \"move_along\", \"much\", \"much\", \"much\", \"much\", \"much\", \"need\", \"need\", \"need\", \"need\", \"need_someon\", \"never_m\", \"never_thought\", \"noth\", \"noth\", \"noth\", \"noth\", \"noth\", \"nothing_els\", \"once_again\", \"once_upon\", \"onli\", \"onli\", \"onli\", \"onli\", \"onli\", \"open_door\", \"other_sid\", \"over_hil\", \"parti\", \"peace_mind\", \"place\", \"place\", \"place\", \"place\", \"play\", \"play\", \"play\", \"play\", \"play_gam\", \"pleas\", \"pleas\", \"pleas\", \"pretty_girl\", \"rather\", \"rather\", \"realli\", \"realli\", \"realli\", \"realli\", \"repeat_choru\", \"road\", \"road\", \"road\", \"road\", \"rock\", \"rock_rol\", \"rock_roll\", \"roll\", \"roll\", \"rolling_ston\", \"rose\", \"round\", \"round\", \"round\", \"round_round\", \"runnin\", \"running_through\", \"said\", \"said\", \"said\", \"said\", \"said_goodby\", \"seems_lik\", \"seen\", \"seen\", \"shine\", \"shine\", \"shine\", \"shine\", \"shine\", \"shot_down\", \"should\", \"should\", \"should\", \"should_hav\", \"show\", \"show\", \"show\", \"show\", \"sing\", \"sing\", \"sing_song\", \"some\", \"some\", \"some\", \"some\", \"some_oth\", \"someday\", \"someone_els\", \"someth\", \"someth\", \"someth\", \"someth\", \"something_insid\", \"song\", \"song\", \"song_s\", \"soul\", \"soul\", \"soul\", \"soul\", \"star_abov\", \"start\", \"start\", \"start\", \"start\", \"stay\", \"stay\", \"stay\", \"still\", \"still\", \"still\", \"still\", \"stone\", \"street\", \"street\", \"sweet\", \"sweet\", \"sweet\", \"sweet\", \"sweet_sweet\", \"take_away\", \"talk\", \"talk\", \"talk\", \"talk_about\", \"talking_about\", \"tell\", \"tell\", \"tell\", \"tell\", \"tell\", \"tell_stori\", \"tell_truth\", \"than\", \"than\", \"them\", \"them\", \"them\", \"them\", \"then\", \"then\", \"then\", \"then\", \"then\", \"think\", \"think\", \"think\", \"think\", \"think\", \"think_about\", \"think_about_think_about\", \"though\", \"though\", \"though\", \"thought_would\", \"throw_away\", \"tight\", \"tight\", \"tonight\", \"tonight\", \"tonight\", \"tonk\", \"town\", \"town\", \"treat_right\", \"tri\", \"tri\", \"tri\", \"tri\", \"true\", \"true\", \"turn\", \"turn\", \"turn\", \"turn\", \"turn_around\", \"turn_around\", \"turn_light\", \"turn_turn\", \"turned_around\", \"wait_wait\", \"walk_away\", \"walk_door\", \"wanna\", \"wanna\", \"watch_them\", \"went\", \"went\", \"went\", \"went\", \"went_wrong\", \"where\", \"where\", \"where\", \"where\", \"where\", \"where_belong\", \"wide_open\", \"without\", \"without\", \"without\", \"without\", \"woman\", \"woman\", \"woman\", \"wonder\", \"world\", \"world\", \"world\", \"world\", \"world\", \"would\", \"would\", \"would\", \"would\", \"wrong\", \"wrong\", \"wrong\", \"wrong_wrong\", \"yeah\", \"yeah\", \"yeah\", \"yeah\", \"yeah_yeah\", \"york_citi\", \"young\", \"young\", \"young_girl\", \"your_ey\", \"your_ey\"]}, \"R\": 30, \"lambda.step\": 0.01, \"plot.opts\": {\"xlab\": \"PC1\", \"ylab\": \"PC2\"}, \"topic.order\": [3, 4, 5, 2, 1]};\n",
       "\n",
       "function LDAvis_load_lib(url, callback){\n",
       "  var s = document.createElement('script');\n",
       "  s.src = url;\n",
       "  s.async = true;\n",
       "  s.onreadystatechange = s.onload = callback;\n",
       "  s.onerror = function(){console.warn(\"failed to load library \" + url);};\n",
       "  document.getElementsByTagName(\"head\")[0].appendChild(s);\n",
       "}\n",
       "\n",
       "if(typeof(LDAvis) !== \"undefined\"){\n",
       "   // already loaded: just create the visualization\n",
       "   !function(LDAvis){\n",
       "       new LDAvis(\"#\" + \"ldavis_el7156447618837765788495848\", ldavis_el7156447618837765788495848_data);\n",
       "   }(LDAvis);\n",
       "}else if(typeof define === \"function\" && define.amd){\n",
       "   // require.js is available: use it to load d3/LDAvis\n",
       "   require.config({paths: {d3: \"https://cdnjs.cloudflare.com/ajax/libs/d3/3.5.5/d3.min\"}});\n",
       "   require([\"d3\"], function(d3){\n",
       "      window.d3 = d3;\n",
       "      LDAvis_load_lib(\"https://cdn.rawgit.com/bmabey/pyLDAvis/files/ldavis.v1.0.0.js\", function(){\n",
       "        new LDAvis(\"#\" + \"ldavis_el7156447618837765788495848\", ldavis_el7156447618837765788495848_data);\n",
       "      });\n",
       "    });\n",
       "}else{\n",
       "    // require.js not available: dynamically load d3 & LDAvis\n",
       "    LDAvis_load_lib(\"https://cdnjs.cloudflare.com/ajax/libs/d3/3.5.5/d3.min.js\", function(){\n",
       "         LDAvis_load_lib(\"https://cdn.rawgit.com/bmabey/pyLDAvis/files/ldavis.v1.0.0.js\", function(){\n",
       "                 new LDAvis(\"#\" + \"ldavis_el7156447618837765788495848\", ldavis_el7156447618837765788495848_data);\n",
       "            })\n",
       "         });\n",
       "}\n",
       "</script>"
      ],
      "text/plain": [
       "PreparedData(topic_coordinates=              x         y  topics  cluster       Freq\n",
       "topic                                                \n",
       "2     -0.030472  0.046388       1        1  29.672012\n",
       "3     -0.104239 -0.190443       2        1  25.306311\n",
       "4     -0.032799  0.268509       3        1  17.268850\n",
       "1     -0.140438 -0.063995       4        1  15.418085\n",
       "0      0.307948 -0.060460       5        1  12.334742, topic_info=     Category        Freq                     Term       Total  loglift  \\\n",
       "term                                                                      \n",
       "77    Default  706.000000                more_than  706.000000  30.0000   \n",
       "31    Default  836.000000                     babi  836.000000  29.0000   \n",
       "81    Default  297.000000                     than  297.000000  28.0000   \n",
       "620   Default  240.000000              think_about  240.000000  27.0000   \n",
       "649   Default  220.000000                yeah_yeah  220.000000  26.0000   \n",
       "10    Default  609.000000                    gonna  609.000000  25.0000   \n",
       "581   Default  231.000000                 rock_rol  231.000000  24.0000   \n",
       "327   Default  291.000000                   believ  291.000000  23.0000   \n",
       "17    Default  558.000000                     more  558.000000  22.0000   \n",
       "399   Default  480.000000                     home  480.000000  21.0000   \n",
       "188   Default  213.000000                     danc  213.000000  20.0000   \n",
       "754   Default  165.000000              better_than  165.000000  19.0000   \n",
       "47    Default  500.000000                     onli  500.000000  18.0000   \n",
       "8     Default  531.000000                     give  531.000000  17.0000   \n",
       "59    Default  193.000000                     burn  193.000000  16.0000   \n",
       "1483  Default  166.000000               turn_light  166.000000  15.0000   \n",
       "611   Default  175.000000               honky_tonk  175.000000  14.0000   \n",
       "241   Default  372.000000                     yeah  372.000000  13.0000   \n",
       "79    Default  173.000000                     rock  173.000000  12.0000   \n",
       "757   Default  142.000000                 each_oth  142.000000  11.0000   \n",
       "203   Default  201.000000                    wanna  201.000000  10.0000   \n",
       "306   Default  299.000000                     song  299.000000   9.0000   \n",
       "124   Default  521.000000                    think  521.000000   8.0000   \n",
       "195   Default  290.000000                   realli  290.000000   7.0000   \n",
       "443   Default  146.000000               should_hav  146.000000   6.0000   \n",
       "583   Default  192.000000                     roll  192.000000   5.0000   \n",
       "1241  Default  227.000000                 come_hom  227.000000   4.0000   \n",
       "137   Default  145.000000               hold_tight  145.000000   3.0000   \n",
       "50    Default  213.000000                    pleas  213.000000   2.0000   \n",
       "136   Default  337.000000                     hold  337.000000   1.0000   \n",
       "...       ...         ...                      ...         ...      ...   \n",
       "1556   Topic5   83.839752                shot_down   84.631180   2.0834   \n",
       "1101   Topic5   79.409348                fade_away   80.207466   2.0827   \n",
       "1076   Topic5   78.325302               bring_back   79.122711   2.0826   \n",
       "1178   Topic5   76.650513               friend_min   77.461899   2.0822   \n",
       "674    Topic5   75.225288               late_night   76.022736   2.0822   \n",
       "1331   Topic5   66.227646               tell_stori   67.020668   2.0808   \n",
       "793    Topic5   64.069374              make_mistak   64.864990   2.0804   \n",
       "1459   Topic5   60.329231                     mile   61.137543   2.0794   \n",
       "1896   Topic5   58.524761                turn_turn   59.336166   2.0790   \n",
       "982    Topic5   57.186512              coming_back   57.986488   2.0789   \n",
       "380    Topic5   56.539837                 midnight   57.346565   2.0786   \n",
       "1835   Topic5   53.828083                wide_open   54.628513   2.0780   \n",
       "1498   Topic5   55.068653                     bird   55.893143   2.0779   \n",
       "690    Topic5   53.585190                 play_gam   54.387638   2.0779   \n",
       "996    Topic5   52.635345  think_about_think_about   53.426224   2.0778   \n",
       "775    Topic5   51.072117                 carolina   51.873562   2.0772   \n",
       "783    Topic5   51.012333                     rose   51.828747   2.0769   \n",
       "1373   Topic5   50.285942               came_along   51.091766   2.0769   \n",
       "81     Topic5  284.350250                     than  297.630310   2.0471   \n",
       "719    Topic5  112.208138                    round  164.288773   1.7115   \n",
       "339    Topic5   67.698715                   rather   79.609901   1.9307   \n",
       "634    Topic5  104.123924                     goin  160.745026   1.6585   \n",
       "17     Topic5  221.929230                     more  558.058350   1.1706   \n",
       "311    Topic5  115.488304                    about  385.148224   0.8883   \n",
       "545    Topic5   70.970749                     each  120.252731   1.5654   \n",
       "124    Topic5  102.523232                    think  521.512329   0.4661   \n",
       "550    Topic5   95.368286                     keep  452.855927   0.5349   \n",
       "92     Topic5   64.831635                    bring  126.573959   1.4237   \n",
       "85     Topic5   73.205772                    world  412.063568   0.3648   \n",
       "18     Topic5   71.007095                     need  422.827393   0.3086   \n",
       "\n",
       "      logprob  \n",
       "term           \n",
       "77    30.0000  \n",
       "31    29.0000  \n",
       "81    28.0000  \n",
       "620   27.0000  \n",
       "649   26.0000  \n",
       "10    25.0000  \n",
       "581   24.0000  \n",
       "327   23.0000  \n",
       "17    22.0000  \n",
       "399   21.0000  \n",
       "188   20.0000  \n",
       "754   19.0000  \n",
       "47    18.0000  \n",
       "8     17.0000  \n",
       "59    16.0000  \n",
       "1483  15.0000  \n",
       "611   14.0000  \n",
       "241   13.0000  \n",
       "79    12.0000  \n",
       "757   11.0000  \n",
       "203   10.0000  \n",
       "306    9.0000  \n",
       "124    8.0000  \n",
       "195    7.0000  \n",
       "443    6.0000  \n",
       "583    5.0000  \n",
       "1241   4.0000  \n",
       "137    3.0000  \n",
       "50     2.0000  \n",
       "136    1.0000  \n",
       "...       ...  \n",
       "1556  -4.9913  \n",
       "1101  -5.0455  \n",
       "1076  -5.0593  \n",
       "1178  -5.0809  \n",
       "674   -5.0997  \n",
       "1331  -5.2271  \n",
       "793   -5.2602  \n",
       "1459  -5.3203  \n",
       "1896  -5.3507  \n",
       "982   -5.3738  \n",
       "380   -5.3852  \n",
       "1835  -5.4344  \n",
       "1498  -5.4116  \n",
       "690   -5.4389  \n",
       "996   -5.4568  \n",
       "775   -5.4869  \n",
       "783   -5.4881  \n",
       "1373  -5.5024  \n",
       "81    -3.7700  \n",
       "719   -4.6998  \n",
       "339   -5.2051  \n",
       "634   -4.7746  \n",
       "17    -4.0178  \n",
       "311   -4.6710  \n",
       "545   -5.1579  \n",
       "124   -4.7901  \n",
       "550   -4.8624  \n",
       "92    -5.2484  \n",
       "85    -5.1269  \n",
       "18    -5.1574  \n",
       "\n",
       "[304 rows x 6 columns], token_table=      Topic      Freq            Term\n",
       "term                                 \n",
       "311       1  0.576401           about\n",
       "311       2  0.103856           about\n",
       "311       3  0.018175           about\n",
       "311       5  0.298586           about\n",
       "1         1  0.110557           again\n",
       "1         2  0.563841           again\n",
       "1         3  0.050856           again\n",
       "1         4  0.194580           again\n",
       "1         5  0.081812           again\n",
       "603       3  0.032057           angel\n",
       "603       4  0.937659           angel\n",
       "603       5  0.024043           angel\n",
       "1090      5  0.992062           anyth\n",
       "753       2  0.972895      arm_around\n",
       "88        2  0.982567            babe\n",
       "88        5  0.008188            babe\n",
       "31        1  0.004782            babi\n",
       "31        2  0.198464            babi\n",
       "31        3  0.202051            babi\n",
       "31        4  0.594197            babi\n",
       "1285      4  0.976919      babi_pleas\n",
       "1286      4  0.997272      baby_pleas\n",
       "183       1  0.104552           befor\n",
       "183       2  0.699192           befor\n",
       "183       3  0.107819           befor\n",
       "183       4  0.088216           befor\n",
       "183       5  0.003267           befor\n",
       "327       2  0.997416          believ\n",
       "1207      3  0.992796  believe_believ\n",
       "754       5  0.997388     better_than\n",
       "...     ...       ...             ...\n",
       "704       4  0.004605         without\n",
       "704       5  0.050650         without\n",
       "310       1  0.651820           woman\n",
       "310       2  0.024141           woman\n",
       "310       3  0.321886           woman\n",
       "240       2  0.990885          wonder\n",
       "85        1  0.439253           world\n",
       "85        2  0.184438           world\n",
       "85        3  0.177157           world\n",
       "85        4  0.021841           world\n",
       "85        5  0.177157           world\n",
       "28        1  0.509836           would\n",
       "28        2  0.431828           would\n",
       "28        4  0.050148           would\n",
       "28        5  0.008358           would\n",
       "468       1  0.129070           wrong\n",
       "468       2  0.371077           wrong\n",
       "468       4  0.500148           wrong\n",
       "1016      4  0.976277     wrong_wrong\n",
       "241       1  0.278944            yeah\n",
       "241       2  0.005364            yeah\n",
       "241       3  0.182387            yeah\n",
       "241       4  0.533750            yeah\n",
       "649       4  0.995141       yeah_yeah\n",
       "940       1  0.984686       york_citi\n",
       "87        1  0.046211           young\n",
       "87        2  0.951953           young\n",
       "1149      2  0.985574      young_girl\n",
       "1041      2  0.977916         your_ey\n",
       "1041      3  0.021493         your_ey\n",
       "\n",
       "[533 rows x 3 columns], R=30, lambda_step=0.01, plot_opts={'xlab': 'PC1', 'ylab': 'PC2'}, topic_order=[3, 4, 5, 2, 1])"
      ]
     },
     "execution_count": 414,
     "metadata": {},
     "output_type": "execute_result"
    }
   ],
   "source": [
    "pyLDAvis.gensim.prepare(model, corpus, dictionary)"
   ]
  },
  {
   "cell_type": "code",
   "execution_count": null,
   "metadata": {},
   "outputs": [],
   "source": []
  }
 ],
 "metadata": {
  "kernelspec": {
   "display_name": "Python 3",
   "language": "python",
   "name": "python3"
  },
  "language_info": {
   "codemirror_mode": {
    "name": "ipython",
    "version": 3
   },
   "file_extension": ".py",
   "mimetype": "text/x-python",
   "name": "python",
   "nbconvert_exporter": "python",
   "pygments_lexer": "ipython3",
   "version": "3.7.2"
  },
  "toc": {
   "base_numbering": 1,
   "nav_menu": {},
   "number_sections": false,
   "sideBar": true,
   "skip_h1_title": false,
   "title_cell": "Table of Contents",
   "title_sidebar": "Contents",
   "toc_cell": false,
   "toc_position": {
    "height": "calc(100% - 180px)",
    "left": "10px",
    "top": "150px",
    "width": "233px"
   },
   "toc_section_display": true,
   "toc_window_display": true
  },
  "varInspector": {
   "cols": {
    "lenName": 16,
    "lenType": 16,
    "lenVar": 40
   },
   "kernels_config": {
    "python": {
     "delete_cmd_postfix": "",
     "delete_cmd_prefix": "del ",
     "library": "var_list.py",
     "varRefreshCmd": "print(var_dic_list())"
    },
    "r": {
     "delete_cmd_postfix": ") ",
     "delete_cmd_prefix": "rm(",
     "library": "var_list.r",
     "varRefreshCmd": "cat(var_dic_list()) "
    }
   },
   "types_to_exclude": [
    "module",
    "function",
    "builtin_function_or_method",
    "instance",
    "_Feature"
   ],
   "window_display": false
  }
 },
 "nbformat": 4,
 "nbformat_minor": 2
}
