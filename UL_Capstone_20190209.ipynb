{
 "cells": [
  {
   "cell_type": "markdown",
   "metadata": {},
   "source": [
    "# Predicting Genre by Song Lyrics"
   ]
  },
  {
   "cell_type": "markdown",
   "metadata": {},
   "source": [
    "For this project I will apply various natural language processing techniques to a corpus of song lyrics. The first section of this project will use unsupervised models to cluster each song to see if I can derive any underlying patterns to the lyrics. The second section will employ supervised models to determine to what extent the models are able to predict a song's genre from its lyrics.\n",
    "\n",
    "If we are able to produce a working model, there are ample use-cases for applying that model to the lyrics of a new song. As shown below, labeling each artist's genre by hand is very tedious, so automating that would save a lot of time and effort."
   ]
  },
  {
   "cell_type": "markdown",
   "metadata": {},
   "source": [
    "## Preprocessing"
   ]
  },
  {
   "cell_type": "code",
   "execution_count": 1,
   "metadata": {
    "ExecuteTime": {
     "end_time": "2019-02-09T19:26:35.402196Z",
     "start_time": "2019-02-09T19:26:32.218745Z"
    }
   },
   "outputs": [
    {
     "name": "stderr",
     "output_type": "stream",
     "text": [
      "/usr/local/lib/python3.7/site-packages/matplotlib/__init__.py:886: MatplotlibDeprecationWarning: \n",
      "examples.directory is deprecated; in the future, examples will be found relative to the 'datapath' directory.\n",
      "  \"found relative to the 'datapath' directory.\".format(key))\n",
      "/usr/local/lib/python3.7/site-packages/thinc/neural/train.py:3: DeprecationWarning: Using or importing the ABCs from 'collections' instead of from 'collections.abc' is deprecated, and in 3.8 it will stop working\n",
      "  from .optimizers import Adam, SGD, linear_decay\n",
      "/usr/local/lib/python3.7/site-packages/thinc/check.py:1: DeprecationWarning: Using or importing the ABCs from 'collections' instead of from 'collections.abc' is deprecated, and in 3.8 it will stop working\n",
      "  from collections import defaultdict, Sequence, Sized, Iterable, Callable\n",
      "/usr/local/lib/python3.7/site-packages/thinc/check.py:1: DeprecationWarning: Using or importing the ABCs from 'collections' instead of from 'collections.abc' is deprecated, and in 3.8 it will stop working\n",
      "  from collections import defaultdict, Sequence, Sized, Iterable, Callable\n"
     ]
    }
   ],
   "source": [
    "from matplotlib import cm\n",
    "from sklearn.metrics import silhouette_samples, silhouette_score\n",
    "from sklearn.model_selection import cross_val_score\n",
    "from sklearn.preprocessing import normalize\n",
    "from sklearn.cluster import KMeans, MiniBatchKMeans, AffinityPropagation, MeanShift, SpectralClustering, estimate_bandwidth\n",
    "import seaborn as sns\n",
    "import numpy as np\n",
    "import pandas as pd\n",
    "import matplotlib.pyplot as plt\n",
    "%matplotlib inline\n",
    "from sklearn.feature_extraction.text import CountVectorizer, TfidfVectorizer\n",
    "import re\n",
    "import pyLDAvis.gensim\n",
    "pyLDAvis.enable_notebook()\n",
    "from sklearn.decomposition import NMF\n",
    "import spacy\n",
    "from collections import Counter\n",
    "from sklearn.ensemble import RandomForestClassifier, GradientBoostingClassifier\n",
    "nlp = spacy.load('en')\n",
    "from sklearn.svm import SVC"
   ]
  },
  {
   "cell_type": "code",
   "execution_count": 2,
   "metadata": {
    "ExecuteTime": {
     "end_time": "2019-02-09T19:26:36.330606Z",
     "start_time": "2019-02-09T19:26:35.404996Z"
    },
    "scrolled": true
   },
   "outputs": [
    {
     "data": {
      "text/html": [
       "<div>\n",
       "<style scoped>\n",
       "    .dataframe tbody tr th:only-of-type {\n",
       "        vertical-align: middle;\n",
       "    }\n",
       "\n",
       "    .dataframe tbody tr th {\n",
       "        vertical-align: top;\n",
       "    }\n",
       "\n",
       "    .dataframe thead th {\n",
       "        text-align: right;\n",
       "    }\n",
       "</style>\n",
       "<table border=\"1\" class=\"dataframe\">\n",
       "  <thead>\n",
       "    <tr style=\"text-align: right;\">\n",
       "      <th></th>\n",
       "      <th>artist</th>\n",
       "      <th>song</th>\n",
       "      <th>link</th>\n",
       "      <th>text</th>\n",
       "    </tr>\n",
       "  </thead>\n",
       "  <tbody>\n",
       "    <tr>\n",
       "      <th>0</th>\n",
       "      <td>ABBA</td>\n",
       "      <td>Ahe's My Kind Of Girl</td>\n",
       "      <td>/a/abba/ahes+my+kind+of+girl_20598417.html</td>\n",
       "      <td>Look at her face, it's a wonderful face  \\nAnd...</td>\n",
       "    </tr>\n",
       "    <tr>\n",
       "      <th>1</th>\n",
       "      <td>ABBA</td>\n",
       "      <td>Andante, Andante</td>\n",
       "      <td>/a/abba/andante+andante_20002708.html</td>\n",
       "      <td>Take it easy with me, please  \\nTouch me gentl...</td>\n",
       "    </tr>\n",
       "    <tr>\n",
       "      <th>2</th>\n",
       "      <td>ABBA</td>\n",
       "      <td>As Good As New</td>\n",
       "      <td>/a/abba/as+good+as+new_20003033.html</td>\n",
       "      <td>I'll never know why I had to go  \\nWhy I had t...</td>\n",
       "    </tr>\n",
       "    <tr>\n",
       "      <th>3</th>\n",
       "      <td>ABBA</td>\n",
       "      <td>Bang</td>\n",
       "      <td>/a/abba/bang_20598415.html</td>\n",
       "      <td>Making somebody happy is a question of give an...</td>\n",
       "    </tr>\n",
       "    <tr>\n",
       "      <th>4</th>\n",
       "      <td>ABBA</td>\n",
       "      <td>Bang-A-Boomerang</td>\n",
       "      <td>/a/abba/bang+a+boomerang_20002668.html</td>\n",
       "      <td>Making somebody happy is a question of give an...</td>\n",
       "    </tr>\n",
       "  </tbody>\n",
       "</table>\n",
       "</div>"
      ],
      "text/plain": [
       "  artist                   song                                        link  \\\n",
       "0   ABBA  Ahe's My Kind Of Girl  /a/abba/ahes+my+kind+of+girl_20598417.html   \n",
       "1   ABBA       Andante, Andante       /a/abba/andante+andante_20002708.html   \n",
       "2   ABBA         As Good As New        /a/abba/as+good+as+new_20003033.html   \n",
       "3   ABBA                   Bang                  /a/abba/bang_20598415.html   \n",
       "4   ABBA       Bang-A-Boomerang      /a/abba/bang+a+boomerang_20002668.html   \n",
       "\n",
       "                                                text  \n",
       "0  Look at her face, it's a wonderful face  \\nAnd...  \n",
       "1  Take it easy with me, please  \\nTouch me gentl...  \n",
       "2  I'll never know why I had to go  \\nWhy I had t...  \n",
       "3  Making somebody happy is a question of give an...  \n",
       "4  Making somebody happy is a question of give an...  "
      ]
     },
     "execution_count": 2,
     "metadata": {},
     "output_type": "execute_result"
    }
   ],
   "source": [
    "# Read in the csv to a data frame.\n",
    "df = pd.read_csv('songdata.csv')\n",
    "df.head()"
   ]
  },
  {
   "cell_type": "markdown",
   "metadata": {},
   "source": [
    "### Genre\n",
    "\n",
    "Manually assign genre to the twenty artists with the most songs in the dataset."
   ]
  },
  {
   "cell_type": "code",
   "execution_count": 3,
   "metadata": {
    "ExecuteTime": {
     "end_time": "2019-02-09T19:26:36.347674Z",
     "start_time": "2019-02-09T19:26:36.333699Z"
    },
    "scrolled": true
   },
   "outputs": [
    {
     "data": {
      "text/plain": [
       "Index(['Donna Summer', 'Gordon Lightfoot', 'Bob Dylan', 'George Strait',\n",
       "       'Loretta Lynn', 'Reba Mcentire', 'Alabama', 'Cher', 'Dean Martin',\n",
       "       'Chaka Khan', 'Neil Young', 'Hank Williams Jr.', 'Cliff Richard',\n",
       "       'America', 'Nazareth', 'Indigo Girls', 'Johnny Cash', 'Kiss',\n",
       "       'Chris Rea', 'Bon Jovi'],\n",
       "      dtype='object')"
      ]
     },
     "execution_count": 3,
     "metadata": {},
     "output_type": "execute_result"
    }
   ],
   "source": [
    "df.artist.value_counts().index[:20]"
   ]
  },
  {
   "cell_type": "code",
   "execution_count": 4,
   "metadata": {
    "ExecuteTime": {
     "end_time": "2019-02-09T19:26:36.467123Z",
     "start_time": "2019-02-09T19:26:36.350787Z"
    }
   },
   "outputs": [],
   "source": [
    "# Tag genres for each artist\n",
    "df['genre'] = np.where(df['artist'] == 'Donna Summer', 'disco',\n",
    "                       np.where((df['artist'] == 'Gordon Lightfoot') |\n",
    "                                (df['artist'] == 'Bob Dylan') |\n",
    "                                (df.artist == 'Indigo Girls'), 'folk',\n",
    "                                np.where((df['artist'] == 'George Strait') |\n",
    "                                         (df.artist == 'Reba Mcentire') |\n",
    "                                         (df['artist'] == 'Alabama') |\n",
    "                                         (df.artist == 'Loretta Lynn') |\n",
    "                                         (df.artist == 'Hank Williams Jr.') |\n",
    "                                         (df.artist == 'Johnny Cash'), 'country',\n",
    "                                         np.where((df.artist == 'Cher') |\n",
    "                                                  (df.artist ==\n",
    "                                                   'Cliff Richard'), 'pop',\n",
    "                                                  np.where(df.artist == 'Chaka Khan', 'r&b',\n",
    "                                                           np.where(df.artist == 'Dean Martin', 'swing',\n",
    "                                                                    np.where((df.artist == 'Neil Young') |\n",
    "                                                                             (df.artist == 'America') |\n",
    "                                                                             (df.artist ==\n",
    "                                                                              'Nazareth') |\n",
    "                                                                             (df.artist == 'Kiss') |\n",
    "                                                                             (df.artist ==\n",
    "                                                                              'Chris Rea') |\n",
    "                                                                             (df.artist == 'Bon Jovi'), 'rock', 0))))\n",
    "                                         )))"
   ]
  },
  {
   "cell_type": "code",
   "execution_count": 5,
   "metadata": {
    "ExecuteTime": {
     "end_time": "2019-02-09T19:26:36.483381Z",
     "start_time": "2019-02-09T19:26:36.469313Z"
    }
   },
   "outputs": [
    {
     "data": {
      "text/plain": [
       "0          53939\n",
       "country     1117\n",
       "rock        1099\n",
       "folk         561\n",
       "pop          371\n",
       "disco        191\n",
       "swing        186\n",
       "r&b          186\n",
       "Name: genre, dtype: int64"
      ]
     },
     "execution_count": 5,
     "metadata": {},
     "output_type": "execute_result"
    }
   ],
   "source": [
    "df.genre.value_counts()"
   ]
  },
  {
   "cell_type": "code",
   "execution_count": 6,
   "metadata": {
    "ExecuteTime": {
     "end_time": "2019-02-09T19:26:36.499803Z",
     "start_time": "2019-02-09T19:26:36.485126Z"
    }
   },
   "outputs": [
    {
     "name": "stdout",
     "output_type": "stream",
     "text": [
      "['Donna Summer', 'Gordon Lightfoot', 'Bob Dylan', 'George Strait', 'Loretta Lynn', 'Reba Mcentire', 'Alabama', 'Cher', 'Dean Martin', 'Chaka Khan', 'Neil Young', 'Hank Williams Jr.', 'Cliff Richard', 'America', 'Nazareth', 'Indigo Girls', 'Johnny Cash', 'Kiss', 'Chris Rea', 'Bon Jovi']\n"
     ]
    }
   ],
   "source": [
    "artist_list = list(df.artist.value_counts().index[:20])\n",
    "print(artist_list)"
   ]
  },
  {
   "cell_type": "code",
   "execution_count": 7,
   "metadata": {
    "ExecuteTime": {
     "end_time": "2019-02-09T19:26:36.541146Z",
     "start_time": "2019-02-09T19:26:36.501638Z"
    }
   },
   "outputs": [],
   "source": [
    "# Create new subset df of just our labeled artists and remove extraneous columns.\n",
    "df['twenty_artists'] = np.where(np.isin(df['artist'], artist_list), 1, 0)\n",
    "df_sub = df[df.twenty_artists == 1]"
   ]
  },
  {
   "cell_type": "code",
   "execution_count": 8,
   "metadata": {
    "ExecuteTime": {
     "end_time": "2019-02-09T19:26:36.558593Z",
     "start_time": "2019-02-09T19:26:36.546052Z"
    },
    "scrolled": true
   },
   "outputs": [
    {
     "data": {
      "text/html": [
       "<div>\n",
       "<style scoped>\n",
       "    .dataframe tbody tr th:only-of-type {\n",
       "        vertical-align: middle;\n",
       "    }\n",
       "\n",
       "    .dataframe tbody tr th {\n",
       "        vertical-align: top;\n",
       "    }\n",
       "\n",
       "    .dataframe thead th {\n",
       "        text-align: right;\n",
       "    }\n",
       "</style>\n",
       "<table border=\"1\" class=\"dataframe\">\n",
       "  <thead>\n",
       "    <tr style=\"text-align: right;\">\n",
       "      <th></th>\n",
       "      <th>artist</th>\n",
       "      <th>song</th>\n",
       "      <th>link</th>\n",
       "      <th>text</th>\n",
       "      <th>genre</th>\n",
       "      <th>twenty_artists</th>\n",
       "    </tr>\n",
       "  </thead>\n",
       "  <tbody>\n",
       "    <tr>\n",
       "      <th>50506</th>\n",
       "      <td>Reba Mcentire</td>\n",
       "      <td>Old Man River</td>\n",
       "      <td>/r/reba+mcentire/old+man+river_20114622.html</td>\n",
       "      <td>(ronny scaife, danny hogan)  \\n  \\nCool breeze...</td>\n",
       "      <td>country</td>\n",
       "      <td>1</td>\n",
       "    </tr>\n",
       "    <tr>\n",
       "      <th>50507</th>\n",
       "      <td>Reba Mcentire</td>\n",
       "      <td>On My Own</td>\n",
       "      <td>/r/reba+mcentire/on+my+own_20114592.html</td>\n",
       "      <td>So many times I said it was forever  \\nSaid ou...</td>\n",
       "      <td>country</td>\n",
       "      <td>1</td>\n",
       "    </tr>\n",
       "    <tr>\n",
       "      <th>50508</th>\n",
       "      <td>Reba Mcentire</td>\n",
       "      <td>One Child, One Day</td>\n",
       "      <td>/r/reba+mcentire/one+child+one+day_20114569.html</td>\n",
       "      <td>Three wise men, a shining star  \\nA mother and...</td>\n",
       "      <td>country</td>\n",
       "      <td>1</td>\n",
       "    </tr>\n",
       "    <tr>\n",
       "      <th>50509</th>\n",
       "      <td>Reba Mcentire</td>\n",
       "      <td>One Promise Too Late</td>\n",
       "      <td>/r/reba+mcentire/one+promise+too+late_20114392...</td>\n",
       "      <td>I would have waited forever  \\nIf I'd known th...</td>\n",
       "      <td>country</td>\n",
       "      <td>1</td>\n",
       "    </tr>\n",
       "    <tr>\n",
       "      <th>50510</th>\n",
       "      <td>Reba Mcentire</td>\n",
       "      <td>One Thin Dime</td>\n",
       "      <td>/r/reba+mcentire/one+thin+dime_20114664.html</td>\n",
       "      <td>Your mind's made up  \\nYou're gonna leave  \\nN...</td>\n",
       "      <td>country</td>\n",
       "      <td>1</td>\n",
       "    </tr>\n",
       "  </tbody>\n",
       "</table>\n",
       "</div>"
      ],
      "text/plain": [
       "              artist                  song  \\\n",
       "50506  Reba Mcentire         Old Man River   \n",
       "50507  Reba Mcentire             On My Own   \n",
       "50508  Reba Mcentire    One Child, One Day   \n",
       "50509  Reba Mcentire  One Promise Too Late   \n",
       "50510  Reba Mcentire         One Thin Dime   \n",
       "\n",
       "                                                    link  \\\n",
       "50506       /r/reba+mcentire/old+man+river_20114622.html   \n",
       "50507           /r/reba+mcentire/on+my+own_20114592.html   \n",
       "50508   /r/reba+mcentire/one+child+one+day_20114569.html   \n",
       "50509  /r/reba+mcentire/one+promise+too+late_20114392...   \n",
       "50510       /r/reba+mcentire/one+thin+dime_20114664.html   \n",
       "\n",
       "                                                    text    genre  \\\n",
       "50506  (ronny scaife, danny hogan)  \\n  \\nCool breeze...  country   \n",
       "50507  So many times I said it was forever  \\nSaid ou...  country   \n",
       "50508  Three wise men, a shining star  \\nA mother and...  country   \n",
       "50509  I would have waited forever  \\nIf I'd known th...  country   \n",
       "50510  Your mind's made up  \\nYou're gonna leave  \\nN...  country   \n",
       "\n",
       "       twenty_artists  \n",
       "50506               1  \n",
       "50507               1  \n",
       "50508               1  \n",
       "50509               1  \n",
       "50510               1  "
      ]
     },
     "execution_count": 8,
     "metadata": {},
     "output_type": "execute_result"
    }
   ],
   "source": [
    "df_sub.tail()"
   ]
  },
  {
   "cell_type": "code",
   "execution_count": 9,
   "metadata": {
    "ExecuteTime": {
     "end_time": "2019-02-09T19:26:36.570168Z",
     "start_time": "2019-02-09T19:26:36.564784Z"
    },
    "scrolled": false
   },
   "outputs": [
    {
     "name": "stdout",
     "output_type": "stream",
     "text": [
      "Number of unique genres: 7\n"
     ]
    }
   ],
   "source": [
    "print('Number of unique genres:', df_sub.genre.nunique())"
   ]
  },
  {
   "cell_type": "code",
   "execution_count": 10,
   "metadata": {
    "ExecuteTime": {
     "end_time": "2019-02-09T19:26:36.583662Z",
     "start_time": "2019-02-09T19:26:36.572793Z"
    },
    "scrolled": false
   },
   "outputs": [
    {
     "name": "stdout",
     "output_type": "stream",
     "text": [
      "[\"I thought it was forever  \\nI thought it would last  \\nGotta try to make it  \\nA page of my past  \\nYou didn't even say goodbye  \\nWhen you slammed that door  \\n  \\nNow I'm lyin' here alone  \\nIn what once was our bed  \\nTrying to forget  \\nAll the cruel words you said  \\nAll the radio was playing  \\nWhat once was our favorite song  \\n  \\nOh enough is enough I won't take anymore  \\nI'm picking myself up off the floor  \\n  \\n'Cause you can't keep a good man down  \\nYou can't keep a good man down  \\nOh no you can't keep a good man down  \\nSugar, you can't keep a good man down  \\n  \\nGonna dress up in my finest  \\nClothes that I own  \\nAnd take it to the streets  \\nI won't be lonely for long  \\nGonna put on my best moves  \\nOn every single woman I see  \\n  \\nNow you thought you could break me  \\nAdd me to your list  \\nNotch me on your gun  \\nLet me tell you this  \\nI've got news for you baby  \\nI don't break that easily  \\n  \\n'Cause you can't keep a good man down  \\nYou can't keep a good man down  \\nOh no you can't keep a good man down  \\nSugar, you can't keep a good man down  \\n  \\nI'll be out there on the scene  \\nHangin' with my friends  \\nThis world's gonna see  \\nMe smilin' again  \\nI'm taking some time  \\nTo erase you from my memory  \\n  \\nDon't write any letters  \\nDon't call me on the phone  \\nDon't knock on my door  \\nCause to you I'm not at home  \\nI know there's a woman out there  \\nFor a man like me  \\n  \\n'Cause you can't keep a good man down  \\nYou can't keep a good man down  \\nOh no you can't keep a good man down  \\nSugar, you can't keep a good man down  \\n  \\nOh enough is enough I won't take anymore  \\nI'm picking myself up off the floor  \\n  \\n'Cause you can't keep a good man down  \\nBaby, you can't keep a good man down  \\nHoney, you can't keep a good man down  \\nSugar, you can't keep a good man down\\n\\n\"] \n",
      "\n",
      "[\"Why should I feel discouraged?  \\nAnd why should the shadows come?  \\nAnd why should my heart be lonely  \\nAnd long for heaven and home?  \\n  \\nWhen Jesus is my portion  \\nMy constant friend is He  \\nHis eye is on the sparrow  \\nAnd I know He watches me  \\n  \\nAnd I sing because I'm happy  \\nI sing because I am free  \\nHis eye is on the sparrow  \\nAnd I know He watches me  \\n  \\nLet not your heart be troubled  \\nHis tender word I hear  \\nAnd resting on His goodness  \\nI lose my doubts and fears  \\n  \\nThough by the path He leads us  \\nBut one step I may see  \\nHis eye is on the sparrows  \\nAnd I know He watches me  \\n  \\nAnd I sing because I'm happy  \\nAnd I sing because I'm free  \\nHis eye is on the sparrow  \\nAnd I know He watches me  \\n  \\nHis eye is on the sparrow  \\nAnd I know He watches me\\n\\n\"] \n",
      "\n"
     ]
    }
   ],
   "source": [
    "# Inspect some samples.\n",
    "print(df_sub.text[1:2].values, '\\n')\n",
    "print(df_sub.text[45:46].values, '\\n')"
   ]
  },
  {
   "cell_type": "markdown",
   "metadata": {},
   "source": [
    "### Clean Text and Split"
   ]
  },
  {
   "cell_type": "code",
   "execution_count": 11,
   "metadata": {
    "ExecuteTime": {
     "end_time": "2019-02-09T19:26:36.819113Z",
     "start_time": "2019-02-09T19:26:36.591656Z"
    }
   },
   "outputs": [
    {
     "name": "stderr",
     "output_type": "stream",
     "text": [
      "/usr/local/lib/python3.7/site-packages/ipykernel_launcher.py:9: SettingWithCopyWarning: \n",
      "A value is trying to be set on a copy of a slice from a DataFrame.\n",
      "Try using .loc[row_indexer,col_indexer] = value instead\n",
      "\n",
      "See the caveats in the documentation: http://pandas.pydata.org/pandas-docs/stable/indexing.html#indexing-view-versus-copy\n",
      "  if __name__ == '__main__':\n"
     ]
    },
    {
     "data": {
      "text/html": [
       "<div>\n",
       "<style scoped>\n",
       "    .dataframe tbody tr th:only-of-type {\n",
       "        vertical-align: middle;\n",
       "    }\n",
       "\n",
       "    .dataframe tbody tr th {\n",
       "        vertical-align: top;\n",
       "    }\n",
       "\n",
       "    .dataframe thead th {\n",
       "        text-align: right;\n",
       "    }\n",
       "</style>\n",
       "<table border=\"1\" class=\"dataframe\">\n",
       "  <thead>\n",
       "    <tr style=\"text-align: right;\">\n",
       "      <th></th>\n",
       "      <th>artist</th>\n",
       "      <th>song</th>\n",
       "      <th>link</th>\n",
       "      <th>text</th>\n",
       "      <th>genre</th>\n",
       "      <th>twenty_artists</th>\n",
       "      <th>clean_text</th>\n",
       "    </tr>\n",
       "  </thead>\n",
       "  <tbody>\n",
       "    <tr>\n",
       "      <th>361</th>\n",
       "      <td>Alabama</td>\n",
       "      <td>Calling All Angels</td>\n",
       "      <td>/a/alabama/calling+all+angels_20005071.html</td>\n",
       "      <td>Calling, calling all angels, oh I'm calling, c...</td>\n",
       "      <td>country</td>\n",
       "      <td>1</td>\n",
       "      <td>Calling, calling all angels, oh I'm calling, c...</td>\n",
       "    </tr>\n",
       "    <tr>\n",
       "      <th>362</th>\n",
       "      <td>Alabama</td>\n",
       "      <td>Can't Keep A Good Man Down</td>\n",
       "      <td>/a/alabama/cant+keep+a+good+man+down_20522156....</td>\n",
       "      <td>I thought it was forever  \\nI thought it would...</td>\n",
       "      <td>country</td>\n",
       "      <td>1</td>\n",
       "      <td>I thought it was forever I thought it would la...</td>\n",
       "    </tr>\n",
       "    <tr>\n",
       "      <th>363</th>\n",
       "      <td>Alabama</td>\n",
       "      <td>Carolina Mountain Dew</td>\n",
       "      <td>/a/alabama/carolina+mountain+dew_20175804.html</td>\n",
       "      <td>Somewhere in the mountains......... In norther...</td>\n",
       "      <td>country</td>\n",
       "      <td>1</td>\n",
       "      <td>Somewhere in the mountains......... In norther...</td>\n",
       "    </tr>\n",
       "    <tr>\n",
       "      <th>364</th>\n",
       "      <td>Alabama</td>\n",
       "      <td>Christmas In Dixie</td>\n",
       "      <td>/a/alabama/christmas+in+dixie_20005147.html</td>\n",
       "      <td>By now in New York City, there's snow on the g...</td>\n",
       "      <td>country</td>\n",
       "      <td>1</td>\n",
       "      <td>By now in New York City, there's snow on the g...</td>\n",
       "    </tr>\n",
       "    <tr>\n",
       "      <th>365</th>\n",
       "      <td>Alabama</td>\n",
       "      <td>Christmas In Your Arms</td>\n",
       "      <td>/a/alabama/christmas+in+your+arms_20005047.html</td>\n",
       "      <td>All my friends are asking me where I plan to s...</td>\n",
       "      <td>country</td>\n",
       "      <td>1</td>\n",
       "      <td>All my friends are asking me where I plan to s...</td>\n",
       "    </tr>\n",
       "  </tbody>\n",
       "</table>\n",
       "</div>"
      ],
      "text/plain": [
       "      artist                        song  \\\n",
       "361  Alabama          Calling All Angels   \n",
       "362  Alabama  Can't Keep A Good Man Down   \n",
       "363  Alabama       Carolina Mountain Dew   \n",
       "364  Alabama          Christmas In Dixie   \n",
       "365  Alabama      Christmas In Your Arms   \n",
       "\n",
       "                                                  link  \\\n",
       "361        /a/alabama/calling+all+angels_20005071.html   \n",
       "362  /a/alabama/cant+keep+a+good+man+down_20522156....   \n",
       "363     /a/alabama/carolina+mountain+dew_20175804.html   \n",
       "364        /a/alabama/christmas+in+dixie_20005147.html   \n",
       "365    /a/alabama/christmas+in+your+arms_20005047.html   \n",
       "\n",
       "                                                  text    genre  \\\n",
       "361  Calling, calling all angels, oh I'm calling, c...  country   \n",
       "362  I thought it was forever  \\nI thought it would...  country   \n",
       "363  Somewhere in the mountains......... In norther...  country   \n",
       "364  By now in New York City, there's snow on the g...  country   \n",
       "365  All my friends are asking me where I plan to s...  country   \n",
       "\n",
       "     twenty_artists                                         clean_text  \n",
       "361               1  Calling, calling all angels, oh I'm calling, c...  \n",
       "362               1  I thought it was forever I thought it would la...  \n",
       "363               1  Somewhere in the mountains......... In norther...  \n",
       "364               1  By now in New York City, there's snow on the g...  \n",
       "365               1  All my friends are asking me where I plan to s...  "
      ]
     },
     "execution_count": 11,
     "metadata": {},
     "output_type": "execute_result"
    }
   ],
   "source": [
    "# Need to remove newlines, but it doesn't seem like there's too much else to worry about.\n",
    "def text_cleaner(text):\n",
    "    text = re.sub(r'Chorus', ' ', text)\n",
    "    text = re.sub(r'Verse', ' ', text)\n",
    "    text = ' '.join(text.split())\n",
    "    \n",
    "    return text\n",
    "\n",
    "df_sub['clean_text'] = df_sub.text.apply(lambda row: text_cleaner(row))\n",
    "df_sub.head()"
   ]
  },
  {
   "cell_type": "code",
   "execution_count": 12,
   "metadata": {
    "ExecuteTime": {
     "end_time": "2019-02-09T19:26:36.837269Z",
     "start_time": "2019-02-09T19:26:36.826547Z"
    }
   },
   "outputs": [
    {
     "data": {
      "text/plain": [
       "array(['She left her neighborhood In which everyone was filthy rich She left her parent\\'s home And strained with a vagabond Who made piles of love she never heard And she believed his every word She left no forwarding address Just took her youth and happiness As with the boy she vanished in The secret sweetness of their sin Oh, young girl Oh, young girl of sixteen Child of spring-time Still green Lying there by the road He told her, \"love demanded space\" So they roamed from place to place Although she realized she\\'d sinned She grew caution to the wind As she followed him around While he slowly dragged her down So overpowering was her love The it had made a captive of The young girl\\'s heart and soul and mind In other words: love drove her blind Oh, young girl Oh, young girl of sixteen Child of spring-time Still green Laying there by the road Too much emotion for a girl She let her heart become her world What world that God has never rocked For a sunder we are taught Had she been wise and she\\'d have known She could feed him love alone She should of known the day would come When he would quit her just for crumbs He needed fresh young meat to love And left her heart and mind to starve Oh, young girl Oh, young girl of sixteen Child of spring-time Still green Lying there by the road',\n",
       "       \"Well, here we are again I guess it must be fate We've tried it on our own But deep inside we've known We'd be back to set things straight I still remember when your kiss was so brand new Every memory repeats Every step I take retreats Every journey always brings me back to you After all the stops and starts We keep comin' back to these two hearts Two angels who've been rescued from the fall After all that we've been through It all comes down to me and you I guess it's meant to be, forever you and me, after all When love is truly right (This time it's truly right) It lives from year to year It changes as it goes Oh, and on the way it grows But it never disappears After all the stops and starts We keep comin' back to these two hearts Two angels who've been rescued from the fall After all that we've been through It all comes down to me and you I guess it's meant to be, forever you and me, after all Always just beyond my touch You know I needed you so much After all, what else is livin' for? After all the stops and starts We keep comin' back to these two hearts Two angels who've been rescued from the fall After all that we've been through It all comes down to me and you I guess it's meant to be, forever you and me, after all\"],\n",
       "      dtype=object)"
      ]
     },
     "execution_count": 12,
     "metadata": {},
     "output_type": "execute_result"
    }
   ],
   "source": [
    "df_sub[df_sub.artist == 'Cher'].clean_text[2:4].values"
   ]
  },
  {
   "cell_type": "code",
   "execution_count": 13,
   "metadata": {
    "ExecuteTime": {
     "end_time": "2019-02-09T19:26:36.846949Z",
     "start_time": "2019-02-09T19:26:36.840359Z"
    }
   },
   "outputs": [],
   "source": [
    "# Split off 25% as holdout group.\n",
    "from sklearn.model_selection import train_test_split\n",
    "df_sub_train, df_sub_test = train_test_split(df_sub, test_size=.25, random_state=3)"
   ]
  },
  {
   "cell_type": "markdown",
   "metadata": {},
   "source": [
    "## Unsupervised Approaches"
   ]
  },
  {
   "cell_type": "markdown",
   "metadata": {
    "ExecuteTime": {
     "end_time": "2019-02-06T01:31:04.228930Z",
     "start_time": "2019-02-06T01:31:04.225842Z"
    }
   },
   "source": [
    "### TFIDF and CountVectorizer"
   ]
  },
  {
   "cell_type": "code",
   "execution_count": 14,
   "metadata": {
    "ExecuteTime": {
     "end_time": "2019-02-09T19:26:36.854357Z",
     "start_time": "2019-02-09T19:26:36.849376Z"
    }
   },
   "outputs": [],
   "source": [
    "df_sub_train1 = df_sub_train[['artist', 'genre', 'clean_text']]"
   ]
  },
  {
   "cell_type": "code",
   "execution_count": 15,
   "metadata": {
    "ExecuteTime": {
     "end_time": "2019-02-09T19:26:36.866505Z",
     "start_time": "2019-02-09T19:26:36.856997Z"
    }
   },
   "outputs": [
    {
     "data": {
      "text/html": [
       "<div>\n",
       "<style scoped>\n",
       "    .dataframe tbody tr th:only-of-type {\n",
       "        vertical-align: middle;\n",
       "    }\n",
       "\n",
       "    .dataframe tbody tr th {\n",
       "        vertical-align: top;\n",
       "    }\n",
       "\n",
       "    .dataframe thead th {\n",
       "        text-align: right;\n",
       "    }\n",
       "</style>\n",
       "<table border=\"1\" class=\"dataframe\">\n",
       "  <thead>\n",
       "    <tr style=\"text-align: right;\">\n",
       "      <th></th>\n",
       "      <th>artist</th>\n",
       "      <th>genre</th>\n",
       "      <th>clean_text</th>\n",
       "    </tr>\n",
       "  </thead>\n",
       "  <tbody>\n",
       "    <tr>\n",
       "      <th>17235</th>\n",
       "      <td>Reba Mcentire</td>\n",
       "      <td>country</td>\n",
       "      <td>When I heard that familiar voice, My heart sto...</td>\n",
       "    </tr>\n",
       "    <tr>\n",
       "      <th>13592</th>\n",
       "      <td>Nazareth</td>\n",
       "      <td>rock</td>\n",
       "      <td>May the sun, the sun shine bright May the sun ...</td>\n",
       "    </tr>\n",
       "    <tr>\n",
       "      <th>27269</th>\n",
       "      <td>Cher</td>\n",
       "      <td>pop</td>\n",
       "      <td>Do you believe? Do you believe? Do you believe...</td>\n",
       "    </tr>\n",
       "    <tr>\n",
       "      <th>26183</th>\n",
       "      <td>Bon Jovi</td>\n",
       "      <td>rock</td>\n",
       "      <td>Looking like a train wreck Sipping on her long...</td>\n",
       "    </tr>\n",
       "    <tr>\n",
       "      <th>1755</th>\n",
       "      <td>Bon Jovi</td>\n",
       "      <td>rock</td>\n",
       "      <td>When you get to the bottom You go back to the ...</td>\n",
       "    </tr>\n",
       "  </tbody>\n",
       "</table>\n",
       "</div>"
      ],
      "text/plain": [
       "              artist    genre  \\\n",
       "17235  Reba Mcentire  country   \n",
       "13592       Nazareth     rock   \n",
       "27269           Cher      pop   \n",
       "26183       Bon Jovi     rock   \n",
       "1755        Bon Jovi     rock   \n",
       "\n",
       "                                              clean_text  \n",
       "17235  When I heard that familiar voice, My heart sto...  \n",
       "13592  May the sun, the sun shine bright May the sun ...  \n",
       "27269  Do you believe? Do you believe? Do you believe...  \n",
       "26183  Looking like a train wreck Sipping on her long...  \n",
       "1755   When you get to the bottom You go back to the ...  "
      ]
     },
     "execution_count": 15,
     "metadata": {},
     "output_type": "execute_result"
    }
   ],
   "source": [
    "df_sub_train1.head()"
   ]
  },
  {
   "cell_type": "markdown",
   "metadata": {},
   "source": [
    "#### TFIDF"
   ]
  },
  {
   "cell_type": "code",
   "execution_count": 16,
   "metadata": {
    "ExecuteTime": {
     "end_time": "2019-02-09T19:26:36.873258Z",
     "start_time": "2019-02-09T19:26:36.869042Z"
    }
   },
   "outputs": [],
   "source": [
    "# Having manually grid-searched quite a bit, this seems to give us the best featurespace. \n",
    "vectorizer = TfidfVectorizer(max_df=0.7,\n",
    "                             min_df=20,\n",
    "                             stop_words='english',\n",
    "                             lowercase=True,\n",
    "                             use_idf=True,\n",
    "                             norm=u'l2'\n",
    "                            )"
   ]
  },
  {
   "cell_type": "code",
   "execution_count": 17,
   "metadata": {
    "ExecuteTime": {
     "end_time": "2019-02-09T19:26:37.352446Z",
     "start_time": "2019-02-09T19:26:36.875685Z"
    }
   },
   "outputs": [
    {
     "name": "stdout",
     "output_type": "stream",
     "text": [
      "Number of features: 1170\n"
     ]
    }
   ],
   "source": [
    "lyrics_tfidf = vectorizer.fit_transform(df_sub_train1.clean_text)\n",
    "print('Number of features: {}'.format(lyrics_tfidf.get_shape()[1]))"
   ]
  },
  {
   "cell_type": "code",
   "execution_count": 18,
   "metadata": {
    "ExecuteTime": {
     "end_time": "2019-02-09T19:26:37.399123Z",
     "start_time": "2019-02-09T19:26:37.354307Z"
    }
   },
   "outputs": [],
   "source": [
    "lyrics_tfidf_csr = lyrics_tfidf.tocsr()\n",
    "lyrics_norm = normalize(lyrics_tfidf_csr.toarray())"
   ]
  },
  {
   "cell_type": "markdown",
   "metadata": {},
   "source": [
    "##### K-Means"
   ]
  },
  {
   "cell_type": "code",
   "execution_count": 19,
   "metadata": {
    "ExecuteTime": {
     "end_time": "2019-02-09T19:26:37.409994Z",
     "start_time": "2019-02-09T19:26:37.400960Z"
    },
    "scrolled": true
   },
   "outputs": [
    {
     "data": {
      "text/plain": [
       "count              2783\n",
       "unique               20\n",
       "top       George Strait\n",
       "freq                149\n",
       "Name: artist, dtype: object"
      ]
     },
     "execution_count": 19,
     "metadata": {},
     "output_type": "execute_result"
    }
   ],
   "source": [
    "df_sub_train1.artist.describe()"
   ]
  },
  {
   "cell_type": "code",
   "execution_count": 20,
   "metadata": {
    "ExecuteTime": {
     "end_time": "2019-02-09T19:30:03.408853Z",
     "start_time": "2019-02-09T19:26:37.413280Z"
    }
   },
   "outputs": [
    {
     "data": {
      "image/png": "[encoded data removed]",
      "text/plain": [
       "<Figure size 432x288 with 1 Axes>"
      ]
     },
     "metadata": {
      "needs_background": "light"
     },
     "output_type": "display_data"
    }
   ],
   "source": [
    "# Use the elbow method to see how many clusters kmeans is detecting.\n",
    "distortions = []\n",
    "for i in range(1, 30):\n",
    "    km = KMeans(n_clusters=i,\n",
    "                init='k-means++',\n",
    "                random_state=3)\n",
    "    km.fit(lyrics_norm)\n",
    "    distortions.append(km.inertia_)\n",
    "plt.plot(range(1, 30), distortions, marker='o')\n",
    "plt.xlabel('Number of Clusters')\n",
    "plt.ylabel('Distortion')\n",
    "plt.show()"
   ]
  },
  {
   "cell_type": "markdown",
   "metadata": {},
   "source": [
    "No distinguishable change in the rate of decrease of distortion at 7 clusters."
   ]
  },
  {
   "cell_type": "code",
   "execution_count": 21,
   "metadata": {
    "ExecuteTime": {
     "end_time": "2019-02-09T19:30:13.890403Z",
     "start_time": "2019-02-09T19:30:03.410807Z"
    },
    "scrolled": true
   },
   "outputs": [
    {
     "data": {
      "image/png": "[encoded data removed]",
      "text/plain": [
       "<Figure size 432x288 with 1 Axes>"
      ]
     },
     "metadata": {
      "needs_background": "light"
     },
     "output_type": "display_data"
    }
   ],
   "source": [
    "km = KMeans(n_clusters=7,\n",
    "            init='k-means++',\n",
    "            random_state=3)\n",
    "y_km = km.fit_predict(lyrics_norm)\n",
    "\n",
    "cluster_labels = np.unique(y_km)\n",
    "n_clusters = cluster_labels.shape[0]\n",
    "silhouette_vals = silhouette_samples(lyrics_norm, y_km, metric='euclidean')\n",
    "\n",
    "y_ax_lower, y_ax_upper = 0, 0\n",
    "yticks = []\n",
    "for i, c in enumerate(cluster_labels):\n",
    "    c_silhouette_vals = silhouette_vals[y_km == c]\n",
    "    c_silhouette_vals.sort()\n",
    "    y_ax_upper += len(c_silhouette_vals)\n",
    "    color = cm.jet(i / n_clusters)\n",
    "    plt.barh(range(y_ax_lower, y_ax_upper),\n",
    "             c_silhouette_vals,\n",
    "             height=1.0,\n",
    "             edgecolor='none',\n",
    "             color=color)\n",
    "    yticks.append((y_ax_lower + y_ax_upper) / 2)\n",
    "    y_ax_lower += len(c_silhouette_vals)\n",
    "silhouette_avg = np.mean(silhouette_vals)\n",
    "plt.axvline(silhouette_avg,\n",
    "            color='red',\n",
    "            linestyle='--')\n",
    "plt.yticks(yticks, cluster_labels + 1)\n",
    "plt.ylabel('Cluster')\n",
    "plt.xlabel('Silhouette coefficient')\n",
    "plt.show()"
   ]
  },
  {
   "cell_type": "markdown",
   "metadata": {},
   "source": [
    "Silhoutte score for 7 distinct clusters is very, very low, meaning we do not have distinct clusters."
   ]
  },
  {
   "cell_type": "markdown",
   "metadata": {},
   "source": [
    "##### Mean Shift"
   ]
  },
  {
   "cell_type": "code",
   "execution_count": 22,
   "metadata": {
    "ExecuteTime": {
     "end_time": "2019-02-09T19:30:45.951075Z",
     "start_time": "2019-02-09T19:30:13.892441Z"
    }
   },
   "outputs": [
    {
     "name": "stdout",
     "output_type": "stream",
     "text": [
      "Number of estimated clusters: 1\n"
     ]
    }
   ],
   "source": [
    "bandwidth = estimate_bandwidth(lyrics_norm, quantile=0.1)\n",
    "\n",
    "ms = MeanShift(bandwidth=bandwidth, bin_seeding=True)\n",
    "ms.fit(lyrics_norm)\n",
    "\n",
    "labels = ms.labels_\n",
    "cluster_centers = ms.cluster_centers_\n",
    "\n",
    "n_clusters_ = len(np.unique(labels))\n",
    "print('Number of estimated clusters: {}'.format(n_clusters_))"
   ]
  },
  {
   "cell_type": "markdown",
   "metadata": {
    "ExecuteTime": {
     "end_time": "2019-02-09T02:01:33.530828Z",
     "start_time": "2019-02-09T02:01:33.527558Z"
    }
   },
   "source": [
    "Mean-shift clearing is also not detecting distinct clusters."
   ]
  },
  {
   "cell_type": "markdown",
   "metadata": {},
   "source": [
    "##### Spectral Clustering"
   ]
  },
  {
   "cell_type": "code",
   "execution_count": 23,
   "metadata": {
    "ExecuteTime": {
     "end_time": "2019-02-09T19:30:52.687218Z",
     "start_time": "2019-02-09T19:30:45.953148Z"
    }
   },
   "outputs": [
    {
     "data": {
      "image/png": "[encoded data removed]",
      "text/plain": [
       "<Figure size 432x288 with 1 Axes>"
      ]
     },
     "metadata": {
      "needs_background": "light"
     },
     "output_type": "display_data"
    }
   ],
   "source": [
    "sc = SpectralClustering(n_clusters=7,\n",
    "            random_state=3)\n",
    "y_sc = sc.fit_predict(lyrics_norm)\n",
    "\n",
    "cluster_labels = np.unique(y_sc)\n",
    "n_clusters = cluster_labels.shape[0]\n",
    "silhouette_vals = silhouette_samples(lyrics_norm, y_sc, metric='euclidean')\n",
    "\n",
    "y_ax_lower, y_ax_upper = 0, 0\n",
    "yticks = []\n",
    "for i, c in enumerate(cluster_labels):\n",
    "    c_silhouette_vals = silhouette_vals[y_km == c]\n",
    "    c_silhouette_vals.sort()\n",
    "    y_ax_upper += len(c_silhouette_vals)\n",
    "    color = cm.jet(i / n_clusters)\n",
    "    plt.barh(range(y_ax_lower, y_ax_upper),\n",
    "             c_silhouette_vals,\n",
    "             height=1.0,\n",
    "             edgecolor='none',\n",
    "             color=color)\n",
    "    yticks.append((y_ax_lower + y_ax_upper) / 2)\n",
    "    y_ax_lower += len(c_silhouette_vals)\n",
    "silhouette_avg = np.mean(silhouette_vals)\n",
    "plt.axvline(silhouette_avg,\n",
    "            color='red',\n",
    "            linestyle='--')\n",
    "plt.yticks(yticks, cluster_labels + 1)\n",
    "plt.ylabel('Cluster')\n",
    "plt.xlabel('Silhouette coefficient')\n",
    "plt.show()"
   ]
  },
  {
   "cell_type": "markdown",
   "metadata": {},
   "source": [
    "#### Stemmed CountVectorizer\n",
    "\n",
    "A harsher Stemmer combined with CountVectorizer may create a better bag of words."
   ]
  },
  {
   "cell_type": "code",
   "execution_count": 24,
   "metadata": {
    "ExecuteTime": {
     "end_time": "2019-02-09T19:30:53.175297Z",
     "start_time": "2019-02-09T19:30:52.689137Z"
    }
   },
   "outputs": [
    {
     "name": "stderr",
     "output_type": "stream",
     "text": [
      "/usr/local/lib/python3.7/site-packages/nltk/decorators.py:68: DeprecationWarning: `formatargspec` is deprecated since Python 3.5. Use `signature` and the `Signature` object directly\n",
      "  regargs, varargs, varkwargs, defaults, formatvalue=lambda value: \"\"\n"
     ]
    }
   ],
   "source": [
    "import nltk.stem"
   ]
  },
  {
   "cell_type": "code",
   "execution_count": 25,
   "metadata": {
    "ExecuteTime": {
     "end_time": "2019-02-09T19:30:53.184888Z",
     "start_time": "2019-02-09T19:30:53.177148Z"
    }
   },
   "outputs": [],
   "source": [
    "# Snowball stemmer will be harsher in trimming words.\n",
    "english_stemmer = nltk.stem.SnowballStemmer('english')\n",
    "\n",
    "class StemmedCountVectorizer(CountVectorizer):\n",
    "    def build_analyzer(self):\n",
    "        analyzer = super(StemmedCountVectorizer, self).build_analyzer()\n",
    "        return lambda doc: (english_stemmer.stem(w) for w in analyzer(doc))"
   ]
  },
  {
   "cell_type": "code",
   "execution_count": 26,
   "metadata": {
    "ExecuteTime": {
     "end_time": "2019-02-09T19:30:53.196811Z",
     "start_time": "2019-02-09T19:30:53.187000Z"
    }
   },
   "outputs": [],
   "source": [
    "vectorizer = StemmedCountVectorizer(min_df=10, max_df=.7, stop_words='english')"
   ]
  },
  {
   "cell_type": "code",
   "execution_count": 27,
   "metadata": {
    "ExecuteTime": {
     "end_time": "2019-02-09T19:30:57.466383Z",
     "start_time": "2019-02-09T19:30:53.198766Z"
    }
   },
   "outputs": [
    {
     "name": "stdout",
     "output_type": "stream",
     "text": [
      "Number of features: 1676\n"
     ]
    }
   ],
   "source": [
    "X_dtm2 = vectorizer.fit_transform(df_sub_train1.clean_text)\n",
    "print('Number of features: {}'.format(X_dtm2.get_shape()[1]))\n",
    "\n",
    "X_dtm_norm2 = normalize(X_dtm2.toarray())"
   ]
  },
  {
   "cell_type": "markdown",
   "metadata": {},
   "source": [
    "##### K-Means"
   ]
  },
  {
   "cell_type": "code",
   "execution_count": 28,
   "metadata": {
    "ExecuteTime": {
     "end_time": "2019-02-09T19:33:38.728121Z",
     "start_time": "2019-02-09T19:30:57.468313Z"
    }
   },
   "outputs": [
    {
     "data": {
      "image/png": "[encoded data removed]",
      "text/plain": [
       "<Figure size 432x288 with 1 Axes>"
      ]
     },
     "metadata": {
      "needs_background": "light"
     },
     "output_type": "display_data"
    }
   ],
   "source": [
    "distortions = []\n",
    "for i in range(1, 25):\n",
    "    km = KMeans(n_clusters=i,\n",
    "                init='k-means++',\n",
    "                random_state=3)\n",
    "    km.fit(X_dtm_norm2)\n",
    "    distortions.append(km.inertia_)\n",
    "plt.plot(range(1, 25), distortions, marker='o')\n",
    "plt.xlabel('Number of Clusters')\n",
    "plt.ylabel('Distortion')\n",
    "plt.show()"
   ]
  },
  {
   "cell_type": "markdown",
   "metadata": {},
   "source": [
    "Still no \"elbow\" to indicate 7 clusters."
   ]
  },
  {
   "cell_type": "code",
   "execution_count": 29,
   "metadata": {
    "ExecuteTime": {
     "end_time": "2019-02-09T19:33:49.516107Z",
     "start_time": "2019-02-09T19:33:38.729987Z"
    }
   },
   "outputs": [
    {
     "data": {
      "image/png": "[encoded data removed]",
      "text/plain": [
       "<Figure size 432x288 with 1 Axes>"
      ]
     },
     "metadata": {
      "needs_background": "light"
     },
     "output_type": "display_data"
    }
   ],
   "source": [
    "km = KMeans(n_clusters=7,\n",
    "            init='k-means++',\n",
    "            random_state=3)\n",
    "y_km = km.fit_predict(X_dtm_norm2)\n",
    "\n",
    "cluster_labels = np.unique(y_km)\n",
    "n_clusters = cluster_labels.shape[0]\n",
    "silhouette_vals = silhouette_samples(X_dtm_norm2, y_km, metric='euclidean')\n",
    "\n",
    "y_ax_lower, y_ax_upper = 0, 0\n",
    "yticks = []\n",
    "for i, c in enumerate(cluster_labels):\n",
    "    c_silhouette_vals = silhouette_vals[y_km == c]\n",
    "    c_silhouette_vals.sort()\n",
    "    y_ax_upper += len(c_silhouette_vals)\n",
    "    color = cm.jet(i / n_clusters)\n",
    "    plt.barh(range(y_ax_lower, y_ax_upper),\n",
    "             c_silhouette_vals,\n",
    "             height=1.0,\n",
    "             edgecolor='none',\n",
    "             color=color)\n",
    "    yticks.append((y_ax_lower + y_ax_upper) / 2)\n",
    "    y_ax_lower += len(c_silhouette_vals)\n",
    "silhouette_avg = np.mean(silhouette_vals)\n",
    "plt.axvline(silhouette_avg,\n",
    "            color='red',\n",
    "            linestyle='--')\n",
    "plt.yticks(yticks, cluster_labels + 1)\n",
    "plt.ylabel('Cluster')\n",
    "plt.xlabel('Silhouette coefficient')\n",
    "plt.show()"
   ]
  },
  {
   "cell_type": "markdown",
   "metadata": {},
   "source": [
    "#### Dimensionality Reduction\n",
    "\n",
    "Using SVD to compress our featurespace may improve performance for K-Means."
   ]
  },
  {
   "cell_type": "code",
   "execution_count": 30,
   "metadata": {
    "ExecuteTime": {
     "end_time": "2019-02-09T19:33:49.524580Z",
     "start_time": "2019-02-09T19:33:49.517785Z"
    }
   },
   "outputs": [],
   "source": [
    "from sklearn.decomposition import TruncatedSVD, PCA\n",
    "from sklearn.pipeline import make_pipeline\n",
    "from sklearn.preprocessing import Normalizer"
   ]
  },
  {
   "cell_type": "markdown",
   "metadata": {},
   "source": [
    "##### Singular Value Decomposition with TFIDF"
   ]
  },
  {
   "cell_type": "code",
   "execution_count": 31,
   "metadata": {
    "ExecuteTime": {
     "end_time": "2019-02-09T19:33:49.989478Z",
     "start_time": "2019-02-09T19:33:49.527774Z"
    }
   },
   "outputs": [
    {
     "name": "stdout",
     "output_type": "stream",
     "text": [
      "Number of features: 1939\n"
     ]
    }
   ],
   "source": [
    "vectorizer = TfidfVectorizer(max_df=0.5,\n",
    "                             min_df=10,\n",
    "                             stop_words='english',\n",
    "                             lowercase=True,\n",
    "                             use_idf=True,\n",
    "                             norm=u'l2'\n",
    "                             )\n",
    "\n",
    "lyrics_tfidf = vectorizer.fit_transform(df_sub_train1.clean_text)\n",
    "print('Number of features: {}'.format(lyrics_tfidf.get_shape()[1]))\n",
    "\n",
    "lyrics_tfidf_csr = lyrics_tfidf.tocsr()\n",
    "lyrics_norm = normalize(lyrics_tfidf_csr.toarray())"
   ]
  },
  {
   "cell_type": "code",
   "execution_count": 32,
   "metadata": {
    "ExecuteTime": {
     "end_time": "2019-02-09T19:33:50.773785Z",
     "start_time": "2019-02-09T19:33:49.992355Z"
    }
   },
   "outputs": [
    {
     "name": "stdout",
     "output_type": "stream",
     "text": [
      "Percent variance captured by all components: 66.58478949014\n"
     ]
    }
   ],
   "source": [
    "svd = TruncatedSVD(400)\n",
    "lsa = make_pipeline(svd, Normalizer(copy=False))\n",
    "\n",
    "X_lsa = lsa.fit_transform(lyrics_tfidf)\n",
    "\n",
    "variance_explained=svd.explained_variance_ratio_\n",
    "total_variance = variance_explained.sum()\n",
    "print(\"Percent variance captured by all components:\",total_variance*100)"
   ]
  },
  {
   "cell_type": "markdown",
   "metadata": {},
   "source": [
    "##### K-Means"
   ]
  },
  {
   "cell_type": "code",
   "execution_count": 33,
   "metadata": {
    "ExecuteTime": {
     "end_time": "2019-02-09T19:34:44.702027Z",
     "start_time": "2019-02-09T19:33:50.775803Z"
    }
   },
   "outputs": [
    {
     "data": {
      "image/png": "[encoded data removed]",
      "text/plain": [
       "<Figure size 432x288 with 1 Axes>"
      ]
     },
     "metadata": {
      "needs_background": "light"
     },
     "output_type": "display_data"
    }
   ],
   "source": [
    "distortions = []\n",
    "for i in range(1, 25):\n",
    "    km = KMeans(n_clusters=i,\n",
    "                init='k-means++',\n",
    "                random_state=3)\n",
    "    km.fit(X_lsa)\n",
    "    distortions.append(km.inertia_)\n",
    "plt.plot(range(1, 25), distortions, marker='o')\n",
    "plt.xlabel('Number of Clusters')\n",
    "plt.ylabel('Distortion')\n",
    "plt.show()"
   ]
  },
  {
   "cell_type": "markdown",
   "metadata": {},
   "source": [
    "##### SVD with CountVectorizer"
   ]
  },
  {
   "cell_type": "code",
   "execution_count": 34,
   "metadata": {
    "ExecuteTime": {
     "end_time": "2019-02-09T19:34:45.247891Z",
     "start_time": "2019-02-09T19:34:44.703923Z"
    }
   },
   "outputs": [
    {
     "name": "stdout",
     "output_type": "stream",
     "text": [
      "Number of features: 1916\n"
     ]
    }
   ],
   "source": [
    "vect = CountVectorizer(max_df=0.2, min_df=10, stop_words='english')\n",
    "X_dtm = vect.fit_transform(df_sub_train1.clean_text)\n",
    "print('Number of features: {}'.format(X_dtm.get_shape()[1]))"
   ]
  },
  {
   "cell_type": "code",
   "execution_count": 35,
   "metadata": {
    "ExecuteTime": {
     "end_time": "2019-02-09T19:34:45.953889Z",
     "start_time": "2019-02-09T19:34:45.249688Z"
    }
   },
   "outputs": [
    {
     "name": "stdout",
     "output_type": "stream",
     "text": [
      "Percent variance captured by all components: 83.72558208930302\n"
     ]
    }
   ],
   "source": [
    "svd = TruncatedSVD(400)\n",
    "lsa = make_pipeline(svd, Normalizer(copy=False))\n",
    "\n",
    "X_dtm_lsa = lsa.fit_transform(X_dtm)\n",
    "\n",
    "variance_explained=svd.explained_variance_ratio_\n",
    "total_variance = variance_explained.sum()\n",
    "print(\"Percent variance captured by all components:\",total_variance*100)"
   ]
  },
  {
   "cell_type": "markdown",
   "metadata": {},
   "source": [
    "##### K-Means"
   ]
  },
  {
   "cell_type": "code",
   "execution_count": 36,
   "metadata": {
    "ExecuteTime": {
     "end_time": "2019-02-09T19:35:30.305907Z",
     "start_time": "2019-02-09T19:34:45.956111Z"
    },
    "scrolled": true
   },
   "outputs": [
    {
     "data": {
      "image/png": "[encoded data removed]",
      "text/plain": [
       "<Figure size 432x288 with 1 Axes>"
      ]
     },
     "metadata": {
      "needs_background": "light"
     },
     "output_type": "display_data"
    }
   ],
   "source": [
    "distortions = []\n",
    "for i in range(3, 25):\n",
    "    km = KMeans(n_clusters=i,\n",
    "                init='k-means++',\n",
    "                random_state=3)\n",
    "    km.fit(X_dtm_lsa)\n",
    "    distortions.append(km.inertia_)\n",
    "plt.plot(range(3, 25), distortions, marker='o')\n",
    "plt.xlabel('Number of Clusters')\n",
    "plt.ylabel('Distortion')\n",
    "plt.show()"
   ]
  },
  {
   "cell_type": "markdown",
   "metadata": {},
   "source": [
    "#### Initial Unsupervised Conclusions\n",
    "\n",
    "KMeans, Mean-shift, and Spectral Clustering all perform quite poorly on the text data, regardless of how we create the featurespace. The data is too sparse for any of those models to detect the number of clusters we are looking for even when applying Singular Value Decomposition to reduce the features drastically."
   ]
  },
  {
   "cell_type": "markdown",
   "metadata": {},
   "source": [
    "### Latent Dirichlet Allocation (LDA)\n",
    "\n",
    "Since K-Means, Mean-shift, and Spectral Clustering do not do well with sparse data, I will implement two topic modeling techniques that are better suited for this task, Latent Dirichlet Allocation and Non-negative Matrix Factorization."
   ]
  },
  {
   "cell_type": "code",
   "execution_count": 37,
   "metadata": {
    "ExecuteTime": {
     "end_time": "2019-02-09T19:35:30.328873Z",
     "start_time": "2019-02-09T19:35:30.315000Z"
    }
   },
   "outputs": [
    {
     "data": {
      "text/html": [
       "<div>\n",
       "<style scoped>\n",
       "    .dataframe tbody tr th:only-of-type {\n",
       "        vertical-align: middle;\n",
       "    }\n",
       "\n",
       "    .dataframe tbody tr th {\n",
       "        vertical-align: top;\n",
       "    }\n",
       "\n",
       "    .dataframe thead th {\n",
       "        text-align: right;\n",
       "    }\n",
       "</style>\n",
       "<table border=\"1\" class=\"dataframe\">\n",
       "  <thead>\n",
       "    <tr style=\"text-align: right;\">\n",
       "      <th></th>\n",
       "      <th>artist</th>\n",
       "      <th>genre</th>\n",
       "      <th>clean_text</th>\n",
       "    </tr>\n",
       "  </thead>\n",
       "  <tbody>\n",
       "    <tr>\n",
       "      <th>17235</th>\n",
       "      <td>Reba Mcentire</td>\n",
       "      <td>country</td>\n",
       "      <td>When I heard that familiar voice, My heart sto...</td>\n",
       "    </tr>\n",
       "    <tr>\n",
       "      <th>13592</th>\n",
       "      <td>Nazareth</td>\n",
       "      <td>rock</td>\n",
       "      <td>May the sun, the sun shine bright May the sun ...</td>\n",
       "    </tr>\n",
       "    <tr>\n",
       "      <th>27269</th>\n",
       "      <td>Cher</td>\n",
       "      <td>pop</td>\n",
       "      <td>Do you believe? Do you believe? Do you believe...</td>\n",
       "    </tr>\n",
       "    <tr>\n",
       "      <th>26183</th>\n",
       "      <td>Bon Jovi</td>\n",
       "      <td>rock</td>\n",
       "      <td>Looking like a train wreck Sipping on her long...</td>\n",
       "    </tr>\n",
       "    <tr>\n",
       "      <th>1755</th>\n",
       "      <td>Bon Jovi</td>\n",
       "      <td>rock</td>\n",
       "      <td>When you get to the bottom You go back to the ...</td>\n",
       "    </tr>\n",
       "  </tbody>\n",
       "</table>\n",
       "</div>"
      ],
      "text/plain": [
       "              artist    genre  \\\n",
       "17235  Reba Mcentire  country   \n",
       "13592       Nazareth     rock   \n",
       "27269           Cher      pop   \n",
       "26183       Bon Jovi     rock   \n",
       "1755        Bon Jovi     rock   \n",
       "\n",
       "                                              clean_text  \n",
       "17235  When I heard that familiar voice, My heart sto...  \n",
       "13592  May the sun, the sun shine bright May the sun ...  \n",
       "27269  Do you believe? Do you believe? Do you believe...  \n",
       "26183  Looking like a train wreck Sipping on her long...  \n",
       "1755   When you get to the bottom You go back to the ...  "
      ]
     },
     "execution_count": 37,
     "metadata": {},
     "output_type": "execute_result"
    }
   ],
   "source": [
    "df_sub_train1.head()"
   ]
  },
  {
   "cell_type": "code",
   "execution_count": 38,
   "metadata": {
    "ExecuteTime": {
     "end_time": "2019-02-09T19:35:30.336892Z",
     "start_time": "2019-02-09T19:35:30.331914Z"
    }
   },
   "outputs": [],
   "source": [
    "docs = np.array(df_sub_train1.clean_text)"
   ]
  },
  {
   "cell_type": "code",
   "execution_count": 39,
   "metadata": {
    "ExecuteTime": {
     "end_time": "2019-02-09T19:35:30.610251Z",
     "start_time": "2019-02-09T19:35:30.341466Z"
    }
   },
   "outputs": [
    {
     "name": "stderr",
     "output_type": "stream",
     "text": [
      "[nltk_data] Downloading package wordnet to\n",
      "[nltk_data]     /Users/matthewpokorny/nltk_data...\n",
      "[nltk_data]   Package wordnet is already up-to-date!\n"
     ]
    },
    {
     "data": {
      "text/plain": [
       "True"
      ]
     },
     "execution_count": 39,
     "metadata": {},
     "output_type": "execute_result"
    }
   ],
   "source": [
    "from nltk.stem.wordnet import WordNetLemmatizer\n",
    "from nltk.tokenize import RegexpTokenizer\n",
    "nltk.download('wordnet')"
   ]
  },
  {
   "cell_type": "code",
   "execution_count": 40,
   "metadata": {
    "ExecuteTime": {
     "end_time": "2019-02-09T19:35:30.618592Z",
     "start_time": "2019-02-09T19:35:30.613502Z"
    }
   },
   "outputs": [],
   "source": [
    "from nltk.stem.porter import PorterStemmer"
   ]
  },
  {
   "cell_type": "code",
   "execution_count": 41,
   "metadata": {
    "ExecuteTime": {
     "end_time": "2019-02-09T19:35:30.629559Z",
     "start_time": "2019-02-09T19:35:30.620963Z"
    }
   },
   "outputs": [],
   "source": [
    "# Prepare the docs with a porter stemmer and remove shorter words\n",
    "\n",
    "def docs_preprocessor(docs):\n",
    "    tokenizer = RegexpTokenizer(r'\\w+')\n",
    "    for idx in range(len(docs)):\n",
    "        docs[idx] = str(docs[idx]).lower()\n",
    "        docs[idx] = tokenizer.tokenize(docs[idx])\n",
    "        \n",
    "    # Remove numbers, but not words that contain numbers.\n",
    "    docs = [[token for token in doc if not token.isdigit()] for doc in docs]\n",
    "    \n",
    "    # Remove words that are only one character.\n",
    "    docs = [[token for token in doc if len(token) > 3] for doc in docs]\n",
    "    \n",
    "    # Lemmatize all words in documents.\n",
    "#     lemmatizer = WordNetLemmatizer()\n",
    "#     docs = [[lemmatizer.lemmatize(token) for token in doc] for doc in docs]\n",
    "    \n",
    "    # Get only stems.\n",
    "    p_stemmer = PorterStemmer()\n",
    "    docs = [[p_stemmer.stem(i) for i in doc] for doc in docs]\n",
    "    \n",
    "    return docs"
   ]
  },
  {
   "cell_type": "code",
   "execution_count": 42,
   "metadata": {
    "ExecuteTime": {
     "end_time": "2019-02-09T19:35:38.231675Z",
     "start_time": "2019-02-09T19:35:30.632345Z"
    }
   },
   "outputs": [
    {
     "data": {
      "text/plain": [
       "['sister',\n",
       " 'head',\n",
       " 'alabama',\n",
       " 'better',\n",
       " 'think',\n",
       " 'fast',\n",
       " 'wind',\n",
       " 'gonna',\n",
       " 'pick',\n",
       " 'rain']"
      ]
     },
     "execution_count": 42,
     "metadata": {},
     "output_type": "execute_result"
    }
   ],
   "source": [
    "docs = docs_preprocessor(docs)\n",
    "docs[5][:10]"
   ]
  },
  {
   "cell_type": "code",
   "execution_count": 43,
   "metadata": {
    "ExecuteTime": {
     "end_time": "2019-02-09T19:35:39.125069Z",
     "start_time": "2019-02-09T19:35:38.233509Z"
    }
   },
   "outputs": [
    {
     "name": "stderr",
     "output_type": "stream",
     "text": [
      "/usr/local/lib/python3.7/site-packages/scipy/sparse/sparsetools.py:21: DeprecationWarning: `scipy.sparse.sparsetools` is deprecated!\n",
      "scipy.sparse.sparsetools is a private module for scipy.sparse, and should not be used.\n",
      "  _deprecated()\n"
     ]
    },
    {
     "name": "stdout",
     "output_type": "stream",
     "text": [
      "142\n",
      "['sister', 'head', 'alabama', 'better', 'think', 'fast', 'wind', 'gonna', 'pick', 'rain', 'slack', 'head', 'down', 'georgia', 'lose']\n"
     ]
    }
   ],
   "source": [
    "from gensim.models.phrases import Phrases, Phraser\n",
    "\n",
    "# Add bigrams to our docs.\n",
    "bigram = Phrases(docs)\n",
    "print(len(bigram[docs[5]]))\n",
    "print(docs[5][:15])"
   ]
  },
  {
   "cell_type": "code",
   "execution_count": 44,
   "metadata": {
    "ExecuteTime": {
     "end_time": "2019-02-09T19:35:40.207890Z",
     "start_time": "2019-02-09T19:35:39.126856Z"
    }
   },
   "outputs": [],
   "source": [
    "for i in range(len(docs)):\n",
    "    for token in bigram[docs[i]]:\n",
    "        if '_' in token:\n",
    "            docs[i].append(token)"
   ]
  },
  {
   "cell_type": "code",
   "execution_count": 45,
   "metadata": {
    "ExecuteTime": {
     "end_time": "2019-02-09T19:35:40.231353Z",
     "start_time": "2019-02-09T19:35:40.228114Z"
    }
   },
   "outputs": [],
   "source": [
    "from gensim.corpora import Dictionary"
   ]
  },
  {
   "cell_type": "code",
   "execution_count": 46,
   "metadata": {
    "ExecuteTime": {
     "end_time": "2019-02-09T19:35:40.467522Z",
     "start_time": "2019-02-09T19:35:40.248053Z"
    }
   },
   "outputs": [
    {
     "name": "stdout",
     "output_type": "stream",
     "text": [
      "Number of unique words in initial documents: 9949\n"
     ]
    }
   ],
   "source": [
    "dictionary = Dictionary(docs)\n",
    "print('Number of unique words in initial documents:', len(dictionary))"
   ]
  },
  {
   "cell_type": "code",
   "execution_count": 47,
   "metadata": {
    "ExecuteTime": {
     "end_time": "2019-02-09T19:35:40.488320Z",
     "start_time": "2019-02-09T19:35:40.469324Z"
    }
   },
   "outputs": [
    {
     "name": "stdout",
     "output_type": "stream",
     "text": [
      "Number of unique words after removing rare and common words: 3003\n"
     ]
    }
   ],
   "source": [
    "# Filter out words that occur less than 5 documents or more than 20% of the documents.\n",
    "dictionary.filter_extremes(no_below=5, no_above=0.2)\n",
    "print('Number of unique words after removing rare and common words:', len(dictionary))"
   ]
  },
  {
   "cell_type": "code",
   "execution_count": 48,
   "metadata": {
    "ExecuteTime": {
     "end_time": "2019-02-09T19:35:40.635718Z",
     "start_time": "2019-02-09T19:35:40.490495Z"
    }
   },
   "outputs": [],
   "source": [
    "corpus = [dictionary.doc2bow(doc) for doc in docs]"
   ]
  },
  {
   "cell_type": "code",
   "execution_count": 49,
   "metadata": {
    "ExecuteTime": {
     "end_time": "2019-02-09T19:35:40.645787Z",
     "start_time": "2019-02-09T19:35:40.637780Z"
    }
   },
   "outputs": [
    {
     "data": {
      "text/plain": [
       "[(0, 1),\n",
       " (1, 2),\n",
       " (2, 1),\n",
       " (3, 1),\n",
       " (4, 1),\n",
       " (5, 1),\n",
       " (6, 1),\n",
       " (7, 1),\n",
       " (8, 1),\n",
       " (9, 1),\n",
       " (10, 1),\n",
       " (11, 1),\n",
       " (12, 1),\n",
       " (13, 1),\n",
       " (14, 1),\n",
       " (15, 2),\n",
       " (16, 1),\n",
       " (17, 1),\n",
       " (18, 1),\n",
       " (19, 1),\n",
       " (20, 1),\n",
       " (21, 1),\n",
       " (22, 1),\n",
       " (23, 1),\n",
       " (24, 1),\n",
       " (25, 1),\n",
       " (26, 1),\n",
       " (27, 1),\n",
       " (28, 1),\n",
       " (29, 1),\n",
       " (30, 1),\n",
       " (31, 1),\n",
       " (32, 1),\n",
       " (33, 1),\n",
       " (34, 1),\n",
       " (35, 1),\n",
       " (36, 1),\n",
       " (37, 1),\n",
       " (38, 1),\n",
       " (39, 1),\n",
       " (40, 1)]"
      ]
     },
     "execution_count": 49,
     "metadata": {},
     "output_type": "execute_result"
    }
   ],
   "source": [
    "# BoW count for every index, matches on the dictionary.\n",
    "corpus[0]"
   ]
  },
  {
   "cell_type": "code",
   "execution_count": 50,
   "metadata": {
    "ExecuteTime": {
     "end_time": "2019-02-09T19:35:40.652894Z",
     "start_time": "2019-02-09T19:35:40.648395Z"
    }
   },
   "outputs": [
    {
     "name": "stdout",
     "output_type": "stream",
     "text": [
      "Number of unique tokens: 3003\n"
     ]
    }
   ],
   "source": [
    "print('Number of unique tokens:', len(dictionary))"
   ]
  },
  {
   "cell_type": "code",
   "execution_count": 51,
   "metadata": {
    "ExecuteTime": {
     "end_time": "2019-02-09T19:35:40.659421Z",
     "start_time": "2019-02-09T19:35:40.655486Z"
    }
   },
   "outputs": [
    {
     "name": "stdout",
     "output_type": "stream",
     "text": [
      "Number of documents: 2783\n"
     ]
    }
   ],
   "source": [
    "print('Number of documents:', len(corpus))"
   ]
  },
  {
   "cell_type": "code",
   "execution_count": 52,
   "metadata": {
    "ExecuteTime": {
     "end_time": "2019-02-09T19:35:40.664611Z",
     "start_time": "2019-02-09T19:35:40.661375Z"
    }
   },
   "outputs": [],
   "source": [
    "from gensim.models import LdaModel"
   ]
  },
  {
   "cell_type": "code",
   "execution_count": 53,
   "metadata": {
    "ExecuteTime": {
     "end_time": "2019-02-09T19:36:23.867350Z",
     "start_time": "2019-02-09T19:35:40.666984Z"
    }
   },
   "outputs": [
    {
     "name": "stderr",
     "output_type": "stream",
     "text": [
      "/usr/local/lib/python3.7/site-packages/pyLDAvis/_prepare.py:257: FutureWarning: Sorting because non-concatenation axis is not aligned. A future version\n",
      "of pandas will change to not sort by default.\n",
      "\n",
      "To accept the future behavior, pass 'sort=False'.\n",
      "\n",
      "To retain the current behavior and silence the warning, pass 'sort=True'.\n",
      "\n",
      "  return pd.concat([default_term_info] + list(topic_dfs))\n"
     ]
    },
    {
     "data": {
      "text/html": [
       "\n",
       "<link rel=\"stylesheet\" type=\"text/css\" href=\"https://cdn.rawgit.com/bmabey/pyLDAvis/files/ldavis.v1.0.0.css\">\n",
       "\n",
       "\n",
       "<div id=\"ldavis_el7828449151247686938915272\"></div>\n",
       "<script type=\"text/javascript\">\n",
       "\n",
       "var ldavis_el7828449151247686938915272_data = {\"mdsDat\": {\"x\": [-24.740991592407227, -53.019954681396484, -44.182125091552734, -7.063179016113281, 21.216323852539062, -15.902140617370605, 12.375019073486328], \"y\": [-65.39689636230469, -38.865177154541016, -1.1093807220458984, 10.116592407226562, -16.414785385131836, -27.64070701599121, -54.17190933227539], \"topics\": [1, 2, 3, 4, 5, 6, 7], \"cluster\": [1, 1, 1, 1, 1, 1, 1], \"Freq\": [37.68082046508789, 15.780821800231934, 12.72898006439209, 12.311081886291504, 9.536865234375, 6.567928791046143, 5.393509387969971]}, \"tinfo\": {\"Category\": [\"Default\", \"Default\", \"Default\", \"Default\", \"Default\", \"Default\", \"Default\", \"Default\", \"Default\", \"Default\", \"Default\", \"Default\", \"Default\", \"Default\", \"Default\", \"Default\", \"Default\", \"Default\", \"Default\", \"Default\", \"Default\", \"Default\", \"Default\", \"Default\", \"Default\", \"Default\", \"Default\", \"Default\", \"Default\", \"Default\", \"Topic1\", \"Topic1\", \"Topic1\", \"Topic1\", \"Topic1\", \"Topic1\", \"Topic1\", \"Topic1\", \"Topic1\", \"Topic1\", \"Topic1\", \"Topic1\", \"Topic1\", \"Topic1\", \"Topic1\", \"Topic1\", \"Topic1\", \"Topic1\", \"Topic1\", \"Topic1\", \"Topic1\", \"Topic1\", \"Topic1\", \"Topic1\", \"Topic1\", \"Topic1\", \"Topic1\", \"Topic1\", \"Topic1\", \"Topic1\", \"Topic1\", \"Topic1\", \"Topic1\", \"Topic1\", \"Topic1\", \"Topic1\", \"Topic1\", \"Topic1\", \"Topic1\", \"Topic1\", \"Topic1\", \"Topic1\", \"Topic1\", \"Topic1\", \"Topic1\", \"Topic1\", \"Topic1\", \"Topic1\", \"Topic1\", \"Topic1\", \"Topic1\", \"Topic1\", \"Topic1\", \"Topic1\", \"Topic1\", \"Topic1\", \"Topic2\", \"Topic2\", \"Topic2\", \"Topic2\", \"Topic2\", \"Topic2\", \"Topic2\", \"Topic2\", \"Topic2\", \"Topic2\", \"Topic2\", \"Topic2\", \"Topic2\", \"Topic2\", \"Topic2\", \"Topic2\", \"Topic2\", \"Topic2\", \"Topic2\", \"Topic2\", \"Topic2\", \"Topic2\", \"Topic2\", \"Topic2\", \"Topic2\", \"Topic2\", \"Topic2\", \"Topic2\", \"Topic2\", \"Topic2\", \"Topic2\", \"Topic2\", \"Topic2\", \"Topic2\", \"Topic2\", \"Topic2\", \"Topic2\", \"Topic2\", \"Topic2\", \"Topic2\", \"Topic2\", \"Topic2\", \"Topic2\", \"Topic2\", \"Topic2\", \"Topic2\", \"Topic2\", \"Topic2\", \"Topic2\", \"Topic2\", \"Topic2\", \"Topic2\", \"Topic2\", \"Topic2\", \"Topic2\", \"Topic3\", \"Topic3\", \"Topic3\", \"Topic3\", \"Topic3\", \"Topic3\", \"Topic3\", \"Topic3\", \"Topic3\", \"Topic3\", \"Topic3\", \"Topic3\", \"Topic3\", \"Topic3\", \"Topic3\", \"Topic3\", \"Topic3\", \"Topic3\", \"Topic3\", \"Topic3\", \"Topic3\", \"Topic3\", \"Topic3\", \"Topic3\", \"Topic3\", \"Topic3\", \"Topic3\", \"Topic3\", \"Topic3\", \"Topic3\", \"Topic3\", \"Topic3\", \"Topic3\", \"Topic3\", \"Topic3\", \"Topic3\", \"Topic3\", \"Topic3\", \"Topic3\", \"Topic3\", \"Topic3\", \"Topic3\", \"Topic3\", \"Topic3\", \"Topic3\", \"Topic3\", \"Topic3\", \"Topic3\", \"Topic3\", \"Topic3\", \"Topic3\", \"Topic3\", \"Topic4\", \"Topic4\", \"Topic4\", \"Topic4\", \"Topic4\", \"Topic4\", \"Topic4\", \"Topic4\", \"Topic4\", \"Topic4\", \"Topic4\", \"Topic4\", \"Topic4\", \"Topic4\", \"Topic4\", \"Topic4\", \"Topic4\", \"Topic4\", \"Topic4\", \"Topic4\", \"Topic4\", \"Topic4\", \"Topic4\", \"Topic4\", \"Topic4\", \"Topic4\", \"Topic4\", \"Topic4\", \"Topic4\", \"Topic4\", \"Topic4\", \"Topic4\", \"Topic4\", \"Topic4\", \"Topic4\", \"Topic4\", \"Topic4\", \"Topic4\", \"Topic4\", \"Topic4\", \"Topic4\", \"Topic4\", \"Topic4\", \"Topic4\", \"Topic4\", \"Topic4\", \"Topic4\", \"Topic4\", \"Topic4\", \"Topic5\", \"Topic5\", \"Topic5\", \"Topic5\", \"Topic5\", \"Topic5\", \"Topic5\", \"Topic5\", \"Topic5\", \"Topic5\", \"Topic5\", \"Topic5\", \"Topic5\", \"Topic5\", \"Topic5\", \"Topic5\", \"Topic5\", \"Topic5\", \"Topic5\", \"Topic5\", \"Topic5\", \"Topic5\", \"Topic5\", \"Topic5\", \"Topic5\", \"Topic5\", \"Topic5\", \"Topic5\", \"Topic5\", \"Topic5\", \"Topic5\", \"Topic5\", \"Topic5\", \"Topic5\", \"Topic5\", \"Topic5\", \"Topic5\", \"Topic5\", \"Topic5\", \"Topic5\", \"Topic5\", \"Topic5\", \"Topic5\", \"Topic5\", \"Topic5\", \"Topic5\", \"Topic5\", \"Topic5\", \"Topic5\", \"Topic5\", \"Topic6\", \"Topic6\", \"Topic6\", \"Topic6\", \"Topic6\", \"Topic6\", \"Topic6\", \"Topic6\", \"Topic6\", \"Topic6\", \"Topic6\", \"Topic6\", \"Topic6\", \"Topic6\", \"Topic6\", \"Topic6\", \"Topic6\", \"Topic6\", \"Topic6\", \"Topic6\", \"Topic6\", \"Topic6\", \"Topic6\", \"Topic6\", \"Topic6\", \"Topic6\", \"Topic6\", \"Topic6\", \"Topic6\", \"Topic6\", \"Topic6\", \"Topic6\", \"Topic6\", \"Topic6\", \"Topic6\", \"Topic6\", \"Topic6\", \"Topic6\", \"Topic6\", \"Topic6\", \"Topic6\", \"Topic6\", \"Topic6\", \"Topic6\", \"Topic6\", \"Topic6\", \"Topic6\", \"Topic6\", \"Topic7\", \"Topic7\", \"Topic7\", \"Topic7\", \"Topic7\", \"Topic7\", \"Topic7\", \"Topic7\", \"Topic7\", \"Topic7\", \"Topic7\", \"Topic7\", \"Topic7\", \"Topic7\", \"Topic7\", \"Topic7\", \"Topic7\", \"Topic7\", \"Topic7\", \"Topic7\", \"Topic7\", \"Topic7\", \"Topic7\", \"Topic7\", \"Topic7\", \"Topic7\", \"Topic7\", \"Topic7\", \"Topic7\", \"Topic7\", \"Topic7\", \"Topic7\", \"Topic7\", \"Topic7\", \"Topic7\", \"Topic7\", \"Topic7\", \"Topic7\", \"Topic7\", \"Topic7\", \"Topic7\", \"Topic7\", \"Topic7\", \"Topic7\", \"Topic7\", \"Topic7\", \"Topic7\"], \"Freq\": [1954.0, 1112.0, 1535.0, 893.0, 858.0, 636.0, 674.0, 995.0, 1082.0, 688.0, 1061.0, 999.0, 1070.0, 488.0, 483.0, 659.0, 616.0, 443.0, 419.0, 507.0, 766.0, 363.0, 438.0, 764.0, 987.0, 297.0, 294.0, 299.0, 876.0, 398.0, 875.9275512695312, 846.9911499023438, 698.7369995117188, 550.3009643554688, 550.211181640625, 499.224365234375, 488.1829528808594, 467.7342224121094, 453.9624938964844, 443.8446960449219, 431.6307373046875, 419.5133361816406, 378.41070556640625, 369.48687744140625, 367.1199645996094, 339.7823181152344, 326.3995361328125, 322.99371337890625, 315.6055908203125, 302.90283203125, 302.4818420410156, 278.6927490234375, 277.1826477050781, 276.5457458496094, 272.02984619140625, 270.086669921875, 266.723876953125, 259.4237060546875, 273.6520690917969, 246.66549682617188, 590.6068725585938, 564.2921752929688, 433.9283142089844, 365.9411926269531, 591.540283203125, 742.8853759765625, 427.58721923828125, 776.112548828125, 692.216064453125, 767.9651489257812, 416.7989196777344, 478.2661437988281, 796.7235107421875, 810.0220336914062, 756.6185302734375, 625.0789794921875, 681.263427734375, 630.6258544921875, 758.7648315429688, 626.127685546875, 565.0919799804688, 561.2445678710938, 606.6983642578125, 463.021728515625, 477.1036682128906, 471.2304382324219, 424.1600646972656, 272.405029296875, 265.9986877441406, 245.01339721679688, 242.59938049316406, 237.42970275878906, 231.5928497314453, 220.87684631347656, 191.1764678955078, 177.39578247070312, 172.1891326904297, 166.48040771484375, 156.4989776611328, 140.9967041015625, 138.12937927246094, 137.99868774414062, 133.07928466796875, 129.6573486328125, 123.86830139160156, 123.54100036621094, 119.66256713867188, 117.34364318847656, 108.46012115478516, 103.7874755859375, 101.17211151123047, 98.45860290527344, 98.02941131591797, 97.54169464111328, 97.44697570800781, 95.31216430664062, 1014.9970703125, 236.41445922851562, 924.3963012695312, 337.578125, 677.8684692382812, 328.1190185546875, 162.56576538085938, 281.4015197753906, 171.6817626953125, 519.5473022460938, 245.15313720703125, 146.3549346923828, 385.3940124511719, 339.94476318359375, 361.42828369140625, 190.03146362304688, 173.5928192138672, 169.1189422607422, 250.7310791015625, 208.30160522460938, 207.09848022460938, 210.31581115722656, 221.51043701171875, 179.4416961669922, 187.5408172607422, 615.9338989257812, 506.9225158691406, 263.1585388183594, 224.41648864746094, 219.74078369140625, 213.3939208984375, 201.14979553222656, 176.8644256591797, 147.2920379638672, 142.05014038085938, 128.659912109375, 126.4353256225586, 116.00532531738281, 145.9629669189453, 110.56696319580078, 110.24476623535156, 108.57251739501953, 102.27191162109375, 101.5721435546875, 100.84210205078125, 100.30015563964844, 94.48564147949219, 94.40776062011719, 94.07772827148438, 93.8013916015625, 89.94882202148438, 87.37637329101562, 83.17120361328125, 81.8447265625, 79.08939361572266, 905.6569213867188, 161.6975860595703, 155.8507080078125, 311.17291259765625, 174.55758666992188, 221.00733947753906, 272.5340576171875, 221.38890075683594, 319.6081848144531, 197.63397216796875, 367.5657653808594, 240.4135284423828, 150.14930725097656, 279.70269775390625, 141.58731079101562, 143.96510314941406, 175.11268615722656, 188.9515838623047, 165.7925262451172, 166.7886962890625, 160.4687957763672, 159.79896545410156, 1951.1793212890625, 397.9999084472656, 327.4246826171875, 298.5255432128906, 235.33242797851562, 225.60694885253906, 221.30023193359375, 183.83494567871094, 164.87437438964844, 162.06861877441406, 135.9958953857422, 135.34951782226562, 125.64696502685547, 121.97701263427734, 103.05014038085938, 92.24032592773438, 88.90713500976562, 89.04350280761719, 84.09583282470703, 81.12142181396484, 79.84727478027344, 77.28612518310547, 75.92384338378906, 75.62109375, 73.14765167236328, 72.743408203125, 72.77001953125, 72.04456329345703, 68.93315887451172, 68.23216247558594, 359.3832702636719, 1363.89697265625, 303.0639343261719, 155.0673065185547, 909.6952514648438, 120.8984146118164, 334.5340270996094, 143.2899169921875, 233.4245147705078, 207.64630126953125, 117.78489685058594, 110.33963012695312, 250.30421447753906, 118.13433837890625, 117.07981872558594, 132.62081909179688, 126.71063995361328, 129.87864685058594, 118.33710479736328, 259.4566955566406, 246.89646911621094, 213.63063049316406, 143.5865478515625, 142.05198669433594, 136.68118286132812, 129.0658416748047, 123.78895568847656, 121.45635223388672, 116.8537368774414, 114.90010833740234, 101.27922821044922, 100.48047637939453, 99.41169738769531, 95.3081283569336, 94.23990631103516, 91.6028060913086, 121.96526336669922, 89.61380004882812, 88.5133285522461, 84.27195739746094, 84.02527618408203, 77.19691467285156, 76.80760192871094, 76.77726745605469, 76.74213409423828, 73.10026550292969, 72.75660705566406, 72.8514633178711, 69.8949203491211, 409.6156921386719, 126.78466796875, 301.7315368652344, 111.3682632446289, 197.4916534423828, 136.65017700195312, 197.65533447265625, 116.84819793701172, 181.74435424804688, 210.18026733398438, 210.38986206054688, 117.74750518798828, 179.72169494628906, 247.7401123046875, 240.72738647460938, 142.6441192626953, 119.4378662109375, 137.401123046875, 129.48272705078125, 123.92170715332031, 673.2010498046875, 487.4895935058594, 482.1622619628906, 418.4792785644531, 362.61724853515625, 1105.5447998046875, 130.02125549316406, 118.9802017211914, 115.62211608886719, 120.83023071289062, 108.8644790649414, 93.77027893066406, 88.6259765625, 84.78727722167969, 81.6232681274414, 76.7586898803711, 70.60267639160156, 62.70500564575195, 62.37257385253906, 58.23282241821289, 57.605838775634766, 57.24131393432617, 54.52998352050781, 51.13587188720703, 50.43115234375, 48.08761215209961, 44.88633346557617, 43.177818298339844, 43.29167175292969, 41.65473556518555, 807.3819580078125, 230.7166748046875, 62.75547790527344, 253.74034118652344, 104.153076171875, 321.71173095703125, 60.05705642700195, 156.7921600341797, 203.2472686767578, 105.49442291259766, 132.07742309570312, 133.51153564453125, 122.66357421875, 127.57726287841797, 73.38240814208984, 112.33656311035156, 92.74065399169922, 83.0955581665039, 636.1296997070312, 296.8844299316406, 293.2762145996094, 190.8901824951172, 156.9729461669922, 219.38392639160156, 147.652099609375, 129.79244995117188, 108.24971771240234, 93.58001708984375, 90.38689422607422, 84.87240600585938, 71.6259994506836, 67.93750762939453, 61.75565719604492, 58.86996841430664, 56.73526382446289, 50.69236373901367, 50.36696243286133, 46.34662628173828, 46.0417594909668, 45.21355056762695, 44.815025329589844, 44.42892837524414, 44.21803283691406, 42.85476303100586, 42.11541748046875, 41.69919204711914, 39.2620964050293, 38.87179183959961, 288.7521057128906, 842.7750244140625, 86.43280029296875, 240.94996643066406, 531.7637939453125, 316.34857177734375, 241.60848999023438, 69.4244155883789, 131.98321533203125, 284.7830810546875, 129.98294067382812, 111.47486877441406, 123.85933685302734, 97.15015411376953, 171.03550720214844, 72.75149536132812, 87.5293197631836], \"Term\": [\"babi\", \"need\", \"gonna\", \"yeah\", \"girl\", \"tonight\", \"believ\", \"littl\", \"said\", \"blue\", \"good\", \"home\", \"more\", \"realli\", \"danc\", \"over\", \"song\", \"stop\", \"wanna\", \"sing\", \"call\", \"enough\", \"talk\", \"world\", \"some\", \"everybodi\", \"ride\", \"honey\", \"again\", \"woman\", \"again\", \"onli\", \"hold\", \"fall\", \"noth\", \"alon\", \"someon\", \"true\", \"other\", \"anoth\", \"chang\", \"rememb\", \"wrong\", \"forev\", \"kiss\", \"onc\", \"mani\", \"close\", \"touch\", \"goodby\", \"though\", \"hurt\", \"sometim\", \"els\", \"fool\", \"forget\", \"arm\", \"each\", \"wish\", \"late\", \"leav\", \"befor\", \"left\", \"found\", \"much\", \"find\", \"should\", \"still\", \"alway\", \"would\", \"without\", \"place\", \"give\", \"dream\", \"keep\", \"gone\", \"eye\", \"mind\", \"long\", \"ever\", \"turn\", \"then\", \"more\", \"hard\", \"walk\", \"live\", \"heaven\", \"bring\", \"went\", \"becaus\", \"angel\", \"sleep\", \"voic\", \"broken\", \"king\", \"born\", \"more_than\", \"black\", \"children\", \"both\", \"hate\", \"fell\", \"child\", \"whoa\", \"peac\", \"bell\", \"wasn\", \"queen\", \"flame\", \"earth\", \"knee\", \"wake\", \"hill\", \"ask\", \"half\", \"wing\", \"said\", \"mama\", \"home\", \"help\", \"call\", \"lord\", \"hous\", \"heard\", \"whole\", \"world\", \"watch\", \"ring\", \"were\", \"hear\", \"live\", \"cri\", \"daddi\", \"young\", \"hand\", \"head\", \"these\", \"them\", \"then\", \"came\", \"walk\", \"song\", \"sing\", \"christma\", \"ladi\", \"tree\", \"music\", \"countri\", \"mountain\", \"clear\", \"guitar\", \"green\", \"snow\", \"women\", \"bright\", \"rock_roll\", \"shall\", \"makin\", \"radio\", \"nice\", \"melodi\", \"finger\", \"sing_song\", \"catch\", \"sang\", \"luck\", \"one\", \"fallin\", \"leavin\", \"flesh\", \"york\", \"littl\", \"think_about\", \"citi\", \"day\", \"sound\", \"high\", \"those\", \"move\", \"them\", \"seen\", \"some\", \"play\", \"listen\", \"about\", \"land\", \"room\", \"their\", \"made\", \"town\", \"everi\", \"light\", \"hear\", \"babi\", \"woman\", \"rock\", \"crazi\", \"water\", \"lovin\", \"save\", \"anyth\", \"nothin\", \"nowher\", \"jesu\", \"wheel\", \"mirror\", \"brother\", \"talkin\", \"medicin\", \"fever\", \"bout\", \"thinkin\", \"hors\", \"speak\", \"spin\", \"south\", \"mornin\", \"cowboy\", \"downtown\", \"shout\", \"shake\", \"point\", \"hole\", \"line\", \"gonna\", \"roll\", \"hell\", \"good\", \"wild\", \"better\", \"dead\", \"road\", \"soul\", \"shoe\", \"walkin\", \"about\", \"lookin\", \"wall\", \"fire\", \"sure\", \"hand\", \"some\", \"run\", \"alright\", \"babe\", \"trip\", \"differ\", \"most\", \"read\", \"bone\", \"honki\", \"stone\", \"quit\", \"bound\", \"afraid\", \"anyway\", \"diamond\", \"tire\", \"spring\", \"thank\", \"treat\", \"tonk\", \"chain\", \"doin\", \"million\", \"surviv\", \"mari\", \"thrill\", \"honki_tonk\", \"thee\", \"tast\", \"steel\", \"talk\", \"kill\", \"cold\", \"knock\", \"fine\", \"drink\", \"get\", \"bodi\", \"matter\", \"done\", \"peopl\", \"step\", \"door\", \"around\", \"everi\", \"pass\", \"sign\", \"after\", \"name\", \"these\", \"believ\", \"realli\", \"danc\", \"wanna\", \"enough\", \"need\", \"livin\", \"parti\", \"mood\", \"repeat\", \"letter\", \"send\", \"ordinari\", \"magic\", \"choru\", \"gun\", \"romanc\", \"billi\", \"playin\", \"anytim\", \"paint\", \"ball\", \"deni\", \"strong_enough\", \"someth_insid\", \"fade_away\", \"believ_believ\", \"crime\", \"betray\", \"deep_insid\", \"girl\", \"chanc\", \"mistak\", \"show\", \"plan\", \"more\", \"moonlight\", \"insid\", \"some\", \"work\", \"pleas\", \"play\", \"sweet\", \"someth\", \"doesn\", \"face\", \"after\", \"strong\", \"tonight\", \"everybodi\", \"ride\", \"train\", \"readi\", \"easi\", \"slow\", \"beauti\", \"rose\", \"dixi\", \"yeah_yeah\", \"track\", \"hurri\", \"talk_about\", \"driver\", \"whistl\", \"closer\", \"front\", \"drivin\", \"legend\", \"bobbi\", \"lyin\", \"hollywood\", \"shoot\", \"ought\", \"plane\", \"bleed\", \"slow_down\", \"stop_stop\", \"engin\", \"honey\", \"yeah\", \"danger\", \"goin\", \"blue\", \"stop\", \"gotta\", \"rush\", \"blow\", \"over\", \"round\", \"fast\", \"lose\", \"fill\", \"gonna\", \"gettin\", \"moon\"], \"Total\": [1954.0, 1112.0, 1535.0, 893.0, 858.0, 636.0, 674.0, 995.0, 1082.0, 688.0, 1061.0, 999.0, 1070.0, 488.0, 483.0, 659.0, 616.0, 443.0, 419.0, 507.0, 766.0, 363.0, 438.0, 764.0, 987.0, 297.0, 294.0, 299.0, 876.0, 398.0, 876.7673950195312, 847.8306884765625, 699.5767211914062, 551.1412963867188, 551.064697265625, 500.0644226074219, 489.0225524902344, 468.5739440917969, 454.8031311035156, 444.6851806640625, 432.47088623046875, 420.3526611328125, 379.25054931640625, 370.3261413574219, 367.96124267578125, 340.6216125488281, 327.2390441894531, 323.83416748046875, 316.4455261230469, 303.74176025390625, 303.3221130371094, 279.5321044921875, 278.02276611328125, 277.3850402832031, 272.8690490722656, 270.9266052246094, 267.5639343261719, 260.2632751464844, 274.55328369140625, 247.5056610107422, 593.086669921875, 568.0744018554688, 436.3541564941406, 367.5223083496094, 597.1494140625, 755.2659301757812, 433.3367919921875, 824.7435302734375, 733.3353881835938, 844.9783935546875, 433.7286376953125, 506.456298828125, 908.48388671875, 931.1958618164062, 868.3833618164062, 695.782958984375, 788.8564453125, 725.4682006835938, 936.77197265625, 732.4758911132812, 742.048095703125, 865.1395874023438, 1070.566650390625, 554.088134765625, 706.919677734375, 876.066162109375, 425.0037841796875, 273.24932861328125, 266.8529968261719, 245.85792541503906, 243.4427947998047, 238.2737579345703, 232.43702697753906, 221.72032165527344, 192.02096557617188, 178.23948669433594, 173.03404235839844, 167.32516479492188, 157.34327697753906, 141.842041015625, 138.9738006591797, 138.84466552734375, 133.9232940673828, 130.50332641601562, 124.71208190917969, 124.38411712646484, 120.50691986083984, 118.18797302246094, 109.3042984008789, 104.63092041015625, 102.01731872558594, 99.30284118652344, 98.87398529052734, 98.38565063476562, 98.29285430908203, 96.15717315673828, 1082.579345703125, 243.78826904296875, 999.46044921875, 355.872314453125, 766.9332275390625, 358.23406982421875, 170.5426025390625, 337.1676025390625, 187.68792724609375, 764.28076171875, 301.9658203125, 156.16122436523438, 780.043212890625, 669.341552734375, 876.066162109375, 260.0838623046875, 220.90420532226562, 218.06980895996094, 558.8056030273438, 383.6028747558594, 384.88372802734375, 572.4649658203125, 865.1395874023438, 302.2731018066406, 706.919677734375, 616.7770385742188, 507.7656555175781, 263.99993896484375, 225.2597198486328, 220.58387756347656, 214.2372589111328, 201.991943359375, 177.70799255371094, 148.1359405517578, 142.89283752441406, 129.50335693359375, 127.27851867675781, 116.85026550292969, 147.0732879638672, 111.41104888916016, 111.0882797241211, 109.41508483886719, 103.11608123779297, 102.41657257080078, 101.68518829345703, 101.14592742919922, 95.32817840576172, 95.25141143798828, 94.92100524902344, 94.64533996582031, 90.79296875, 88.22252655029297, 84.01530456542969, 82.68953704833984, 79.93224334716797, 995.8125610351562, 170.37542724609375, 166.4492645263672, 397.927734375, 200.67758178710938, 301.6285095214844, 422.7859802246094, 331.606201171875, 572.4649658203125, 331.48248291015625, 987.39208984375, 482.80841064453125, 212.11590576171875, 841.3464965820312, 205.0605926513672, 217.45933532714844, 363.1260986328125, 610.4037475585938, 402.25177001953125, 869.375732421875, 650.6248779296875, 669.341552734375, 1954.7869873046875, 398.84674072265625, 328.2625732421875, 299.36517333984375, 236.17166137695312, 226.4459991455078, 222.1390380859375, 184.6743621826172, 165.71304321289062, 162.90792846679688, 136.8345184326172, 136.18882751464844, 126.48709106445312, 122.8163070678711, 103.88872528076172, 93.08367156982422, 89.74420166015625, 89.88240051269531, 84.93499755859375, 81.96173095703125, 80.68840026855469, 78.12487030029297, 76.76274871826172, 76.46011352539062, 73.98645782470703, 73.582275390625, 73.61029815673828, 72.88385772705078, 69.77422332763672, 69.07270050048828, 373.7924499511719, 1535.6329345703125, 324.31878662109375, 162.3794403076172, 1061.22265625, 127.40241241455078, 471.1772155761719, 183.4995574951172, 365.01104736328125, 358.43927001953125, 157.63360595703125, 141.40283203125, 841.3464965820312, 190.95008850097656, 190.94442749023438, 373.39617919921875, 339.00787353515625, 558.8056030273438, 987.39208984375, 260.2949523925781, 247.73370361328125, 214.46739196777344, 144.42727661132812, 142.89027404785156, 137.5198516845703, 129.90396118164062, 124.62672424316406, 122.293212890625, 117.69078826904297, 115.7398452758789, 102.11711120605469, 101.31941986083984, 100.24999237060547, 96.14695739746094, 95.07903289794922, 92.4394302368164, 123.0959243774414, 90.45164489746094, 89.3495864868164, 85.1086196899414, 84.86320495605469, 78.03507232666016, 77.64620208740234, 77.6156234741211, 77.58100128173828, 73.93634033203125, 73.59364318847656, 73.69235229492188, 70.73301696777344, 438.6636657714844, 131.53085327148438, 354.43719482421875, 120.1737289428711, 237.32872009277344, 162.91171264648438, 265.8826599121094, 134.36883544921875, 254.27818298339844, 319.53472900390625, 344.7896423339844, 140.95724487304688, 389.3612976074219, 802.6425170898438, 869.375732421875, 264.4429016113281, 167.3860321044922, 324.0970458984375, 363.817626953125, 384.88372802734375, 674.087158203125, 488.33544921875, 483.0074462890625, 419.3239440917969, 363.4626159667969, 1112.3160400390625, 130.88482666015625, 119.82577514648438, 116.46617126464844, 121.73182678222656, 109.71157836914062, 94.61688232421875, 89.47193145751953, 85.63240814208984, 82.46806335449219, 77.60541534423828, 71.44717407226562, 63.54924011230469, 63.21872329711914, 59.07789993286133, 58.45316696166992, 58.08868408203125, 55.3754997253418, 51.98041915893555, 51.27772521972656, 48.93403244018555, 45.72997283935547, 44.022544860839844, 44.139713287353516, 42.501277923583984, 858.296875, 255.5949249267578, 66.58575439453125, 363.679443359375, 130.48622131347656, 1070.566650390625, 69.03125762939453, 420.0385437011719, 987.39208984375, 236.09219360351562, 439.0198974609375, 482.80841064453125, 395.3721618652344, 500.6165466308594, 108.38150787353516, 531.3700561523438, 324.0970458984375, 219.13217163085938, 636.9728393554688, 297.7271728515625, 294.1191711425781, 191.7330780029297, 157.81594848632812, 220.67498779296875, 148.59823608398438, 130.63748168945312, 109.093505859375, 94.42407989501953, 91.22879028320312, 85.71571350097656, 72.46945190429688, 68.78458404541016, 62.59926986694336, 59.71406936645508, 57.57917785644531, 51.53630065917969, 51.21101379394531, 47.188148498535156, 46.885986328125, 46.056827545166016, 45.65687942504883, 45.276161193847656, 45.06224060058594, 43.70067596435547, 42.96166229248047, 42.54157257080078, 40.103302001953125, 39.71480941772461, 299.0787658691406, 893.8070678710938, 89.74170684814453, 264.88531494140625, 688.2684326171875, 443.9966125488281, 346.63690185546875, 77.52576446533203, 212.0357208251953, 659.9929809570312, 257.8202209472656, 210.93917846679688, 298.6920471191406, 186.6715087890625, 1535.6329345703125, 114.34843444824219, 274.1234130859375], \"loglift\": [30.0, 29.0, 28.0, 27.0, 26.0, 25.0, 24.0, 23.0, 22.0, 21.0, 20.0, 19.0, 18.0, 17.0, 16.0, 15.0, 14.0, 13.0, 12.0, 11.0, 10.0, 9.0, 8.0, 7.0, 6.0, 5.0, 4.0, 3.0, 2.0, 1.0, 0.9750999808311462, 0.9750000238418579, 0.9747999906539917, 0.9745000004768372, 0.9745000004768372, 0.9743000268936157, 0.9743000268936157, 0.9742000102996826, 0.9742000102996826, 0.9740999937057495, 0.9740999937057495, 0.9739999771118164, 0.973800003528595, 0.973800003528595, 0.9736999869346619, 0.9735999703407288, 0.9735000133514404, 0.9733999967575073, 0.9733999967575073, 0.9732999801635742, 0.9732000231742859, 0.9729999899864197, 0.9729999899864197, 0.9729999899864197, 0.9728999733924866, 0.9728999733924866, 0.9728999733924866, 0.9728000164031982, 0.9726999998092651, 0.972599983215332, 0.9718000292778015, 0.9692999720573425, 0.9703999757766724, 0.9717000126838684, 0.9666000008583069, 0.9595000147819519, 0.9627000093460083, 0.9151999950408936, 0.9182999730110168, 0.8805000185966492, 0.9362000226974487, 0.9186999797821045, 0.8446999788284302, 0.8366000056266785, 0.8381999731063843, 0.8689000010490417, 0.8294000029563904, 0.8359000086784363, 0.7652999758720398, 0.819100022315979, 0.7035999894142151, 0.5432999730110168, 0.4081000089645386, 0.796500027179718, 0.5827999711036682, 0.35589998960494995, 1.8444000482559204, 1.8432999849319458, 1.8431999683380127, 1.842900037765503, 1.842900037765503, 1.8428000211715698, 1.8427000045776367, 1.8425999879837036, 1.8420000076293945, 1.841599941253662, 1.8415000438690186, 1.8413000106811523, 1.840999960899353, 1.840399980545044, 1.8402999639511108, 1.8402999639511108, 1.8401000499725342, 1.839900016784668, 1.8395999670028687, 1.8395999670028687, 1.8393000364303589, 1.8392000198364258, 1.8386000394821167, 1.8382999897003174, 1.8380999565124512, 1.8378000259399414, 1.8378000259399414, 1.8378000259399414, 1.8377000093460083, 1.837499976158142, 1.7819000482559204, 1.8157000541687012, 1.7683000564575195, 1.7935999631881714, 1.7229000329971313, 1.7585999965667725, 1.7984999418258667, 1.6655999422073364, 1.757200002670288, 1.4603999853134155, 1.6378999948501587, 1.781499981880188, 1.1412999629974365, 1.1689000129699707, 0.9610000252723694, 1.5326000452041626, 1.6053999662399292, 1.5922000408172607, 1.0449999570846558, 1.23580002784729, 1.2266000509262085, 0.8450000286102295, 0.48399999737739563, 1.3249000310897827, 0.5195000171661377, 2.0599000453948975, 2.0596001148223877, 2.0580999851226807, 2.057499885559082, 2.057499885559082, 2.057300090789795, 2.0571000576019287, 2.05649995803833, 2.0555999279022217, 2.0553998947143555, 2.054800033569336, 2.0546000003814697, 2.053999900817871, 2.0536999702453613, 2.0536999702453613, 2.0536999702453613, 2.0536000728607178, 2.053100109100342, 2.052999973297119, 2.052999973297119, 2.0529000759124756, 2.0524001121520996, 2.0524001121520996, 2.0524001121520996, 2.052299976348877, 2.0518999099731445, 2.0517001152038574, 2.0511999130249023, 2.0510001182556152, 2.0506999492645264, 1.9664000272750854, 2.009000062942505, 1.9954999685287476, 1.8154000043869019, 1.9218000173568726, 1.7503000497817993, 1.6222000122070312, 1.6572999954223633, 1.4783999919891357, 1.544100046157837, 1.073099970817566, 1.3639999628067017, 1.7158000469207764, 0.9599999785423279, 1.6908999681472778, 1.648800015449524, 1.3320000171661377, 0.888700008392334, 1.1749000549316406, 0.41019999980926514, 0.6614999771118164, 0.6288999915122986, 2.0927999019622803, 2.0924999713897705, 2.092099905014038, 2.091900110244751, 2.091099977493286, 2.0910000801086426, 2.09089994430542, 2.090100049972534, 2.089600086212158, 2.0894999504089355, 2.0885000228881836, 2.0885000228881836, 2.0880000591278076, 2.0878000259399414, 2.0866000652313232, 2.085599899291992, 2.0852999687194824, 2.0852999687194824, 2.084700107574463, 2.084399938583374, 2.084199905395508, 2.083899974822998, 2.083699941635132, 2.0836000442504883, 2.0833001136779785, 2.083199977874756, 2.083199977874756, 2.0831000804901123, 2.0824999809265137, 2.08240008354187, 2.0553998947143555, 1.976099967956543, 2.026900053024292, 2.0485999584198, 1.940600037574768, 2.04229998588562, 1.7522000074386597, 1.8473000526428223, 1.6476000547409058, 1.548699975013733, 1.8033000230789185, 1.84660005569458, 0.8823000192642212, 1.6145000457763672, 1.6054999828338623, 1.059499979019165, 1.1105999946594238, 0.6355000138282776, -0.026900000870227814, 2.3468000888824463, 2.34660005569458, 2.346100091934204, 2.3441998958587646, 2.344099998474121, 2.343899965286255, 2.3434998989105225, 2.3433001041412354, 2.343100070953369, 2.342900037765503, 2.3427000045776367, 2.3417999744415283, 2.3417000770568848, 2.341599941253662, 2.341200113296509, 2.341099977493286, 2.34089994430542, 2.3408000469207764, 2.3406999111175537, 2.34060001373291, 2.340100049972534, 2.340100049972534, 2.339200019836426, 2.339099884033203, 2.339099884033203, 2.339099884033203, 2.338599920272827, 2.338599920272827, 2.3385000228881836, 2.338099956512451, 2.2815001010894775, 2.3132998943328857, 2.188999891281128, 2.273900032043457, 2.166300058364868, 2.1742000579833984, 2.053499937057495, 2.2102999687194824, 2.01419997215271, 1.9311000108718872, 1.8559999465942383, 2.170099973678589, 1.5769000053405762, 1.1744999885559082, 1.0658999681472778, 1.732699990272522, 2.012500047683716, 1.4918999671936035, 1.3169000148773193, 1.2166999578475952, 2.7216999530792236, 2.7211999893188477, 2.7211999893188477, 2.7209999561309814, 2.720599889755249, 2.716900110244751, 2.716399908065796, 2.71589994430542, 2.7156999111175537, 2.7155001163482666, 2.7151999473571777, 2.7139999866485596, 2.7135000228881836, 2.713099956512451, 2.7126998901367188, 2.7119998931884766, 2.7111001014709473, 2.7095999717712402, 2.7095000743865967, 2.7086000442504883, 2.708400011062622, 2.7083001136779785, 2.7076001167297363, 2.7065999507904053, 2.7063000202178955, 2.7054998874664307, 2.704400062561035, 2.7035999298095703, 2.7035999298095703, 2.702899932861328, 2.661799907684326, 2.6205999851226807, 2.6637001037597656, 2.36299991607666, 2.4976000785827637, 1.5206999778747559, 2.583699941635132, 1.7374999523162842, 1.142300009727478, 1.9174000024795532, 1.5218000411987305, 1.4375, 1.5526000261306763, 1.3559000492095947, 2.3329999446868896, 1.1690000295639038, 1.4716999530792236, 1.7532999515533447, 2.918600082397461, 2.917099952697754, 2.917099952697754, 2.915600061416626, 2.914599895477295, 2.914099931716919, 2.913599967956543, 2.9135000705718994, 2.9121999740600586, 2.9110000133514404, 2.9107000827789307, 2.910099983215332, 2.9082999229431152, 2.907599925994873, 2.906399965286255, 2.9056999683380127, 2.9052000045776367, 2.9035000801086426, 2.90339994430542, 2.9019999504089355, 2.9017999172210693, 2.9014999866485596, 2.901400089263916, 2.901099920272827, 2.901099920272827, 2.900399923324585, 2.900099992752075, 2.9000000953674316, 2.8987998962402344, 2.8984999656677246, 2.8847999572753906, 2.8612000942230225, 2.8824000358581543, 2.8252999782562256, 2.6619999408721924, 2.5810000896453857, 2.559000015258789, 2.8096001148223877, 2.4458999633789062, 2.0794999599456787, 2.235100030899048, 2.2822000980377197, 2.0397000312805176, 2.266900062561035, 0.7250999808311462, 2.4677999019622803, 1.77839994430542], \"logprob\": [30.0, 29.0, 28.0, 27.0, 26.0, 25.0, 24.0, 23.0, 22.0, 21.0, 20.0, 19.0, 18.0, 17.0, 16.0, 15.0, 14.0, 13.0, 12.0, 11.0, 10.0, 9.0, 8.0, 7.0, 6.0, 5.0, 4.0, 3.0, 2.0, 1.0, -4.428400039672852, -4.461999893188477, -4.654399871826172, -4.893199920654297, -4.8933000564575195, -4.990600109100342, -5.013000011444092, -5.055699825286865, -5.085599899291992, -5.1082000732421875, -5.136099815368652, -5.1645002365112305, -5.2677001953125, -5.291500091552734, -5.297999858856201, -5.37529993057251, -5.415500164031982, -5.426000118255615, -5.449100017547607, -5.490200042724609, -5.491600036621094, -5.573500156402588, -5.578999996185303, -5.581299781799316, -5.597700119018555, -5.604899883270264, -5.617400169372559, -5.645199775695801, -5.591800212860107, -5.6956000328063965, -4.822500228881836, -4.868100166320801, -5.130799770355225, -5.301199913024902, -4.820899963378906, -4.593100070953369, -5.145500183105469, -4.549300193786621, -4.663700103759766, -4.559899806976318, -5.171000003814697, -5.0335001945495605, -4.523099899291992, -4.5065999031066895, -4.57480001449585, -4.7657999992370605, -4.679699897766113, -4.756899833679199, -4.572000026702881, -4.764100074768066, -4.866700172424316, -4.873499870300293, -4.795599937438965, -5.065899848937988, -5.035900115966797, -5.048299789428711, -4.283199787139893, -4.72599983215332, -4.749800205230713, -4.831999778747559, -4.841899871826172, -4.863399982452393, -4.888299942016602, -4.935699939727783, -5.080100059509277, -5.154900074005127, -5.184700012207031, -5.218400001525879, -5.280200004577637, -5.3846001625061035, -5.405099868774414, -5.406000137329102, -5.442299842834473, -5.468400001525879, -5.514100074768066, -5.51669979095459, -5.548600196838379, -5.56820011138916, -5.646900177001953, -5.690899848937988, -5.7164998054504395, -5.74370002746582, -5.748000144958496, -5.752999782562256, -5.754000186920166, -5.776100158691406, -3.410599946975708, -4.867700099945068, -3.5041000843048096, -4.511499881744385, -3.814300060272217, -4.539899826049805, -5.242199897766113, -4.69350004196167, -5.187600135803223, -4.0802998542785645, -4.831399917602539, -5.347300052642822, -4.379000186920166, -4.504499912261963, -4.44320011138916, -5.086100101470947, -5.176599979400635, -5.202700138092041, -4.808899879455566, -4.99429988861084, -5.000100135803223, -4.9847002029418945, -4.932799816131592, -5.143400192260742, -5.099299907684326, -3.695199966430664, -3.890000104904175, -4.545599937438965, -4.704899787902832, -4.725900173187256, -4.755199909210205, -4.814300060272217, -4.942999839782715, -5.125999927520752, -5.162199974060059, -5.261199951171875, -5.278600215911865, -5.364699840545654, -5.135000228881836, -5.412799835205078, -5.4156999588012695, -5.431000232696533, -5.490699768066406, -5.497600078582764, -5.504799842834473, -5.510200023651123, -5.569900035858154, -5.570700168609619, -5.5742998123168945, -5.577199935913086, -5.619100093841553, -5.648099899291992, -5.697500228881836, -5.713500022888184, -5.747799873352051, -3.3097000122070312, -5.032599925994873, -5.069499969482422, -4.377999782562256, -4.956099987030029, -4.720200061798096, -4.5106000900268555, -4.718500137329102, -4.35129976272583, -4.831999778747559, -4.21150016784668, -4.636000156402588, -5.1066999435424805, -4.484600067138672, -5.165500164031982, -5.148799896240234, -4.952899932861328, -4.8769001960754395, -5.007599830627441, -5.0015997886657715, -5.040299892425537, -5.04449987411499, -2.5088000297546387, -4.098499774932861, -4.293700218200684, -4.386099815368652, -4.624000072479248, -4.666200160980225, -4.685500144958496, -4.870999813079834, -4.979800224304199, -4.997000217437744, -5.172399997711182, -5.17710018157959, -5.251500129699707, -5.281199932098389, -5.44980001449585, -5.5605998039245605, -5.597400188446045, -5.595900058746338, -5.6529998779296875, -5.689000129699707, -5.704899787902832, -5.737500190734863, -5.755300045013428, -5.759300231933594, -5.792500019073486, -5.798099994659424, -5.797699928283691, -5.807700157165527, -5.851900100708008, -5.862100124359131, -4.2006001472473145, -2.8668999671936035, -4.370999813079834, -5.041100025177002, -3.271899938583374, -5.289999961853027, -4.272299766540527, -5.120100021362305, -4.6321001052856445, -4.749199867248535, -5.316100120544434, -5.381400108337402, -4.562300205230713, -5.313199996948242, -5.3221001625061035, -5.197500228881836, -5.243100166320801, -5.218400001525879, -5.311500072479248, -4.271100044250488, -4.320700168609619, -4.465400218963623, -4.86269998550415, -4.873499870300293, -4.9120001792907715, -4.969299793243408, -5.011099815368652, -5.030099868774414, -5.068699836730957, -5.085599899291992, -5.2118000984191895, -5.219699859619141, -5.230400085449219, -5.272500038146973, -5.28380012512207, -5.31220006942749, -5.025899887084961, -5.334099769592285, -5.346499919891357, -5.395599842071533, -5.398499965667725, -5.48330020904541, -5.488399982452393, -5.488699913024902, -5.489200115203857, -5.537799835205078, -5.542500019073486, -5.541200160980225, -5.582699775695801, -3.8143999576568604, -4.987199783325195, -4.120100021362305, -5.116799831390381, -4.544000148773193, -4.912199974060059, -4.543099880218506, -5.06879997253418, -4.627099990844727, -4.4816999435424805, -4.4807000160217285, -5.061100006103516, -4.638199806213379, -4.317299842834473, -4.3460001945495605, -4.86929988861084, -5.046899795532227, -4.906799793243408, -4.966100215911865, -5.010000228881836, -2.9446001052856445, -3.267400026321411, -3.27839994430542, -3.420099973678589, -3.5632998943328857, -2.4486000537872314, -4.589000225067139, -4.677700042724609, -4.706399917602539, -4.662300109863281, -4.766600131988525, -4.915800094604492, -4.972300052642822, -5.016499996185303, -5.054599761962891, -5.116000175476074, -5.1996002197265625, -5.31820011138916, -5.323599815368652, -5.392199993133545, -5.40310001373291, -5.40939998626709, -5.457900047302246, -5.522200107574463, -5.536099910736084, -5.583700180053711, -5.652599811553955, -5.691400051116943, -5.688700199127197, -5.72730016708374, -2.7629001140594482, -4.015500068664551, -5.317399978637695, -3.9203999042510986, -4.810800075531006, -3.683000087738037, -5.361400127410889, -4.401800155639648, -4.142300128936768, -4.797999858856201, -4.573299884796143, -4.5625, -4.647200107574463, -4.607999801635742, -5.160999774932861, -4.735199928283691, -4.9268999099731445, -5.0366997718811035, -2.80430006980896, -3.5662999153137207, -3.5785999298095703, -4.007999897003174, -4.20359992980957, -3.8689000606536865, -4.264800071716309, -4.393799781799316, -4.575200080871582, -4.720900058746338, -4.7555999755859375, -4.81850004196167, -4.9882001876831055, -5.041100025177002, -5.136499881744385, -5.1844000816345215, -5.22130012512207, -5.333899974822998, -5.340400218963623, -5.423500061035156, -5.430099964141846, -5.448299884796143, -5.457099914550781, -5.465799808502197, -5.470600128173828, -5.5019001960754395, -5.5192999839782715, -5.529200077056885, -5.589399814605713, -5.599400043487549, -3.594099998474121, -2.5230000019073486, -4.800300121307373, -3.775099992752075, -2.9835000038146973, -3.5027999877929688, -3.77239990234375, -5.019400119781494, -4.376999855041504, -3.6080000400543213, -4.392300128936768, -4.545899868011475, -4.440499782562256, -4.6834001541137695, -4.117800235748291, -4.972599983215332, -4.787700176239014]}, \"token.table\": {\"Topic\": [1, 2, 3, 4, 5, 5, 1, 2, 5, 6, 1, 1, 5, 1, 5, 2, 1, 4, 6, 5, 1, 1, 2, 3, 4, 5, 6, 2, 5, 4, 6, 6, 7, 2, 1, 7, 6, 6, 2, 6, 1, 4, 5, 7, 6, 2, 7, 1, 5, 7, 1, 3, 7, 7, 1, 5, 5, 2, 2, 5, 4, 3, 2, 2, 4, 1, 2, 3, 5, 6, 1, 2, 3, 5, 1, 6, 1, 2, 2, 6, 3, 3, 5, 3, 1, 7, 1, 5, 3, 4, 4, 1, 2, 6, 2, 3, 6, 1, 7, 1, 3, 3, 4, 5, 6, 6, 5, 5, 7, 1, 3, 6, 5, 1, 4, 5, 7, 1, 2, 5, 4, 1, 2, 3, 5, 7, 7, 1, 2, 5, 7, 1, 7, 6, 1, 3, 1, 2, 3, 4, 5, 7, 1, 2, 5, 6, 1, 2, 3, 6, 6, 1, 3, 1, 4, 5, 7, 2, 4, 1, 7, 1, 4, 2, 4, 5, 3, 1, 4, 2, 3, 1, 1, 1, 1, 2, 7, 1, 3, 4, 5, 3, 4, 7, 5, 6, 1, 4, 6, 3, 7, 1, 4, 4, 7, 1, 2, 3, 4, 5, 1, 4, 7, 3, 3, 6, 2, 1, 2, 3, 4, 5, 1, 3, 4, 6, 2, 1, 2, 3, 4, 5, 1, 2, 3, 5, 6, 7, 1, 2, 3, 2, 2, 4, 1, 2, 3, 4, 2, 1, 4, 7, 1, 2, 3, 7, 5, 7, 5, 5, 4, 2, 5, 7, 1, 1, 6, 4, 1, 3, 4, 6, 5, 7, 2, 1, 2, 4, 5, 3, 2, 3, 4, 1, 1, 3, 3, 1, 2, 7, 6, 1, 2, 3, 5, 7, 1, 3, 4, 5, 1, 3, 6, 7, 3, 5, 1, 2, 6, 6, 1, 3, 4, 3, 4, 2, 7, 1, 4, 7, 4, 3, 7, 1, 3, 5, 6, 3, 2, 7, 1, 5, 5, 6, 4, 3, 5, 1, 4, 5, 4, 2, 6, 6, 1, 2, 7, 1, 6, 1, 2, 4, 6, 2, 4, 5, 3, 1, 3, 5, 6, 7, 1, 7, 3, 1, 2, 3, 5, 1, 6, 3, 1, 4, 4, 1, 3, 1, 6, 1, 7, 1, 2, 6, 7, 6, 6, 1, 3, 5, 2, 1, 2, 3, 5, 1, 3, 4, 5, 6, 7, 2, 3, 6, 6, 1, 2, 4, 6, 4, 2, 5, 3, 5, 7, 6, 1, 6, 7, 2, 3, 1, 3, 4, 5, 4, 3, 3, 4, 6, 1, 3, 7, 1, 2, 4, 7, 5, 2, 7, 2, 4, 3, 4, 1, 3, 5, 6, 4, 3, 2, 4, 5, 7, 1, 5, 4, 1, 3, 4, 5, 6, 1, 5, 3, 3, 2, 7, 7, 3, 1, 2, 3, 4, 6, 1, 1, 4, 6, 6, 1, 3, 1, 2, 4, 2, 3, 4, 4, 4, 5, 5, 2, 4, 5, 1, 2, 5, 5, 1, 7, 7, 1, 6, 6, 1, 2, 4, 5, 1, 3, 6, 1, 5, 6, 7, 4, 5, 5, 5, 2, 3, 5, 2, 3, 5, 6, 1, 2, 4, 5, 2, 3, 5, 3, 5, 4, 1, 2, 3, 1, 5, 5, 7, 5, 1, 2, 3, 4, 5, 7, 7, 7, 5, 3, 5, 1, 1, 2, 3, 5, 6, 2, 2, 1, 2, 5, 3, 4, 1, 4, 6, 2, 1, 2, 4, 2, 1, 2, 4, 7, 2, 2, 3, 3, 4, 2, 1, 1, 2, 4, 3, 2, 3, 5, 6, 1, 2, 1, 4, 5, 1, 6, 7, 7, 3, 2, 5], \"Freq\": [0.21513134241104126, 0.1283656656742096, 0.33279985189437866, 0.29714274406433105, 0.026148561388254166, 0.9869776368141174, 0.08947937190532684, 0.20055721700191498, 0.42271289229393005, 0.28695109486579895, 0.9991247653961182, 0.997871458530426, 0.9970383644104004, 0.9436337351799011, 0.05454530194401741, 0.9981811046600342, 0.9984591603279114, 0.9963483810424805, 0.9817546010017395, 0.9875312447547913, 0.9978923201560974, 0.4049125015735626, 0.03488476946949959, 0.12708023190498352, 0.1171131581068039, 0.3089793920516968, 0.006229423452168703, 0.996080219745636, 0.9978206753730774, 0.9980627298355103, 0.0015346941072493792, 0.98125821352005, 0.9951202273368835, 0.9965105056762695, 0.9928277134895325, 0.005280998535454273, 0.9983872175216675, 0.9840373396873474, 0.9969118237495422, 0.9741793870925903, 0.22921311855316162, 0.7109851241111755, 0.038202185183763504, 0.021223437041044235, 0.9913572669029236, 0.9920803308486938, 0.9776157736778259, 0.28768736124038696, 0.08960754424333572, 0.6225365996360779, 0.05230517312884331, 0.1743505746126175, 0.7729542255401611, 0.9811033606529236, 0.1265174299478531, 0.870737612247467, 0.9949712157249451, 0.9930459260940552, 0.9940635561943054, 0.9890604615211487, 0.9901826977729797, 0.9927023649215698, 0.9954279065132141, 0.9967511892318726, 0.9933534264564514, 0.04563630744814873, 0.8840404748916626, 0.032597362995147705, 0.03390125557780266, 0.003911683335900307, 0.4036085307598114, 0.5921797156333923, 0.9868620038032532, 0.9869740605354309, 0.09389857947826385, 0.9037737846374512, 0.9989112019538879, 0.9931058287620544, 0.991462767124176, 0.9943243265151978, 0.996212363243103, 0.9372225403785706, 0.060078367590904236, 0.9923317432403564, 0.9974240660667419, 0.9899411797523499, 0.14671146869659424, 0.8520550727844238, 0.9950891733169556, 0.9866670370101929, 0.9987801909446716, 0.2652990520000458, 0.7305335998535156, 0.9767722487449646, 0.7876717448234558, 0.21276190876960754, 0.99791419506073, 0.03342927247285843, 0.958305835723877, 0.216119647026062, 0.7815489172935486, 0.04359683394432068, 0.779293417930603, 0.16893774271011353, 0.9882055521011353, 0.9932190179824829, 0.9880707859992981, 0.9937695264816284, 0.9955087900161743, 0.22143998742103577, 0.09226666390895844, 0.6735466122627258, 0.9898282885551453, 0.3035663664340973, 0.034425053745508194, 0.6572055816650391, 0.0031295502558350563, 0.4700004756450653, 0.06677602231502533, 0.4622955620288849, 0.9920867681503296, 0.8698492050170898, 0.1288665533065796, 0.15959563851356506, 0.8409463167190552, 0.9904268980026245, 0.9763524532318115, 0.9951461553573608, 0.9939700365066528, 0.004531551152467728, 0.9924097061157227, 0.9986118674278259, 0.9820014238357544, 0.9987272024154663, 0.8546356558799744, 0.14471465349197388, 0.5061103105545044, 0.001150250667706132, 0.19209185242652893, 0.024155262857675552, 0.27721041440963745, 0.9975575804710388, 0.8632749319076538, 0.020282523706555367, 0.11155388504266739, 0.005070630926638842, 0.6191542148590088, 0.03387469798326492, 0.1354987919330597, 0.21077589690685272, 0.9809123873710632, 0.9979292154312134, 0.9861426949501038, 0.18488742411136627, 0.13273967802524567, 0.15170249342918396, 0.526218056678772, 0.9939164519309998, 0.9917075037956238, 0.47677335143089294, 0.5196293592453003, 0.9837594628334045, 0.01588844321668148, 0.004213565029203892, 0.16011546552181244, 0.8300723433494568, 0.9886705279350281, 0.6427489519119263, 0.356190025806427, 0.9880672693252563, 0.9916611313819885, 0.9968151450157166, 0.9964190125465393, 0.9965798854827881, 0.9958578944206238, 0.002720923162996769, 0.9895937442779541, 0.04513269290328026, 0.12411490082740784, 0.08274326473474503, 0.744689404964447, 0.11368760466575623, 0.24486561119556427, 0.6383996605873108, 0.0582549013197422, 0.9402341246604919, 0.8772857785224915, 0.11117423325777054, 0.01100734993815422, 0.0868300274014473, 0.909827709197998, 0.8982686400413513, 0.10060608386993408, 0.8882331252098083, 0.11135473847389221, 0.04428853839635849, 0.03298082575201988, 0.05182701349258423, 0.8575015068054199, 0.013192330487072468, 0.9975579380989075, 0.3000257611274719, 0.6981368660926819, 0.9961131811141968, 0.9937517046928406, 0.9921988248825073, 0.986846923828125, 0.2594819962978363, 0.44917231798171997, 0.050106871873140335, 0.23263904452323914, 0.00894765555858612, 0.83560711145401, 0.018047669902443886, 0.01263336930423975, 0.13355275988578796, 0.9929929375648499, 0.22419019043445587, 0.5422274470329285, 0.054744116961956024, 0.15380489826202393, 0.020854901522397995, 0.2121487855911255, 0.5079618692398071, 0.23904089629650116, 0.008964033797383308, 0.0014940055552870035, 0.029880112037062645, 0.10677182674407959, 0.8334134221076965, 0.059317681938409805, 0.9976381659507751, 0.04310890659689903, 0.9545543193817139, 0.05057993903756142, 0.9497788548469543, 0.732689380645752, 0.26522693037986755, 0.9911606311798096, 0.9991756081581116, 0.9844699501991272, 0.985612690448761, 0.0010005398653447628, 0.9244987964630127, 0.07303940504789352, 0.0010005398653447628, 0.03343600779771805, 0.9663006067276001, 0.9894253015518188, 0.9873358607292175, 0.988266110420227, 0.9557729363441467, 0.04104546085000038, 0.993522047996521, 0.9980964660644531, 0.6261330246925354, 0.3737752139568329, 0.993901252746582, 0.8717347979545593, 0.017273476347327232, 0.10364086180925369, 0.006909390911459923, 0.9655529260635376, 0.030411114916205406, 0.994683027267456, 0.9973876476287842, 0.9900279641151428, 0.06657028943300247, 0.9236627817153931, 0.9944077134132385, 0.24870698153972626, 0.6924782395362854, 0.05851928889751434, 0.9979569911956787, 0.9964816570281982, 0.003372188424691558, 0.9879152178764343, 0.9946049451828003, 0.004583432804793119, 0.9748210310935974, 0.9935141205787659, 0.6609030961990356, 0.041498567909002304, 0.2459174394607544, 0.01536983996629715, 0.035350631922483444, 0.002675281371921301, 0.02942809648811817, 0.9604260325431824, 0.005350562743842602, 0.07071605324745178, 0.7071605324745178, 0.1037168800830841, 0.1178600937128067, 0.9098097681999207, 0.08937425166368484, 0.5376306176185608, 0.41206932067871094, 0.04908305034041405, 0.9932396411895752, 0.8102291822433472, 0.1280994713306427, 0.06084725260734558, 0.3770618736743927, 0.6179625391960144, 0.915602445602417, 0.08095265924930573, 0.5524083971977234, 0.030131367966532707, 0.41514328122138977, 0.998030424118042, 0.9931814670562744, 0.9770538210868835, 0.5619231462478638, 0.3096311390399933, 0.12614601850509644, 0.9926148653030396, 0.9962063431739807, 0.9680531620979309, 0.028713440522551537, 0.9962136149406433, 0.9920682907104492, 0.7157515287399292, 0.2831544578075409, 0.9883580803871155, 0.9932616949081421, 0.9867358207702637, 0.8697831034660339, 0.04824470728635788, 0.08132679015398026, 0.9961490631103516, 0.04505468159914017, 0.9461483359336853, 0.9959973692893982, 0.40127912163734436, 0.2772473990917206, 0.32102328538894653, 0.1158895269036293, 0.8691715002059937, 0.5669894814491272, 0.030824797227978706, 0.10181523859500885, 0.30077528953552246, 0.9940240383148193, 0.9939823150634766, 0.9962198138237, 0.9960159659385681, 0.2322031408548355, 0.6664531826972961, 0.05428125336766243, 0.030156251043081284, 0.015078125521540642, 0.9913766980171204, 0.008373113349080086, 0.9942248463630676, 0.17316368222236633, 0.3380814790725708, 0.1319342404603958, 0.35457324981689453, 0.005394150502979755, 0.9943217039108276, 0.9959325790405273, 0.9980679154396057, 0.9956971406936646, 0.9944267272949219, 0.9981750845909119, 0.9912661910057068, 0.9990202188491821, 0.9947253465652466, 0.9982340931892395, 0.9764272570610046, 0.5181873440742493, 0.013636508956551552, 0.03636402264237404, 0.4318227767944336, 0.9922473430633545, 0.9931085109710693, 0.22311054170131683, 0.2344551533460617, 0.5407594442367554, 0.9942901730537415, 0.005800638347864151, 0.08120893687009811, 0.30163317918777466, 0.6090670228004456, 0.943812906742096, 0.0513371042907238, 0.003949007950723171, 0.19925475120544434, 0.7970190048217773, 0.9839664697647095, 0.2236912101507187, 0.4970915913581848, 0.2775427997112274, 0.9807221293449402, 0.6013394594192505, 0.07972303777933121, 0.01822240836918354, 0.30066972970962524, 0.9889038801193237, 0.9899484515190125, 0.9936076998710632, 0.9891764521598816, 0.9930413365364075, 0.9948297739028931, 0.9972652792930603, 0.9991610646247864, 0.9939882159233093, 0.9961948394775391, 0.934931218624115, 0.05763274431228638, 0.2410885989665985, 0.024656787514686584, 0.6383368372917175, 0.09314786642789841, 0.9961537718772888, 0.9963105320930481, 0.06475110352039337, 0.9342659711837769, 0.9937412142753601, 0.33569493889808655, 0.6621927618980408, 0.9899764060974121, 0.30641505122184753, 0.038786716759204865, 0.14738953113555908, 0.504227340221405, 0.9950250387191772, 0.0902925655245781, 0.8900266885757446, 0.93757563829422, 0.061889227479696274, 0.9902971386909485, 0.9948723912239075, 0.11161977797746658, 0.5973166227340698, 0.28960806131362915, 0.9934802055358887, 0.9878730773925781, 0.9902034401893616, 0.1712832748889923, 0.7485713362693787, 0.08246972411870956, 0.9718138575553894, 0.987684428691864, 0.011538369581103325, 0.9917090535163879, 0.10173794627189636, 0.1292346864938736, 0.05774315819144249, 0.013748371042311192, 0.6984172463417053, 0.2807880640029907, 0.7109314799308777, 0.9984921216964722, 0.9860672950744629, 0.9946542382240295, 0.9959741234779358, 0.9872695803642273, 0.989954948425293, 0.23091131448745728, 0.07089382410049438, 0.37269896268844604, 0.11950673162937164, 0.205592080950737, 0.9979090094566345, 0.6671773195266724, 0.07790393382310867, 0.2556847035884857, 0.975082278251648, 0.9963212609291077, 0.9987401366233826, 0.3068860173225403, 0.11438478529453278, 0.5802935361862183, 0.12457793951034546, 0.8720455765724182, 0.9900635480880737, 0.9914684295654297, 0.9856016635894775, 0.9952462911605835, 0.9896368384361267, 0.15607570111751556, 0.007094349712133408, 0.8371332883834839, 0.9408985376358032, 0.05698741227388382, 0.0012124981731176376, 0.9941304922103882, 0.28603821992874146, 0.7117171287536621, 0.972488522529602, 0.616066575050354, 0.37876683473587036, 0.9811387062072754, 0.4601663053035736, 0.16223812103271484, 0.37462255358695984, 0.9916775822639465, 0.37180158495903015, 0.31615781784057617, 0.3110992908477783, 0.061550572514534, 0.9346568584442139, 0.004559301771223545, 0.988593578338623, 0.9914454221725464, 0.990604817867279, 0.9910969734191895, 0.9919335246086121, 0.3277098536491394, 0.4819262623786926, 0.18726277351379395, 0.3668346703052521, 0.5589861869812012, 0.06812644004821777, 0.005240495316684246, 0.6484502553939819, 0.25660598278045654, 0.009247062727808952, 0.08553533256053925, 0.5378247499465942, 0.13770392537117004, 0.3221752345561981, 0.9508413672447205, 0.04695512726902962, 0.9889916181564331, 0.1939515620470047, 0.16083787381649017, 0.6457167863845825, 0.9956412315368652, 0.9925110340118408, 0.9886512160301208, 0.9984726905822754, 0.9960874319076538, 0.9985920786857605, 0.392788827419281, 0.4126768708229065, 0.00994402077049017, 0.17153435945510864, 0.012430026195943356, 0.9916501641273499, 0.996176540851593, 0.995006799697876, 0.9973530173301697, 0.9970415830612183, 0.9987751245498657, 0.7614061832427979, 0.060642968863248825, 0.009433350525796413, 0.10107161849737167, 0.06603345274925232, 0.9981198310852051, 0.9868801236152649, 0.6747584342956543, 0.2659425139427185, 0.05941269174218178, 0.21215982735157013, 0.777919352054596, 0.3823101818561554, 0.6127437353134155, 0.9968426823616028, 0.9957934617996216, 0.1854514479637146, 0.8113501071929932, 0.9950389266014099, 0.9968035221099854, 0.5051002502441406, 0.49356240034103394, 0.9912707209587097, 0.988041877746582, 0.9961431622505188, 0.9164148569107056, 0.07991989701986313, 0.04709487035870552, 0.9497465491294861, 0.9879658222198486, 0.997984766960144, 0.9614306092262268, 0.03688942641019821, 0.9978770017623901, 0.9927234649658203, 0.27955180406570435, 0.05506323650479317, 0.21178168058395386, 0.44474151730537415, 0.31925439834594727, 0.680378258228302, 0.9088990092277527, 0.04260464012622833, 0.047338489443063736, 0.9967025518417358, 0.05594048276543617, 0.9431565403938293, 0.9865306615829468, 0.9883370995521545, 0.7749812006950378, 0.22011299431324005], \"Term\": [\"about\", \"about\", \"about\", \"about\", \"about\", \"afraid\", \"after\", \"after\", \"after\", \"after\", \"again\", \"alon\", \"alright\", \"alway\", \"alway\", \"angel\", \"anoth\", \"anyth\", \"anytim\", \"anyway\", \"arm\", \"around\", \"around\", \"around\", \"around\", \"around\", \"around\", \"ask\", \"babe\", \"babi\", \"babi\", \"ball\", \"beauti\", \"becaus\", \"befor\", \"befor\", \"believ\", \"believ_believ\", \"bell\", \"betray\", \"better\", \"better\", \"better\", \"better\", \"billi\", \"black\", \"bleed\", \"blow\", \"blow\", \"blow\", \"blue\", \"blue\", \"blue\", \"bobbi\", \"bodi\", \"bodi\", \"bone\", \"born\", \"both\", \"bound\", \"bout\", \"bright\", \"bring\", \"broken\", \"brother\", \"call\", \"call\", \"call\", \"call\", \"call\", \"came\", \"came\", \"catch\", \"chain\", \"chanc\", \"chanc\", \"chang\", \"child\", \"children\", \"choru\", \"christma\", \"citi\", \"citi\", \"clear\", \"close\", \"closer\", \"cold\", \"cold\", \"countri\", \"cowboy\", \"crazi\", \"cri\", \"cri\", \"crime\", \"daddi\", \"daddi\", \"danc\", \"danger\", \"danger\", \"day\", \"day\", \"dead\", \"dead\", \"dead\", \"deep_insid\", \"deni\", \"diamond\", \"differ\", \"dixi\", \"doesn\", \"doesn\", \"doesn\", \"doin\", \"done\", \"done\", \"done\", \"done\", \"door\", \"door\", \"door\", \"downtown\", \"dream\", \"dream\", \"drink\", \"drink\", \"driver\", \"drivin\", \"each\", \"earth\", \"easi\", \"easi\", \"els\", \"engin\", \"enough\", \"ever\", \"ever\", \"everi\", \"everi\", \"everi\", \"everi\", \"everi\", \"everybodi\", \"eye\", \"eye\", \"eye\", \"eye\", \"face\", \"face\", \"face\", \"face\", \"fade_away\", \"fall\", \"fallin\", \"fast\", \"fast\", \"fast\", \"fast\", \"fell\", \"fever\", \"fill\", \"fill\", \"find\", \"find\", \"fine\", \"fine\", \"fine\", \"finger\", \"fire\", \"fire\", \"flame\", \"flesh\", \"fool\", \"forev\", \"forget\", \"found\", \"found\", \"front\", \"get\", \"get\", \"get\", \"get\", \"gettin\", \"gettin\", \"gettin\", \"girl\", \"girl\", \"give\", \"give\", \"give\", \"goin\", \"goin\", \"gone\", \"gone\", \"gonna\", \"gonna\", \"good\", \"good\", \"good\", \"good\", \"good\", \"goodby\", \"gotta\", \"gotta\", \"green\", \"guitar\", \"gun\", \"half\", \"hand\", \"hand\", \"hand\", \"hand\", \"hand\", \"hard\", \"hard\", \"hard\", \"hard\", \"hate\", \"head\", \"head\", \"head\", \"head\", \"head\", \"hear\", \"hear\", \"hear\", \"hear\", \"hear\", \"hear\", \"heard\", \"heard\", \"heard\", \"heaven\", \"hell\", \"hell\", \"help\", \"help\", \"high\", \"high\", \"hill\", \"hold\", \"hole\", \"hollywood\", \"home\", \"home\", \"home\", \"home\", \"honey\", \"honey\", \"honki\", \"honki_tonk\", \"hors\", \"hous\", \"hous\", \"hurri\", \"hurt\", \"insid\", \"insid\", \"jesu\", \"keep\", \"keep\", \"keep\", \"keep\", \"kill\", \"kill\", \"king\", \"kiss\", \"knee\", \"knock\", \"knock\", \"ladi\", \"land\", \"land\", \"land\", \"late\", \"leav\", \"leav\", \"leavin\", \"left\", \"left\", \"legend\", \"letter\", \"light\", \"light\", \"light\", \"light\", \"light\", \"line\", \"line\", \"line\", \"line\", \"listen\", \"listen\", \"listen\", \"listen\", \"littl\", \"littl\", \"live\", \"live\", \"live\", \"livin\", \"long\", \"long\", \"long\", \"lookin\", \"lookin\", \"lord\", \"lord\", \"lose\", \"lose\", \"lose\", \"lovin\", \"luck\", \"lyin\", \"made\", \"made\", \"made\", \"magic\", \"makin\", \"mama\", \"mama\", \"mani\", \"mari\", \"matter\", \"matter\", \"medicin\", \"melodi\", \"million\", \"mind\", \"mind\", \"mind\", \"mirror\", \"mistak\", \"mistak\", \"mood\", \"moon\", \"moon\", \"moon\", \"moonlight\", \"moonlight\", \"more\", \"more\", \"more\", \"more\", \"more_than\", \"mornin\", \"most\", \"mountain\", \"move\", \"move\", \"move\", \"move\", \"move\", \"much\", \"much\", \"music\", \"name\", \"name\", \"name\", \"name\", \"need\", \"need\", \"nice\", \"noth\", \"nothin\", \"nowher\", \"onc\", \"one\", \"onli\", \"ordinari\", \"other\", \"ought\", \"over\", \"over\", \"over\", \"over\", \"paint\", \"parti\", \"pass\", \"pass\", \"pass\", \"peac\", \"peopl\", \"peopl\", \"peopl\", \"peopl\", \"place\", \"place\", \"place\", \"plan\", \"plan\", \"plane\", \"play\", \"play\", \"play\", \"playin\", \"pleas\", \"pleas\", \"pleas\", \"pleas\", \"point\", \"queen\", \"quit\", \"radio\", \"read\", \"readi\", \"realli\", \"rememb\", \"repeat\", \"ride\", \"ring\", \"ring\", \"road\", \"road\", \"road\", \"road\", \"rock\", \"rock_roll\", \"roll\", \"roll\", \"romanc\", \"room\", \"room\", \"rose\", \"round\", \"round\", \"round\", \"round\", \"run\", \"rush\", \"rush\", \"said\", \"said\", \"sang\", \"save\", \"seen\", \"seen\", \"seen\", \"send\", \"shake\", \"shall\", \"shoe\", \"shoe\", \"shoe\", \"shoot\", \"should\", \"should\", \"shout\", \"show\", \"show\", \"show\", \"show\", \"show\", \"sign\", \"sign\", \"sing\", \"sing_song\", \"sleep\", \"slow\", \"slow_down\", \"snow\", \"some\", \"some\", \"some\", \"some\", \"some\", \"someon\", \"someth\", \"someth\", \"someth\", \"someth_insid\", \"sometim\", \"song\", \"soul\", \"soul\", \"soul\", \"sound\", \"sound\", \"south\", \"speak\", \"spin\", \"spring\", \"steel\", \"step\", \"step\", \"step\", \"still\", \"still\", \"still\", \"stone\", \"stop\", \"stop\", \"stop_stop\", \"strong\", \"strong\", \"strong_enough\", \"sure\", \"sure\", \"sure\", \"surviv\", \"sweet\", \"sweet\", \"sweet\", \"talk\", \"talk\", \"talk\", \"talk_about\", \"talkin\", \"tast\", \"thank\", \"thee\", \"their\", \"their\", \"their\", \"them\", \"them\", \"them\", \"them\", \"then\", \"then\", \"then\", \"then\", \"these\", \"these\", \"these\", \"think_about\", \"think_about\", \"thinkin\", \"those\", \"those\", \"those\", \"though\", \"thrill\", \"tire\", \"tonight\", \"tonk\", \"touch\", \"town\", \"town\", \"town\", \"town\", \"town\", \"track\", \"train\", \"treat\", \"tree\", \"trip\", \"true\", \"turn\", \"turn\", \"turn\", \"turn\", \"turn\", \"voic\", \"wake\", \"walk\", \"walk\", \"walk\", \"walkin\", \"walkin\", \"wall\", \"wall\", \"wanna\", \"wasn\", \"watch\", \"watch\", \"water\", \"went\", \"were\", \"were\", \"wheel\", \"whistl\", \"whoa\", \"whole\", \"whole\", \"wild\", \"wild\", \"wing\", \"wish\", \"without\", \"without\", \"woman\", \"women\", \"work\", \"work\", \"work\", \"work\", \"world\", \"world\", \"would\", \"would\", \"would\", \"wrong\", \"yeah\", \"yeah\", \"yeah_yeah\", \"york\", \"young\", \"young\"]}, \"R\": 30, \"lambda.step\": 0.01, \"plot.opts\": {\"xlab\": \"PC1\", \"ylab\": \"PC2\"}, \"topic.order\": [6, 4, 1, 5, 7, 3, 2]};\n",
       "\n",
       "function LDAvis_load_lib(url, callback){\n",
       "  var s = document.createElement('script');\n",
       "  s.src = url;\n",
       "  s.async = true;\n",
       "  s.onreadystatechange = s.onload = callback;\n",
       "  s.onerror = function(){console.warn(\"failed to load library \" + url);};\n",
       "  document.getElementsByTagName(\"head\")[0].appendChild(s);\n",
       "}\n",
       "\n",
       "if(typeof(LDAvis) !== \"undefined\"){\n",
       "   // already loaded: just create the visualization\n",
       "   !function(LDAvis){\n",
       "       new LDAvis(\"#\" + \"ldavis_el7828449151247686938915272\", ldavis_el7828449151247686938915272_data);\n",
       "   }(LDAvis);\n",
       "}else if(typeof define === \"function\" && define.amd){\n",
       "   // require.js is available: use it to load d3/LDAvis\n",
       "   require.config({paths: {d3: \"https://cdnjs.cloudflare.com/ajax/libs/d3/3.5.5/d3.min\"}});\n",
       "   require([\"d3\"], function(d3){\n",
       "      window.d3 = d3;\n",
       "      LDAvis_load_lib(\"https://cdn.rawgit.com/bmabey/pyLDAvis/files/ldavis.v1.0.0.js\", function(){\n",
       "        new LDAvis(\"#\" + \"ldavis_el7828449151247686938915272\", ldavis_el7828449151247686938915272_data);\n",
       "      });\n",
       "    });\n",
       "}else{\n",
       "    // require.js not available: dynamically load d3 & LDAvis\n",
       "    LDAvis_load_lib(\"https://cdnjs.cloudflare.com/ajax/libs/d3/3.5.5/d3.min.js\", function(){\n",
       "         LDAvis_load_lib(\"https://cdn.rawgit.com/bmabey/pyLDAvis/files/ldavis.v1.0.0.js\", function(){\n",
       "                 new LDAvis(\"#\" + \"ldavis_el7828449151247686938915272\", ldavis_el7828449151247686938915272_data);\n",
       "            })\n",
       "         });\n",
       "}\n",
       "</script>"
      ],
      "text/plain": [
       "PreparedData(topic_coordinates=               x          y  topics  cluster       Freq\n",
       "topic                                                  \n",
       "5     -24.740992 -65.396896       1        1  37.680820\n",
       "3     -53.019955 -38.865177       2        1  15.780822\n",
       "0     -44.182125  -1.109381       3        1  12.728980\n",
       "4      -7.063179  10.116592       4        1  12.311082\n",
       "6      21.216324 -16.414785       5        1   9.536865\n",
       "2     -15.902141 -27.640707       6        1   6.567929\n",
       "1      12.375019 -54.171909       7        1   5.393509, topic_info=     Category         Freq       Term        Total  loglift  logprob\n",
       "term                                                                \n",
       "98    Default  1954.000000       babi  1954.000000  30.0000  30.0000\n",
       "343   Default  1112.000000       need  1112.000000  29.0000  29.0000\n",
       "166   Default  1535.000000      gonna  1535.000000  28.0000  28.0000\n",
       "131   Default   893.000000       yeah   893.000000  27.0000  27.0000\n",
       "11    Default   858.000000       girl   858.000000  26.0000  26.0000\n",
       "33    Default   636.000000    tonight   636.000000  25.0000  25.0000\n",
       "1     Default   674.000000     believ   674.000000  24.0000  24.0000\n",
       "111   Default   995.000000      littl   995.000000  23.0000  23.0000\n",
       "180   Default  1082.000000       said  1082.000000  22.0000  22.0000\n",
       "200   Default   688.000000       blue   688.000000  21.0000  21.0000\n",
       "233   Default  1061.000000       good  1061.000000  20.0000  20.0000\n",
       "169   Default   999.000000       home   999.000000  19.0000  19.0000\n",
       "242   Default  1070.000000       more  1070.000000  18.0000  18.0000\n",
       "90    Default   488.000000     realli   488.000000  17.0000  17.0000\n",
       "337   Default   483.000000       danc   483.000000  16.0000  16.0000\n",
       "117   Default   659.000000       over   659.000000  15.0000  15.0000\n",
       "543   Default   616.000000       song   616.000000  14.0000  14.0000\n",
       "31    Default   443.000000       stop   443.000000  13.0000  13.0000\n",
       "350   Default   419.000000      wanna   419.000000  12.0000  12.0000\n",
       "409   Default   507.000000       sing   507.000000  11.0000  11.0000\n",
       "99    Default   766.000000       call   766.000000  10.0000  10.0000\n",
       "88    Default   363.000000     enough   363.000000   9.0000   9.0000\n",
       "124   Default   438.000000       talk   438.000000   8.0000   8.0000\n",
       "302   Default   764.000000      world   764.000000   7.0000   7.0000\n",
       "30    Default   987.000000       some   987.000000   6.0000   6.0000\n",
       "469   Default   297.000000  everybodi   297.000000   5.0000   5.0000\n",
       "140   Default   294.000000       ride   294.000000   4.0000   4.0000\n",
       "1154  Default   299.000000      honey   299.000000   3.0000   3.0000\n",
       "42    Default   876.000000      again   876.000000   2.0000   2.0000\n",
       "129   Default   398.000000      woman   398.000000   1.0000   1.0000\n",
       "...       ...          ...        ...          ...      ...      ...\n",
       "1855   Topic7    50.692364      front    51.536301   2.9035  -5.3339\n",
       "1486   Topic7    50.366962     drivin    51.211014   2.9034  -5.3404\n",
       "2413   Topic7    46.346626     legend    47.188148   2.9020  -5.4235\n",
       "2585   Topic7    46.041759      bobbi    46.885986   2.9018  -5.4301\n",
       "2359   Topic7    45.213551       lyin    46.056828   2.9015  -5.4483\n",
       "854    Topic7    44.815025  hollywood    45.656879   2.9014  -5.4571\n",
       "748    Topic7    44.428928      shoot    45.276161   2.9011  -5.4658\n",
       "890    Topic7    44.218033      ought    45.062241   2.9011  -5.4706\n",
       "1676   Topic7    42.854763      plane    43.700676   2.9004  -5.5019\n",
       "1004   Topic7    42.115417      bleed    42.961662   2.9001  -5.5193\n",
       "2748   Topic7    41.699192  slow_down    42.541573   2.9000  -5.5292\n",
       "705    Topic7    39.262096  stop_stop    40.103302   2.8988  -5.5894\n",
       "1800   Topic7    38.871792      engin    39.714809   2.8985  -5.5994\n",
       "1154   Topic7   288.752106      honey   299.078766   2.8848  -3.5941\n",
       "131    Topic7   842.775024       yeah   893.807068   2.8612  -2.5230\n",
       "158    Topic7    86.432800     danger    89.741707   2.8824  -4.8003\n",
       "165    Topic7   240.949966       goin   264.885315   2.8253  -3.7751\n",
       "200    Topic7   531.763794       blue   688.268433   2.6620  -2.9835\n",
       "31     Topic7   316.348572       stop   443.996613   2.5810  -3.5028\n",
       "422    Topic7   241.608490      gotta   346.636902   2.5590  -3.7724\n",
       "1640   Topic7    69.424416       rush    77.525764   2.8096  -5.0194\n",
       "306    Topic7   131.983215       blow   212.035721   2.4459  -4.3770\n",
       "117    Topic7   284.783081       over   659.992981   2.0795  -3.6080\n",
       "300    Topic7   129.982941      round   257.820221   2.2351  -4.3923\n",
       "138    Topic7   111.474869       fast   210.939178   2.2822  -4.5459\n",
       "173    Topic7   123.859337       lose   298.692047   2.0397  -4.4405\n",
       "695    Topic7    97.150154       fill   186.671509   2.2669  -4.6834\n",
       "166    Topic7   171.035507      gonna  1535.632935   0.7251  -4.1178\n",
       "882    Topic7    72.751495     gettin   114.348434   2.4678  -4.9726\n",
       "175    Topic7    87.529320       moon   274.123413   1.7784  -4.7877\n",
       "\n",
       "[387 rows x 6 columns], token_table=      Topic      Freq       Term\n",
       "term                            \n",
       "41        1  0.215131      about\n",
       "41        2  0.128366      about\n",
       "41        3  0.332800      about\n",
       "41        4  0.297143      about\n",
       "41        5  0.026149      about\n",
       "975       5  0.986978     afraid\n",
       "86        1  0.089479      after\n",
       "86        2  0.200557      after\n",
       "86        5  0.422713      after\n",
       "86        6  0.286951      after\n",
       "42        1  0.999125      again\n",
       "303       1  0.997871       alon\n",
       "95        5  0.997038    alright\n",
       "259       1  0.943634      alway\n",
       "259       5  0.054545      alway\n",
       "96        2  0.998181      angel\n",
       "43        1  0.998459      anoth\n",
       "789       4  0.996348      anyth\n",
       "1063      6  0.981755     anytim\n",
       "506       5  0.987531     anyway\n",
       "190       1  0.997892        arm\n",
       "221       1  0.404913     around\n",
       "221       2  0.034885     around\n",
       "221       3  0.127080     around\n",
       "221       4  0.117113     around\n",
       "221       5  0.308979     around\n",
       "221       6  0.006229     around\n",
       "365       2  0.996080        ask\n",
       "507       5  0.997821       babe\n",
       "98        4  0.998063       babi\n",
       "...     ...       ...        ...\n",
       "630       2  0.493562       were\n",
       "330       4  0.991271      wheel\n",
       "1168      7  0.988042     whistl\n",
       "438       2  0.996143       whoa\n",
       "547       2  0.916415      whole\n",
       "547       3  0.079920      whole\n",
       "731       3  0.047095       wild\n",
       "731       4  0.949747       wild\n",
       "1082      2  0.987966       wing\n",
       "189       1  0.997985       wish\n",
       "764       1  0.961431    without\n",
       "764       2  0.036889    without\n",
       "129       4  0.997877      woman\n",
       "384       3  0.992723      women\n",
       "494       2  0.279552       work\n",
       "494       3  0.055063       work\n",
       "494       5  0.211782       work\n",
       "494       6  0.444742       work\n",
       "302       1  0.319254      world\n",
       "302       2  0.680378      world\n",
       "40        1  0.908899      would\n",
       "40        4  0.042605      would\n",
       "40        5  0.047338      would\n",
       "732       1  0.996703      wrong\n",
       "131       6  0.055940       yeah\n",
       "131       7  0.943157       yeah\n",
       "132       7  0.986531  yeah_yeah\n",
       "968       3  0.988337       york\n",
       "219       2  0.774981      young\n",
       "219       5  0.220113      young\n",
       "\n",
       "[598 rows x 3 columns], R=30, lambda_step=0.01, plot_opts={'xlab': 'PC1', 'ylab': 'PC2'}, topic_order=[6, 4, 1, 5, 7, 3, 2])"
      ]
     },
     "execution_count": 53,
     "metadata": {},
     "output_type": "execute_result"
    }
   ],
   "source": [
    "# Fit LDA model and visualize the topics with pyLDAvis.\n",
    "num_topics = 7\n",
    "chunksize = 200\n",
    "passes = 20\n",
    "iterations = 400\n",
    "eval_every = 1\n",
    "\n",
    "# Make an index to word dictionary.\n",
    "temp = dictionary[0]  # can ignore \n",
    "id2word = dictionary.id2token\n",
    "\n",
    "model = LdaModel(corpus=corpus, id2word=id2word, chunksize=chunksize,\n",
    "                 alpha='auto', eta='auto',\n",
    "                 iterations=iterations, num_topics=num_topics,\n",
    "                 passes=passes, eval_every=eval_every)\n",
    "\n",
    "pyLDAvis.gensim.prepare(model, corpus, dictionary, mds='tsne')"
   ]
  },
  {
   "cell_type": "markdown",
   "metadata": {},
   "source": [
    "Upon visualizing our topics, it appears there are 7 distinct topics."
   ]
  },
  {
   "cell_type": "markdown",
   "metadata": {},
   "source": [
    "### Non-negative Matrix Factorization (NMF)\n",
    "\n",
    "NMF similarly will group each word in my bag of words matrix to one of several topics."
   ]
  },
  {
   "cell_type": "code",
   "execution_count": 54,
   "metadata": {
    "ExecuteTime": {
     "end_time": "2019-02-09T19:36:24.224214Z",
     "start_time": "2019-02-09T19:36:23.869421Z"
    }
   },
   "outputs": [
    {
     "data": {
      "text/plain": [
       "NMF(alpha=0.1, beta_loss='frobenius', init='nndsvd', l1_ratio=0.5,\n",
       "  max_iter=200, n_components=7, random_state=1, shuffle=False, solver='cd',\n",
       "  tol=0.0001, verbose=0)"
      ]
     },
     "execution_count": 54,
     "metadata": {},
     "output_type": "execute_result"
    }
   ],
   "source": [
    "no_topics = 7\n",
    "\n",
    "nmf = NMF(n_components=no_topics, random_state=1, alpha=.1, l1_ratio=.5, init='nndsvd')\n",
    "nmf.fit(X_dtm)"
   ]
  },
  {
   "cell_type": "code",
   "execution_count": 55,
   "metadata": {
    "ExecuteTime": {
     "end_time": "2019-02-09T19:36:24.231319Z",
     "start_time": "2019-02-09T19:36:24.226138Z"
    }
   },
   "outputs": [],
   "source": [
    "X_dtm_feat_names = vect.get_feature_names()"
   ]
  },
  {
   "cell_type": "code",
   "execution_count": 56,
   "metadata": {
    "ExecuteTime": {
     "end_time": "2019-02-09T19:36:24.241473Z",
     "start_time": "2019-02-09T19:36:24.233743Z"
    }
   },
   "outputs": [
    {
     "name": "stdout",
     "output_type": "stream",
     "text": [
      "Topic 1:\n",
      "little said home feel tell old long think world won mind hard yeah eyes look \n",
      "\n",
      "Topic 2:\n",
      "baby rock driver yeah ooh wanna wants tonight lovin lose try hard roll hold home \n",
      "\n",
      "Topic 3:\n",
      "need bad save really calling honey cure whoa believe live hold inside shake gotta doctor \n",
      "\n",
      "Topic 4:\n",
      "gonna ain tonight bad heaven grieve war legend alright walk gotta dance yeah live train \n",
      "\n",
      "Topic 5:\n",
      "man flesh bone gone old woman lovin faces soul jesus hand blues boss god big \n",
      "\n",
      "Topic 6:\n",
      "hey yeah alright loud wanna hear babe eyes girl blood pour gone god music old \n",
      "\n",
      "Topic 7:\n",
      "good ain nothin said count bon morning sail lose best friend save country babe word \n",
      "\n"
     ]
    }
   ],
   "source": [
    "# Divide up our data into 7 topics and print out the 15 most common words for each topic.\n",
    "def display_topics(model, feature_names, no_top_words):\n",
    "    for topic_idx, topic in enumerate(model.components_):\n",
    "        print(\"Topic {}:\".format(topic_idx + 1))\n",
    "        print(\" \".join([feature_names[i]\n",
    "                        for i in topic.argsort()[:-no_top_words - 1:-1]]), '\\n')\n",
    "\n",
    "no_top_words = 15\n",
    "display_topics(nmf, X_dtm_feat_names, no_top_words)"
   ]
  },
  {
   "cell_type": "code",
   "execution_count": 57,
   "metadata": {
    "ExecuteTime": {
     "end_time": "2019-02-09T19:36:24.250491Z",
     "start_time": "2019-02-09T19:36:24.243498Z"
    }
   },
   "outputs": [],
   "source": [
    "# Define function to get the most frequent words for each genre.\n",
    "def get_word_freq(genre, num_words):\n",
    "    allwords = []\n",
    "    for i in range(len(df_sub_train1[df_sub_train1.genre == str(genre)].clean_text.values)):\n",
    "        song_temp = df_sub_train1[df_sub_train1.genre == str(genre)].clean_text.values[i]\n",
    "        song_nlp = nlp(song_temp)\n",
    "        allwords.extend([token.lemma_ for token in song_nlp if not token.is_punct and not token.is_stop and len(token) > 3])\n",
    "    \n",
    "    print([item[0] for item in Counter(allwords).most_common(int(num_words))])"
   ]
  },
  {
   "cell_type": "code",
   "execution_count": 58,
   "metadata": {
    "ExecuteTime": {
     "end_time": "2019-02-09T19:38:05.875930Z",
     "start_time": "2019-02-09T19:36:24.252359Z"
    }
   },
   "outputs": [
    {
     "name": "stdout",
     "output_type": "stream",
     "text": [
      "country\n",
      "['love', 'know', 'time', 'like', 'come', 'go', 'heart', 'good', 'say', 'want', 'little', 'think', 'tell', 'feel', 'home']\n",
      "\n",
      "\n",
      "rock\n",
      "['love', 'know', 'like', 'come', 'time', 'baby', 'want', 'go', 'night', 'yeah', 'tell', 'good', 'feel', 'when', 'look']\n",
      "\n",
      "\n",
      "folk\n",
      "['love', 'know', 'like', 'come', 'time', 'go', 'say', 'good', 'well', 'want', 'there', 'away', 'heart', 'long', 'tell']\n",
      "\n",
      "\n",
      "pop\n",
      "['love', 'know', 'come', 'time', 'baby', 'heart', 'like', 'want', 'feel', 'find', 'tell', 'look', 'that', 'life', 'night']\n",
      "\n",
      "\n",
      "disco\n",
      "['love', 'know', 'baby', 'time', 'need', 'want', 'night', 'come', 'heart', 'life', 'feel', 'think', 'like', 'because', 'right']\n",
      "\n",
      "\n",
      "r&b\n",
      "['love', 'know', 'time', 'come', 'like', 'baby', 'night', 'good', 'feel', 'right', 'heart', 'want', 'need', 'think', 'away']\n",
      "\n",
      "\n",
      "swing\n",
      "['love', 'chee', 'know', 'heart', 'like', 'dream', 'night', 'little', 'baby', 'good', 'come', 'blue', 'kiss', 'time', 'home']\n",
      "\n",
      "\n"
     ]
    }
   ],
   "source": [
    "# Compare the most common words of each genre to the most common words by topic from NMF and LDA.\n",
    "genre_list = ['country', 'rock', 'folk', 'pop', 'disco', 'r&b', 'swing']\n",
    "\n",
    "for i in range(len(genre_list)):\n",
    "    print(genre_list[i])\n",
    "    get_word_freq(genre_list[i], 15)\n",
    "    print('\\n')"
   ]
  },
  {
   "cell_type": "markdown",
   "metadata": {},
   "source": [
    "#### Topic Analysis Conclusions\n",
    "\n",
    "It is immediately apparent that several of the top words in each genre are shared across genres. While our data does seem to fit well into 7 different topics, those topics do not appear to match up well per genre. Rather, it seems we have certain songs in each genre about certain topics."
   ]
  },
  {
   "cell_type": "markdown",
   "metadata": {},
   "source": [
    "## Supervised Approach\n",
    "\n",
    "I will use a few supervised models to see if I am able to predict a song's genre from its lyrics."
   ]
  },
  {
   "cell_type": "code",
   "execution_count": 59,
   "metadata": {
    "ExecuteTime": {
     "end_time": "2019-02-09T19:38:05.884405Z",
     "start_time": "2019-02-09T19:38:05.877530Z"
    }
   },
   "outputs": [
    {
     "data": {
      "text/html": [
       "<div>\n",
       "<style scoped>\n",
       "    .dataframe tbody tr th:only-of-type {\n",
       "        vertical-align: middle;\n",
       "    }\n",
       "\n",
       "    .dataframe tbody tr th {\n",
       "        vertical-align: top;\n",
       "    }\n",
       "\n",
       "    .dataframe thead th {\n",
       "        text-align: right;\n",
       "    }\n",
       "</style>\n",
       "<table border=\"1\" class=\"dataframe\">\n",
       "  <thead>\n",
       "    <tr style=\"text-align: right;\">\n",
       "      <th></th>\n",
       "      <th>artist</th>\n",
       "      <th>genre</th>\n",
       "      <th>clean_text</th>\n",
       "    </tr>\n",
       "  </thead>\n",
       "  <tbody>\n",
       "    <tr>\n",
       "      <th>17235</th>\n",
       "      <td>Reba Mcentire</td>\n",
       "      <td>country</td>\n",
       "      <td>When I heard that familiar voice, My heart sto...</td>\n",
       "    </tr>\n",
       "    <tr>\n",
       "      <th>13592</th>\n",
       "      <td>Nazareth</td>\n",
       "      <td>rock</td>\n",
       "      <td>May the sun, the sun shine bright May the sun ...</td>\n",
       "    </tr>\n",
       "    <tr>\n",
       "      <th>27269</th>\n",
       "      <td>Cher</td>\n",
       "      <td>pop</td>\n",
       "      <td>Do you believe? Do you believe? Do you believe...</td>\n",
       "    </tr>\n",
       "  </tbody>\n",
       "</table>\n",
       "</div>"
      ],
      "text/plain": [
       "              artist    genre  \\\n",
       "17235  Reba Mcentire  country   \n",
       "13592       Nazareth     rock   \n",
       "27269           Cher      pop   \n",
       "\n",
       "                                              clean_text  \n",
       "17235  When I heard that familiar voice, My heart sto...  \n",
       "13592  May the sun, the sun shine bright May the sun ...  \n",
       "27269  Do you believe? Do you believe? Do you believe...  "
      ]
     },
     "execution_count": 59,
     "metadata": {},
     "output_type": "execute_result"
    }
   ],
   "source": [
    "df_sub_train1.head(3)"
   ]
  },
  {
   "cell_type": "markdown",
   "metadata": {},
   "source": [
    "#### Restricted Boltzmann Machine with Logistic Regression\n",
    "\n",
    "I will first try to extract features and reduce the featurespace with RBM."
   ]
  },
  {
   "cell_type": "code",
   "execution_count": 60,
   "metadata": {
    "ExecuteTime": {
     "end_time": "2019-02-09T19:38:05.895061Z",
     "start_time": "2019-02-09T19:38:05.886495Z"
    }
   },
   "outputs": [],
   "source": [
    "from sklearn.neural_network import BernoulliRBM\n",
    "from sklearn.pipeline import Pipeline\n",
    "from sklearn import linear_model"
   ]
  },
  {
   "cell_type": "code",
   "execution_count": 61,
   "metadata": {
    "ExecuteTime": {
     "end_time": "2019-02-09T19:38:05.900908Z",
     "start_time": "2019-02-09T19:38:05.897192Z"
    }
   },
   "outputs": [],
   "source": [
    "lr = linear_model.LogisticRegression(random_state=3)\n",
    "rbm = BernoulliRBM(random_state=3, verbose=False)\n",
    "\n",
    "rbm_features_classifier = Pipeline(steps=[('rbm', rbm), ('logistic', lr)])"
   ]
  },
  {
   "cell_type": "code",
   "execution_count": 62,
   "metadata": {
    "ExecuteTime": {
     "end_time": "2019-02-09T19:38:05.906759Z",
     "start_time": "2019-02-09T19:38:05.903087Z"
    }
   },
   "outputs": [],
   "source": [
    "rbm.learning_rate = 0.3\n",
    "rbm.n_iter = 10\n",
    "rbm.n_components = 10"
   ]
  },
  {
   "cell_type": "code",
   "execution_count": 63,
   "metadata": {
    "ExecuteTime": {
     "end_time": "2019-02-09T19:38:06.374153Z",
     "start_time": "2019-02-09T19:38:05.908931Z"
    }
   },
   "outputs": [
    {
     "name": "stdout",
     "output_type": "stream",
     "text": [
      "Number of features: 1939\n"
     ]
    }
   ],
   "source": [
    "vectorizer = TfidfVectorizer(max_df=0.5, min_df=10, stop_words='english', lowercase=True, use_idf=True, norm=u'l2')\n",
    "\n",
    "lyrics_tfidf = vectorizer.fit_transform(df_sub_train1.clean_text)\n",
    "print('Number of features: {}'.format(lyrics_tfidf.get_shape()[1]))\n",
    "\n",
    "lyrics_tfidf_csr = lyrics_tfidf.tocsr()\n",
    "lyrics_norm = normalize(lyrics_tfidf_csr.toarray())"
   ]
  },
  {
   "cell_type": "code",
   "execution_count": 64,
   "metadata": {
    "ExecuteTime": {
     "end_time": "2019-02-09T19:38:06.379177Z",
     "start_time": "2019-02-09T19:38:06.376026Z"
    }
   },
   "outputs": [
    {
     "name": "stdout",
     "output_type": "stream",
     "text": [
      "(2783, 1939)\n",
      "(2783, 3)\n"
     ]
    }
   ],
   "source": [
    "print(lyrics_norm.shape)\n",
    "print(df_sub_train1.shape)"
   ]
  },
  {
   "cell_type": "code",
   "execution_count": 65,
   "metadata": {
    "ExecuteTime": {
     "end_time": "2019-02-09T19:38:08.552378Z",
     "start_time": "2019-02-09T19:38:06.380798Z"
    }
   },
   "outputs": [
    {
     "name": "stderr",
     "output_type": "stream",
     "text": [
      "/usr/local/lib/python3.7/site-packages/sklearn/linear_model/logistic.py:432: FutureWarning: Default solver will be changed to 'lbfgs' in 0.22. Specify a solver to silence this warning.\n",
      "  FutureWarning)\n",
      "/usr/local/lib/python3.7/site-packages/sklearn/linear_model/logistic.py:459: FutureWarning: Default multi_class will be changed to 'auto' in 0.22. Specify the multi_class option to silence this warning.\n",
      "  \"this warning.\", FutureWarning)\n"
     ]
    },
    {
     "data": {
      "text/plain": [
       "Pipeline(memory=None,\n",
       "     steps=[('rbm', BernoulliRBM(batch_size=10, learning_rate=0.3, n_components=10, n_iter=10,\n",
       "       random_state=3, verbose=False)), ('logistic', LogisticRegression(C=1.0, class_weight=None, dual=False, fit_intercept=True,\n",
       "          intercept_scaling=1, max_iter=100, multi_class='warn',\n",
       "          n_jobs=None, penalty='l2', random_state=3, solver='warn',\n",
       "          tol=0.0001, verbose=0, warm_start=False))])"
      ]
     },
     "execution_count": 65,
     "metadata": {},
     "output_type": "execute_result"
    }
   ],
   "source": [
    "rbm_features_classifier.fit(lyrics_norm, df_sub_train1.genre)"
   ]
  },
  {
   "cell_type": "code",
   "execution_count": 66,
   "metadata": {
    "ExecuteTime": {
     "end_time": "2019-02-09T19:38:08.577110Z",
     "start_time": "2019-02-09T19:38:08.554196Z"
    }
   },
   "outputs": [
    {
     "data": {
      "text/plain": [
       "0.30542579949694576"
      ]
     },
     "execution_count": 66,
     "metadata": {},
     "output_type": "execute_result"
    }
   ],
   "source": [
    "rbm_features_classifier.score(lyrics_norm, df_sub_train1.genre)"
   ]
  },
  {
   "cell_type": "markdown",
   "metadata": {},
   "source": [
    "#### Plain Linear Regression"
   ]
  },
  {
   "cell_type": "code",
   "execution_count": 67,
   "metadata": {
    "ExecuteTime": {
     "end_time": "2019-02-09T19:38:08.674680Z",
     "start_time": "2019-02-09T19:38:08.579015Z"
    }
   },
   "outputs": [
    {
     "name": "stdout",
     "output_type": "stream",
     "text": [
      "0.6237872799137621\n"
     ]
    },
    {
     "name": "stderr",
     "output_type": "stream",
     "text": [
      "/usr/local/lib/python3.7/site-packages/sklearn/linear_model/logistic.py:432: FutureWarning: Default solver will be changed to 'lbfgs' in 0.22. Specify a solver to silence this warning.\n",
      "  FutureWarning)\n",
      "/usr/local/lib/python3.7/site-packages/sklearn/linear_model/logistic.py:459: FutureWarning: Default multi_class will be changed to 'auto' in 0.22. Specify the multi_class option to silence this warning.\n",
      "  \"this warning.\", FutureWarning)\n"
     ]
    }
   ],
   "source": [
    "lr2 = linear_model.LogisticRegression()\n",
    "\n",
    "lr2.fit(lyrics_norm, df_sub_train1.genre)\n",
    "print(lr2.score(lyrics_norm, df_sub_train1.genre))"
   ]
  },
  {
   "cell_type": "code",
   "execution_count": 68,
   "metadata": {
    "ExecuteTime": {
     "end_time": "2019-02-09T19:38:09.101268Z",
     "start_time": "2019-02-09T19:38:08.676557Z"
    }
   },
   "outputs": [
    {
     "name": "stderr",
     "output_type": "stream",
     "text": [
      "/usr/local/lib/python3.7/site-packages/sklearn/linear_model/logistic.py:432: FutureWarning: Default solver will be changed to 'lbfgs' in 0.22. Specify a solver to silence this warning.\n",
      "  FutureWarning)\n",
      "/usr/local/lib/python3.7/site-packages/sklearn/linear_model/logistic.py:459: FutureWarning: Default multi_class will be changed to 'auto' in 0.22. Specify the multi_class option to silence this warning.\n",
      "  \"this warning.\", FutureWarning)\n",
      "/usr/local/lib/python3.7/site-packages/sklearn/linear_model/logistic.py:432: FutureWarning: Default solver will be changed to 'lbfgs' in 0.22. Specify a solver to silence this warning.\n",
      "  FutureWarning)\n",
      "/usr/local/lib/python3.7/site-packages/sklearn/linear_model/logistic.py:459: FutureWarning: Default multi_class will be changed to 'auto' in 0.22. Specify the multi_class option to silence this warning.\n",
      "  \"this warning.\", FutureWarning)\n",
      "/usr/local/lib/python3.7/site-packages/sklearn/linear_model/logistic.py:432: FutureWarning: Default solver will be changed to 'lbfgs' in 0.22. Specify a solver to silence this warning.\n",
      "  FutureWarning)\n",
      "/usr/local/lib/python3.7/site-packages/sklearn/linear_model/logistic.py:459: FutureWarning: Default multi_class will be changed to 'auto' in 0.22. Specify the multi_class option to silence this warning.\n",
      "  \"this warning.\", FutureWarning)\n",
      "/usr/local/lib/python3.7/site-packages/sklearn/linear_model/logistic.py:432: FutureWarning: Default solver will be changed to 'lbfgs' in 0.22. Specify a solver to silence this warning.\n",
      "  FutureWarning)\n",
      "/usr/local/lib/python3.7/site-packages/sklearn/linear_model/logistic.py:459: FutureWarning: Default multi_class will be changed to 'auto' in 0.22. Specify the multi_class option to silence this warning.\n",
      "  \"this warning.\", FutureWarning)\n",
      "/usr/local/lib/python3.7/site-packages/sklearn/linear_model/logistic.py:432: FutureWarning: Default solver will be changed to 'lbfgs' in 0.22. Specify a solver to silence this warning.\n",
      "  FutureWarning)\n",
      "/usr/local/lib/python3.7/site-packages/sklearn/linear_model/logistic.py:459: FutureWarning: Default multi_class will be changed to 'auto' in 0.22. Specify the multi_class option to silence this warning.\n",
      "  \"this warning.\", FutureWarning)\n"
     ]
    },
    {
     "data": {
      "text/plain": [
       "array([0.4490161 , 0.44444444, 0.4524237 , 0.42702703, 0.46931408])"
      ]
     },
     "execution_count": 68,
     "metadata": {},
     "output_type": "execute_result"
    }
   ],
   "source": [
    "cross_val_score(lr2, lyrics_norm, df_sub_train1.genre, cv=5)"
   ]
  },
  {
   "cell_type": "markdown",
   "metadata": {},
   "source": [
    "#### Random Forest"
   ]
  },
  {
   "cell_type": "code",
   "execution_count": 69,
   "metadata": {
    "ExecuteTime": {
     "end_time": "2019-02-09T19:38:11.937610Z",
     "start_time": "2019-02-09T19:38:09.103094Z"
    }
   },
   "outputs": [
    {
     "name": "stdout",
     "output_type": "stream",
     "text": [
      "1.0\n"
     ]
    }
   ],
   "source": [
    "rfc = RandomForestClassifier(n_estimators=100)\n",
    "rfc.fit(lyrics_norm, df_sub_train1.genre)\n",
    "print(rfc.score(lyrics_norm, df_sub_train1.genre))\n",
    "# Definitely overfitting."
   ]
  },
  {
   "cell_type": "code",
   "execution_count": 70,
   "metadata": {
    "ExecuteTime": {
     "end_time": "2019-02-09T19:38:21.373533Z",
     "start_time": "2019-02-09T19:38:11.939870Z"
    }
   },
   "outputs": [
    {
     "data": {
      "text/plain": [
       "array([0.45080501, 0.43189964, 0.43087971, 0.45225225, 0.44043321])"
      ]
     },
     "execution_count": 70,
     "metadata": {},
     "output_type": "execute_result"
    }
   ],
   "source": [
    "cross_val_score(rfc, lyrics_norm, df_sub_train1.genre, cv=5)"
   ]
  },
  {
   "cell_type": "code",
   "execution_count": 71,
   "metadata": {
    "ExecuteTime": {
     "end_time": "2019-02-09T19:38:37.259382Z",
     "start_time": "2019-02-09T19:38:21.375526Z"
    }
   },
   "outputs": [
    {
     "data": {
      "text/plain": [
       "array([0.37924866, 0.37992832, 0.37163375, 0.35675676, 0.36462094])"
      ]
     },
     "execution_count": 71,
     "metadata": {},
     "output_type": "execute_result"
    }
   ],
   "source": [
    "rfc2 = RandomForestClassifier(n_estimators=100)\n",
    "cross_val_score(rfc2, X_lsa, df_sub_train1.genre, cv=5)"
   ]
  },
  {
   "cell_type": "markdown",
   "metadata": {},
   "source": [
    "#### Support Vector Machines"
   ]
  },
  {
   "cell_type": "code",
   "execution_count": 73,
   "metadata": {
    "ExecuteTime": {
     "end_time": "2019-02-10T02:37:17.385440Z",
     "start_time": "2019-02-10T02:34:59.199549Z"
    }
   },
   "outputs": [
    {
     "name": "stdout",
     "output_type": "stream",
     "text": [
      "0.7215235357527847\n",
      "[0.4686941  0.4516129  0.45421903 0.43063063 0.47292419]\n"
     ]
    }
   ],
   "source": [
    "svm = SVC(kernel='linear', random_state=3)\n",
    "svm.fit(lyrics_norm, df_sub_train1.genre)\n",
    "print(svm.score(lyrics_norm, df_sub_train1.genre))\n",
    "\n",
    "print(cross_val_score(svm, lyrics_norm, df_sub_train1.genre, cv=5))"
   ]
  },
  {
   "cell_type": "markdown",
   "metadata": {},
   "source": [
    "# Conclusions"
   ]
  },
  {
   "cell_type": "markdown",
   "metadata": {},
   "source": [
    "The initial unsupervised models, k-means, mean-shift, and spectral clustering, were unable to detect underlying clusters representing the seven music genres in the data. Similarly, the supervised models all performed poorly in predicting genre. This may have been the case for two reasons. The first is that those types of unsupervised models are not well-suited for the sparse BoW data produced by TFIDF and CountVectorizer. The second is that lyrics may simply not differ enough from genre to genre to allow for distinctions to be made between different genres. \n",
    "\n",
    "To address the first concern, I used Latent Dirichlet Allocation and Non-negative Matrix Factorization, which, as topic modeling techniques, are much better suited for this type of unsupervised modeling. LDA indeed was able to cluster our collection of song lyrics into seven different \"topics.\" Providing NMF with the mandate to divide our words into seven topics, similarly shows distinct topics do exist in the data.\n",
    "\n",
    "However, upon comparing the most common words in each of these models' topics with the most common words in each genre, there appears to be little overlap. As stated above, the situation may be such that words are not restricted to a certain genre, and that there is an overlapping of topics between music genres. Logically, this also does make some sense.\n",
    "\n",
    "Therefore, it appears we cannot disprove the second reason, that the lyrics may not differ enough."
   ]
  },
  {
   "cell_type": "markdown",
   "metadata": {},
   "source": [
    "# Next Steps"
   ]
  },
  {
   "cell_type": "markdown",
   "metadata": {},
   "source": [
    "- Including more lyrics data may help our models improve. I only included the top twenty artists, but there are over 50,000 more songs in the dataset. The downside here would be the need to classify each by hand in order to provide some ground truth. \n",
    "- Reducing what we are trying to classify may improve performance. Making the classification task binary between very different types of music may be easier for the models to identify.\n",
    "- Adjusting our featurespace to include other, non-word-specific features such as song length or even number of verses or choruses in a song may improve clustering."
   ]
  }
 ],
 "metadata": {
  "kernelspec": {
   "display_name": "Python 3",
   "language": "python",
   "name": "python3"
  },
  "language_info": {
   "codemirror_mode": {
    "name": "ipython",
    "version": 3
   },
   "file_extension": ".py",
   "mimetype": "text/x-python",
   "name": "python",
   "nbconvert_exporter": "python",
   "pygments_lexer": "ipython3",
   "version": "3.7.1"
  },
  "toc": {
   "base_numbering": 1,
   "nav_menu": {},
   "number_sections": false,
   "sideBar": true,
   "skip_h1_title": false,
   "title_cell": "Table of Contents",
   "title_sidebar": "Contents",
   "toc_cell": false,
   "toc_position": {
    "height": "calc(100% - 180px)",
    "left": "10px",
    "top": "150px",
    "width": "242px"
   },
   "toc_section_display": true,
   "toc_window_display": true
  },
  "varInspector": {
   "cols": {
    "lenName": 16,
    "lenType": 16,
    "lenVar": 40
   },
   "kernels_config": {
    "python": {
     "delete_cmd_postfix": "",
     "delete_cmd_prefix": "del ",
     "library": "var_list.py",
     "varRefreshCmd": "print(var_dic_list())"
    },
    "r": {
     "delete_cmd_postfix": ") ",
     "delete_cmd_prefix": "rm(",
     "library": "var_list.r",
     "varRefreshCmd": "cat(var_dic_list()) "
    }
   },
   "types_to_exclude": [
    "module",
    "function",
    "builtin_function_or_method",
    "instance",
    "_Feature"
   ],
   "window_display": false
  }
 },
 "nbformat": 4,
 "nbformat_minor": 2
}
